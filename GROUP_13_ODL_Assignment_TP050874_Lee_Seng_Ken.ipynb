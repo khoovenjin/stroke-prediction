{
  "nbformat": 4,
  "nbformat_minor": 0,
  "metadata": {
    "colab": {
      "name": "GROUP 13 ODL Assignment TP050874 Lee Seng Ken",
      "provenance": []
    },
    "kernelspec": {
      "name": "python3",
      "display_name": "Python 3"
    },
    "language_info": {
      "name": "python"
    }
  },
  "cells": [
    {
      "cell_type": "code",
      "execution_count": null,
      "metadata": {
        "id": "s4Eger9Q9sGg"
      },
      "outputs": [],
      "source": [
        "# GROUP 13 ODL Assignment\n",
        "# Team Member\n",
        "# Lee Seng Ken TP050874\n",
        "# Lai Yen Fong TP050853\n",
        "# Khoo Ven Jin TP051207"
      ]
    },
    {
      "cell_type": "markdown",
      "source": [
        "DATA PREPROCESSING\n",
        "\n",
        "Data: Kaggle = https://www.kaggle.com/datasets/fedesoriano/stroke-prediction-dataset?resource=download\n",
        "\n",
        "Description: This dataset is used to predict whether a patient is likely to get stroke based on the input parameters like gender, age, various diseases, and smoking status.\n",
        "\n",
        "Target Variable: Stroke (Binary)"
      ],
      "metadata": {
        "id": "0yfhFYqY-KYX"
      }
    },
    {
      "cell_type": "code",
      "source": [
        "import pandas as pd\n",
        "import numpy as np\n",
        "import matplotlib.pyplot as plt\n",
        "import seaborn as sns"
      ],
      "metadata": {
        "id": "l1vcQTpSYCud"
      },
      "execution_count": null,
      "outputs": []
    },
    {
      "cell_type": "code",
      "execution_count": null,
      "metadata": {
        "colab": {
          "base_uri": "https://localhost:8080/",
          "height": 206
        },
        "id": "EbtB8s8_pcLt",
        "outputId": "bbcb3c8d-3496-424d-babf-805f33591928"
      },
      "outputs": [
        {
          "output_type": "execute_result",
          "data": {
            "text/plain": [
              "      id  gender   age  hypertension  heart_disease ever_married  \\\n",
              "0   9046    Male  67.0             0              1          Yes   \n",
              "1  51676  Female  61.0             0              0          Yes   \n",
              "2  31112    Male  80.0             0              1          Yes   \n",
              "3  60182  Female  49.0             0              0          Yes   \n",
              "4   1665  Female  79.0             1              0          Yes   \n",
              "\n",
              "       work_type Residence_type  avg_glucose_level   bmi   smoking_status  \\\n",
              "0        Private          Urban             228.69  36.6  formerly smoked   \n",
              "1  Self-employed          Rural             202.21   NaN     never smoked   \n",
              "2        Private          Rural             105.92  32.5     never smoked   \n",
              "3        Private          Urban             171.23  34.4           smokes   \n",
              "4  Self-employed          Rural             174.12  24.0     never smoked   \n",
              "\n",
              "   stroke  \n",
              "0       1  \n",
              "1       1  \n",
              "2       1  \n",
              "3       1  \n",
              "4       1  "
            ],
            "text/html": [
              "\n",
              "  <div id=\"df-89dc64fd-0919-41ca-a63f-50c54b0ef855\">\n",
              "    <div class=\"colab-df-container\">\n",
              "      <div>\n",
              "<style scoped>\n",
              "    .dataframe tbody tr th:only-of-type {\n",
              "        vertical-align: middle;\n",
              "    }\n",
              "\n",
              "    .dataframe tbody tr th {\n",
              "        vertical-align: top;\n",
              "    }\n",
              "\n",
              "    .dataframe thead th {\n",
              "        text-align: right;\n",
              "    }\n",
              "</style>\n",
              "<table border=\"1\" class=\"dataframe\">\n",
              "  <thead>\n",
              "    <tr style=\"text-align: right;\">\n",
              "      <th></th>\n",
              "      <th>id</th>\n",
              "      <th>gender</th>\n",
              "      <th>age</th>\n",
              "      <th>hypertension</th>\n",
              "      <th>heart_disease</th>\n",
              "      <th>ever_married</th>\n",
              "      <th>work_type</th>\n",
              "      <th>Residence_type</th>\n",
              "      <th>avg_glucose_level</th>\n",
              "      <th>bmi</th>\n",
              "      <th>smoking_status</th>\n",
              "      <th>stroke</th>\n",
              "    </tr>\n",
              "  </thead>\n",
              "  <tbody>\n",
              "    <tr>\n",
              "      <th>0</th>\n",
              "      <td>9046</td>\n",
              "      <td>Male</td>\n",
              "      <td>67.0</td>\n",
              "      <td>0</td>\n",
              "      <td>1</td>\n",
              "      <td>Yes</td>\n",
              "      <td>Private</td>\n",
              "      <td>Urban</td>\n",
              "      <td>228.69</td>\n",
              "      <td>36.6</td>\n",
              "      <td>formerly smoked</td>\n",
              "      <td>1</td>\n",
              "    </tr>\n",
              "    <tr>\n",
              "      <th>1</th>\n",
              "      <td>51676</td>\n",
              "      <td>Female</td>\n",
              "      <td>61.0</td>\n",
              "      <td>0</td>\n",
              "      <td>0</td>\n",
              "      <td>Yes</td>\n",
              "      <td>Self-employed</td>\n",
              "      <td>Rural</td>\n",
              "      <td>202.21</td>\n",
              "      <td>NaN</td>\n",
              "      <td>never smoked</td>\n",
              "      <td>1</td>\n",
              "    </tr>\n",
              "    <tr>\n",
              "      <th>2</th>\n",
              "      <td>31112</td>\n",
              "      <td>Male</td>\n",
              "      <td>80.0</td>\n",
              "      <td>0</td>\n",
              "      <td>1</td>\n",
              "      <td>Yes</td>\n",
              "      <td>Private</td>\n",
              "      <td>Rural</td>\n",
              "      <td>105.92</td>\n",
              "      <td>32.5</td>\n",
              "      <td>never smoked</td>\n",
              "      <td>1</td>\n",
              "    </tr>\n",
              "    <tr>\n",
              "      <th>3</th>\n",
              "      <td>60182</td>\n",
              "      <td>Female</td>\n",
              "      <td>49.0</td>\n",
              "      <td>0</td>\n",
              "      <td>0</td>\n",
              "      <td>Yes</td>\n",
              "      <td>Private</td>\n",
              "      <td>Urban</td>\n",
              "      <td>171.23</td>\n",
              "      <td>34.4</td>\n",
              "      <td>smokes</td>\n",
              "      <td>1</td>\n",
              "    </tr>\n",
              "    <tr>\n",
              "      <th>4</th>\n",
              "      <td>1665</td>\n",
              "      <td>Female</td>\n",
              "      <td>79.0</td>\n",
              "      <td>1</td>\n",
              "      <td>0</td>\n",
              "      <td>Yes</td>\n",
              "      <td>Self-employed</td>\n",
              "      <td>Rural</td>\n",
              "      <td>174.12</td>\n",
              "      <td>24.0</td>\n",
              "      <td>never smoked</td>\n",
              "      <td>1</td>\n",
              "    </tr>\n",
              "  </tbody>\n",
              "</table>\n",
              "</div>\n",
              "      <button class=\"colab-df-convert\" onclick=\"convertToInteractive('df-89dc64fd-0919-41ca-a63f-50c54b0ef855')\"\n",
              "              title=\"Convert this dataframe to an interactive table.\"\n",
              "              style=\"display:none;\">\n",
              "        \n",
              "  <svg xmlns=\"http://www.w3.org/2000/svg\" height=\"24px\"viewBox=\"0 0 24 24\"\n",
              "       width=\"24px\">\n",
              "    <path d=\"M0 0h24v24H0V0z\" fill=\"none\"/>\n",
              "    <path d=\"M18.56 5.44l.94 2.06.94-2.06 2.06-.94-2.06-.94-.94-2.06-.94 2.06-2.06.94zm-11 1L8.5 8.5l.94-2.06 2.06-.94-2.06-.94L8.5 2.5l-.94 2.06-2.06.94zm10 10l.94 2.06.94-2.06 2.06-.94-2.06-.94-.94-2.06-.94 2.06-2.06.94z\"/><path d=\"M17.41 7.96l-1.37-1.37c-.4-.4-.92-.59-1.43-.59-.52 0-1.04.2-1.43.59L10.3 9.45l-7.72 7.72c-.78.78-.78 2.05 0 2.83L4 21.41c.39.39.9.59 1.41.59.51 0 1.02-.2 1.41-.59l7.78-7.78 2.81-2.81c.8-.78.8-2.07 0-2.86zM5.41 20L4 18.59l7.72-7.72 1.47 1.35L5.41 20z\"/>\n",
              "  </svg>\n",
              "      </button>\n",
              "      \n",
              "  <style>\n",
              "    .colab-df-container {\n",
              "      display:flex;\n",
              "      flex-wrap:wrap;\n",
              "      gap: 12px;\n",
              "    }\n",
              "\n",
              "    .colab-df-convert {\n",
              "      background-color: #E8F0FE;\n",
              "      border: none;\n",
              "      border-radius: 50%;\n",
              "      cursor: pointer;\n",
              "      display: none;\n",
              "      fill: #1967D2;\n",
              "      height: 32px;\n",
              "      padding: 0 0 0 0;\n",
              "      width: 32px;\n",
              "    }\n",
              "\n",
              "    .colab-df-convert:hover {\n",
              "      background-color: #E2EBFA;\n",
              "      box-shadow: 0px 1px 2px rgba(60, 64, 67, 0.3), 0px 1px 3px 1px rgba(60, 64, 67, 0.15);\n",
              "      fill: #174EA6;\n",
              "    }\n",
              "\n",
              "    [theme=dark] .colab-df-convert {\n",
              "      background-color: #3B4455;\n",
              "      fill: #D2E3FC;\n",
              "    }\n",
              "\n",
              "    [theme=dark] .colab-df-convert:hover {\n",
              "      background-color: #434B5C;\n",
              "      box-shadow: 0px 1px 3px 1px rgba(0, 0, 0, 0.15);\n",
              "      filter: drop-shadow(0px 1px 2px rgba(0, 0, 0, 0.3));\n",
              "      fill: #FFFFFF;\n",
              "    }\n",
              "  </style>\n",
              "\n",
              "      <script>\n",
              "        const buttonEl =\n",
              "          document.querySelector('#df-89dc64fd-0919-41ca-a63f-50c54b0ef855 button.colab-df-convert');\n",
              "        buttonEl.style.display =\n",
              "          google.colab.kernel.accessAllowed ? 'block' : 'none';\n",
              "\n",
              "        async function convertToInteractive(key) {\n",
              "          const element = document.querySelector('#df-89dc64fd-0919-41ca-a63f-50c54b0ef855');\n",
              "          const dataTable =\n",
              "            await google.colab.kernel.invokeFunction('convertToInteractive',\n",
              "                                                     [key], {});\n",
              "          if (!dataTable) return;\n",
              "\n",
              "          const docLinkHtml = 'Like what you see? Visit the ' +\n",
              "            '<a target=\"_blank\" href=https://colab.research.google.com/notebooks/data_table.ipynb>data table notebook</a>'\n",
              "            + ' to learn more about interactive tables.';\n",
              "          element.innerHTML = '';\n",
              "          dataTable['output_type'] = 'display_data';\n",
              "          await google.colab.output.renderOutput(dataTable, element);\n",
              "          const docLink = document.createElement('div');\n",
              "          docLink.innerHTML = docLinkHtml;\n",
              "          element.appendChild(docLink);\n",
              "        }\n",
              "      </script>\n",
              "    </div>\n",
              "  </div>\n",
              "  "
            ]
          },
          "metadata": {},
          "execution_count": 57
        }
      ],
      "source": [
        "# Data Preprocessing\n",
        "#\n",
        "# Problem Statement: To predict the likeliness of a patient to encounter stroke\n",
        "# with 0 being 'not likely' and 1 being 'likely'\n",
        "#\n",
        "# Purpose: Remove any anomalies spotted in EDA so that the data is more accurate\n",
        "# to solve the problem statement\n",
        "#\n",
        "# Flow: EDA -> Data Preprocessing\n",
        "#\n",
        "# Steps Taken:\n",
        "# 1) Understand and explore scope of data (use: shape for dimensions, info to check data_types,\n",
        "# describe to view proportion of numerical data, unique/nunique to check unique data of classification attributes)\n",
        "#\n",
        "# 2) Adjust Incorrect Attribute Data Types (Optional: If needed, checked in info, unique)\n",
        "# Reason to wrong data type: could be typo error, mispell, capitalization, wrong format,\n",
        "# misinterpretation of attribute during data fill-ups etc.\n",
        "# Steps: detect the rows involved -> replace value with attribute's mean -> re-check data_type (either replace or astype)\n",
        "# \n",
        "# 3) Handle Duplication Data (Deletion, mostly CATEGORICAL/string)\n",
        "# Reason to duplication: could be database or function problem, runtime issue, human mistakes (customer inputs twice)\n",
        "# Steps: identify attribute data that CANNOT be duplicated (e.g: id) -> detect duplicated attribute data (column) ->\n",
        "# detect duplicated records (rows) -> delete duplication (use drop w/ axis) \n",
        "#\n",
        "# 4) Perform 1st EDA (visually & statistically detect & remove outliers)\n",
        "# Reason to EDA: To explore patterns, find out anomalies such as outliers, and test hypothesis and early assumptions which\n",
        "# further helps in understanding the data to make better future analysis\n",
        "# Steps: do Descriptive Statistical Information (done w/ describe; compare std w/ mean) -> highlight attributes w/ outlier (min & max) ->\n",
        "# plot boxplot, histogram, scatterplot (to verify) -> detect rows/col involved -> decision to remove or replace (use drop or replace) ->\n",
        "# re-check EDA\n",
        "#\n",
        "# (VERY IMPORTANT: We put removing outliers before handling missing data because if we decide\n",
        "# to impute missing data with mean, the imputed data is affected by the outlier's value)\n",
        "# 5) Handle Missing Data (Deletion or Imputation)\n",
        "# Reason to missing data: could be sensitive data, typo error etc.\n",
        "# Steps: detect rows/col involved -> decision to delete or impute based on %/No. of Missing ->\n",
        "# delete/impute data (use isnull/fillna/simpleimputer)\n",
        "#\n",
        "# 6) Perform Label Encoding (for Categorical data)\n",
        "# Reason: to convert string data into numerical data so that is readable by binary machine\n",
        "# Steps: detect col involved -> do label encoding (use simpleEncoder, factorize, onehotencoder)\n",
        "#\n",
        "# 7) Perform Variable Assignment (x and y dataset)\n",
        "# Reason: to select suitable input dataset which influences target variable dataset\n",
        "# Steps: check significance of x to y (use OSL) -> remove low significance -> check correlation between attributes (use corrs, heatmap) ->\n",
        "# take 1 high correlated attribute -> assign inputs to x, assign TV to y (use select, iloc) -> recheck significance (OSL)\n",
        "#\n",
        "# 8) Perform Class Balancing (for Categorical data)\n",
        "# Steps: detect TV -> do class balancing (over-sampling or under-sampling)\n",
        "#\n",
        "# 9) Perform Normalization (for NN)\n",
        "# Reason: to obtain mean close to 0 via scale down, so that learning rate is optimal and faster convergence\n",
        "# Steps: normalize x -> check normalized_x (use normalize)\n",
        "#\n",
        "# 10) Perform Data Splitting (train set, test set, x, y)\n",
        "# Reason: to split train and test dataset; train set use to build model with default hyperparameter algorithm;\n",
        "# test set use to get predicted values to be evaluated against actual y value\n",
        "# Steps: split x and y into trainx, testx, trainy, testy (define split ratio and random state)\n",
        "#\n",
        "# 11) Build and Train Model Solution (w/ DL algorithm selected)\n",
        "# Reason: to get equation of solution to solve the problem statement\n",
        "# Steps: select algorithm -> set hyperparameters -> fit and transform -> predict using testx \n",
        "#\n",
        "# 12) Evaluate Result (Numerical or Categorical)\n",
        "# Reason: to evaluate the 'accuracy' or how optimal or trustworthy is the model solution to solve the problem\n",
        "# Steps: select score -> evaluate ypred against yactual\n",
        "#\n",
        "# 13) Perform Optimization and HyperParameterTuning (search for better model)\n",
        "# Reason: to improve the accuracy of the model to solve the problem statement\n",
        "# Steps: select suitable method -> search for optimal hyperparameters -> build the optimal model ->\n",
        "# evaluate optimal result vs previous result -> Present findings via plottings\n",
        "# \n",
        "# Load Dataset using pandas\n",
        "data = pd.read_csv('/content/healthcare-dataset-stroke-data.csv')\n",
        "\n",
        "# View first 5 rows\n",
        "data.head()"
      ]
    },
    {
      "cell_type": "code",
      "source": [
        "# STEP 1 (Understand and explore scope of data)\n",
        "#\n",
        "# View data dimensions (row, column)\n",
        "\n",
        "count_label = np.asarray(['No. of Records', 'No. of Columns:'])\n",
        "\n",
        "dict_created = {}\n",
        "for index, i in enumerate(count_label):\n",
        "    dict_created[i] = data.shape[index]\n",
        "\n",
        "pd.DataFrame(dict_created,index=[\"count\"]).transpose()"
      ],
      "metadata": {
        "colab": {
          "base_uri": "https://localhost:8080/",
          "height": 112
        },
        "id": "msg2DkLyHI_b",
        "outputId": "f7d1a5ba-a03b-403d-c69e-2b12df0ad19d"
      },
      "execution_count": null,
      "outputs": [
        {
          "output_type": "execute_result",
          "data": {
            "text/plain": [
              "                 count\n",
              "No. of Records    5110\n",
              "No. of Columns:     12"
            ],
            "text/html": [
              "\n",
              "  <div id=\"df-8720a0a7-7b7d-4b01-8288-31d7a8b7602c\">\n",
              "    <div class=\"colab-df-container\">\n",
              "      <div>\n",
              "<style scoped>\n",
              "    .dataframe tbody tr th:only-of-type {\n",
              "        vertical-align: middle;\n",
              "    }\n",
              "\n",
              "    .dataframe tbody tr th {\n",
              "        vertical-align: top;\n",
              "    }\n",
              "\n",
              "    .dataframe thead th {\n",
              "        text-align: right;\n",
              "    }\n",
              "</style>\n",
              "<table border=\"1\" class=\"dataframe\">\n",
              "  <thead>\n",
              "    <tr style=\"text-align: right;\">\n",
              "      <th></th>\n",
              "      <th>count</th>\n",
              "    </tr>\n",
              "  </thead>\n",
              "  <tbody>\n",
              "    <tr>\n",
              "      <th>No. of Records</th>\n",
              "      <td>5110</td>\n",
              "    </tr>\n",
              "    <tr>\n",
              "      <th>No. of Columns:</th>\n",
              "      <td>12</td>\n",
              "    </tr>\n",
              "  </tbody>\n",
              "</table>\n",
              "</div>\n",
              "      <button class=\"colab-df-convert\" onclick=\"convertToInteractive('df-8720a0a7-7b7d-4b01-8288-31d7a8b7602c')\"\n",
              "              title=\"Convert this dataframe to an interactive table.\"\n",
              "              style=\"display:none;\">\n",
              "        \n",
              "  <svg xmlns=\"http://www.w3.org/2000/svg\" height=\"24px\"viewBox=\"0 0 24 24\"\n",
              "       width=\"24px\">\n",
              "    <path d=\"M0 0h24v24H0V0z\" fill=\"none\"/>\n",
              "    <path d=\"M18.56 5.44l.94 2.06.94-2.06 2.06-.94-2.06-.94-.94-2.06-.94 2.06-2.06.94zm-11 1L8.5 8.5l.94-2.06 2.06-.94-2.06-.94L8.5 2.5l-.94 2.06-2.06.94zm10 10l.94 2.06.94-2.06 2.06-.94-2.06-.94-.94-2.06-.94 2.06-2.06.94z\"/><path d=\"M17.41 7.96l-1.37-1.37c-.4-.4-.92-.59-1.43-.59-.52 0-1.04.2-1.43.59L10.3 9.45l-7.72 7.72c-.78.78-.78 2.05 0 2.83L4 21.41c.39.39.9.59 1.41.59.51 0 1.02-.2 1.41-.59l7.78-7.78 2.81-2.81c.8-.78.8-2.07 0-2.86zM5.41 20L4 18.59l7.72-7.72 1.47 1.35L5.41 20z\"/>\n",
              "  </svg>\n",
              "      </button>\n",
              "      \n",
              "  <style>\n",
              "    .colab-df-container {\n",
              "      display:flex;\n",
              "      flex-wrap:wrap;\n",
              "      gap: 12px;\n",
              "    }\n",
              "\n",
              "    .colab-df-convert {\n",
              "      background-color: #E8F0FE;\n",
              "      border: none;\n",
              "      border-radius: 50%;\n",
              "      cursor: pointer;\n",
              "      display: none;\n",
              "      fill: #1967D2;\n",
              "      height: 32px;\n",
              "      padding: 0 0 0 0;\n",
              "      width: 32px;\n",
              "    }\n",
              "\n",
              "    .colab-df-convert:hover {\n",
              "      background-color: #E2EBFA;\n",
              "      box-shadow: 0px 1px 2px rgba(60, 64, 67, 0.3), 0px 1px 3px 1px rgba(60, 64, 67, 0.15);\n",
              "      fill: #174EA6;\n",
              "    }\n",
              "\n",
              "    [theme=dark] .colab-df-convert {\n",
              "      background-color: #3B4455;\n",
              "      fill: #D2E3FC;\n",
              "    }\n",
              "\n",
              "    [theme=dark] .colab-df-convert:hover {\n",
              "      background-color: #434B5C;\n",
              "      box-shadow: 0px 1px 3px 1px rgba(0, 0, 0, 0.15);\n",
              "      filter: drop-shadow(0px 1px 2px rgba(0, 0, 0, 0.3));\n",
              "      fill: #FFFFFF;\n",
              "    }\n",
              "  </style>\n",
              "\n",
              "      <script>\n",
              "        const buttonEl =\n",
              "          document.querySelector('#df-8720a0a7-7b7d-4b01-8288-31d7a8b7602c button.colab-df-convert');\n",
              "        buttonEl.style.display =\n",
              "          google.colab.kernel.accessAllowed ? 'block' : 'none';\n",
              "\n",
              "        async function convertToInteractive(key) {\n",
              "          const element = document.querySelector('#df-8720a0a7-7b7d-4b01-8288-31d7a8b7602c');\n",
              "          const dataTable =\n",
              "            await google.colab.kernel.invokeFunction('convertToInteractive',\n",
              "                                                     [key], {});\n",
              "          if (!dataTable) return;\n",
              "\n",
              "          const docLinkHtml = 'Like what you see? Visit the ' +\n",
              "            '<a target=\"_blank\" href=https://colab.research.google.com/notebooks/data_table.ipynb>data table notebook</a>'\n",
              "            + ' to learn more about interactive tables.';\n",
              "          element.innerHTML = '';\n",
              "          dataTable['output_type'] = 'display_data';\n",
              "          await google.colab.output.renderOutput(dataTable, element);\n",
              "          const docLink = document.createElement('div');\n",
              "          docLink.innerHTML = docLinkHtml;\n",
              "          element.appendChild(docLink);\n",
              "        }\n",
              "      </script>\n",
              "    </div>\n",
              "  </div>\n",
              "  "
            ]
          },
          "metadata": {},
          "execution_count": 58
        }
      ]
    },
    {
      "cell_type": "code",
      "source": [
        "# Understand the variables or column exist within the dataset\n",
        "#\n",
        "# List down all the name of the columns within the dataset\n",
        "data.columns"
      ],
      "metadata": {
        "colab": {
          "base_uri": "https://localhost:8080/"
        },
        "id": "wpo195CGpmOm",
        "outputId": "3fbef753-7936-4120-c00b-1c4c19aaaa90"
      },
      "execution_count": null,
      "outputs": [
        {
          "output_type": "execute_result",
          "data": {
            "text/plain": [
              "Index(['id', 'gender', 'age', 'hypertension', 'heart_disease', 'ever_married',\n",
              "       'work_type', 'Residence_type', 'avg_glucose_level', 'bmi',\n",
              "       'smoking_status', 'stroke'],\n",
              "      dtype='object')"
            ]
          },
          "metadata": {},
          "execution_count": 59
        }
      ]
    },
    {
      "cell_type": "code",
      "source": [
        "# STEP 2 (Adjust Incorrect Attribute Data Types)\n",
        "#\n",
        "# Check data types\n",
        "# Verdict: All attributes are in correct data type, 7 int types, 5 string\n",
        "data.info()"
      ],
      "metadata": {
        "colab": {
          "base_uri": "https://localhost:8080/"
        },
        "id": "OPVTscLtIDgk",
        "outputId": "36373729-8b86-438c-8aa8-f4bbd9f872d4"
      },
      "execution_count": null,
      "outputs": [
        {
          "output_type": "stream",
          "name": "stdout",
          "text": [
            "<class 'pandas.core.frame.DataFrame'>\n",
            "RangeIndex: 5110 entries, 0 to 5109\n",
            "Data columns (total 12 columns):\n",
            " #   Column             Non-Null Count  Dtype  \n",
            "---  ------             --------------  -----  \n",
            " 0   id                 5110 non-null   int64  \n",
            " 1   gender             5110 non-null   object \n",
            " 2   age                5110 non-null   float64\n",
            " 3   hypertension       5110 non-null   int64  \n",
            " 4   heart_disease      5110 non-null   int64  \n",
            " 5   ever_married       5110 non-null   object \n",
            " 6   work_type          5110 non-null   object \n",
            " 7   Residence_type     5110 non-null   object \n",
            " 8   avg_glucose_level  5110 non-null   float64\n",
            " 9   bmi                4909 non-null   float64\n",
            " 10  smoking_status     5110 non-null   object \n",
            " 11  stroke             5110 non-null   int64  \n",
            "dtypes: float64(3), int64(4), object(5)\n",
            "memory usage: 479.2+ KB\n"
          ]
        }
      ]
    },
    {
      "cell_type": "code",
      "source": [
        "# View number of unique data in each attribute\n",
        "# Verdicts:\n",
        "# 1) From this, take low unique count and display unique data to validate value\n",
        "dict_created = {}\n",
        "for i in list(data.columns):\n",
        "    dict_created[i] = data[i].value_counts().shape[0]\n",
        "\n",
        "pd.DataFrame(dict_created,index=[\"unique count\"]).transpose()"
      ],
      "metadata": {
        "colab": {
          "base_uri": "https://localhost:8080/",
          "height": 425
        },
        "id": "Lz6cvugMEPMe",
        "outputId": "b04ac23d-9170-4463-e76f-0f93f6a7a105"
      },
      "execution_count": null,
      "outputs": [
        {
          "output_type": "execute_result",
          "data": {
            "text/plain": [
              "                   unique count\n",
              "id                         5110\n",
              "gender                        3\n",
              "age                         104\n",
              "hypertension                  2\n",
              "heart_disease                 2\n",
              "ever_married                  2\n",
              "work_type                     5\n",
              "Residence_type                2\n",
              "avg_glucose_level          3979\n",
              "bmi                         418\n",
              "smoking_status                4\n",
              "stroke                        2"
            ],
            "text/html": [
              "\n",
              "  <div id=\"df-faec303e-c3a5-4032-a1bd-2e817d8faee0\">\n",
              "    <div class=\"colab-df-container\">\n",
              "      <div>\n",
              "<style scoped>\n",
              "    .dataframe tbody tr th:only-of-type {\n",
              "        vertical-align: middle;\n",
              "    }\n",
              "\n",
              "    .dataframe tbody tr th {\n",
              "        vertical-align: top;\n",
              "    }\n",
              "\n",
              "    .dataframe thead th {\n",
              "        text-align: right;\n",
              "    }\n",
              "</style>\n",
              "<table border=\"1\" class=\"dataframe\">\n",
              "  <thead>\n",
              "    <tr style=\"text-align: right;\">\n",
              "      <th></th>\n",
              "      <th>unique count</th>\n",
              "    </tr>\n",
              "  </thead>\n",
              "  <tbody>\n",
              "    <tr>\n",
              "      <th>id</th>\n",
              "      <td>5110</td>\n",
              "    </tr>\n",
              "    <tr>\n",
              "      <th>gender</th>\n",
              "      <td>3</td>\n",
              "    </tr>\n",
              "    <tr>\n",
              "      <th>age</th>\n",
              "      <td>104</td>\n",
              "    </tr>\n",
              "    <tr>\n",
              "      <th>hypertension</th>\n",
              "      <td>2</td>\n",
              "    </tr>\n",
              "    <tr>\n",
              "      <th>heart_disease</th>\n",
              "      <td>2</td>\n",
              "    </tr>\n",
              "    <tr>\n",
              "      <th>ever_married</th>\n",
              "      <td>2</td>\n",
              "    </tr>\n",
              "    <tr>\n",
              "      <th>work_type</th>\n",
              "      <td>5</td>\n",
              "    </tr>\n",
              "    <tr>\n",
              "      <th>Residence_type</th>\n",
              "      <td>2</td>\n",
              "    </tr>\n",
              "    <tr>\n",
              "      <th>avg_glucose_level</th>\n",
              "      <td>3979</td>\n",
              "    </tr>\n",
              "    <tr>\n",
              "      <th>bmi</th>\n",
              "      <td>418</td>\n",
              "    </tr>\n",
              "    <tr>\n",
              "      <th>smoking_status</th>\n",
              "      <td>4</td>\n",
              "    </tr>\n",
              "    <tr>\n",
              "      <th>stroke</th>\n",
              "      <td>2</td>\n",
              "    </tr>\n",
              "  </tbody>\n",
              "</table>\n",
              "</div>\n",
              "      <button class=\"colab-df-convert\" onclick=\"convertToInteractive('df-faec303e-c3a5-4032-a1bd-2e817d8faee0')\"\n",
              "              title=\"Convert this dataframe to an interactive table.\"\n",
              "              style=\"display:none;\">\n",
              "        \n",
              "  <svg xmlns=\"http://www.w3.org/2000/svg\" height=\"24px\"viewBox=\"0 0 24 24\"\n",
              "       width=\"24px\">\n",
              "    <path d=\"M0 0h24v24H0V0z\" fill=\"none\"/>\n",
              "    <path d=\"M18.56 5.44l.94 2.06.94-2.06 2.06-.94-2.06-.94-.94-2.06-.94 2.06-2.06.94zm-11 1L8.5 8.5l.94-2.06 2.06-.94-2.06-.94L8.5 2.5l-.94 2.06-2.06.94zm10 10l.94 2.06.94-2.06 2.06-.94-2.06-.94-.94-2.06-.94 2.06-2.06.94z\"/><path d=\"M17.41 7.96l-1.37-1.37c-.4-.4-.92-.59-1.43-.59-.52 0-1.04.2-1.43.59L10.3 9.45l-7.72 7.72c-.78.78-.78 2.05 0 2.83L4 21.41c.39.39.9.59 1.41.59.51 0 1.02-.2 1.41-.59l7.78-7.78 2.81-2.81c.8-.78.8-2.07 0-2.86zM5.41 20L4 18.59l7.72-7.72 1.47 1.35L5.41 20z\"/>\n",
              "  </svg>\n",
              "      </button>\n",
              "      \n",
              "  <style>\n",
              "    .colab-df-container {\n",
              "      display:flex;\n",
              "      flex-wrap:wrap;\n",
              "      gap: 12px;\n",
              "    }\n",
              "\n",
              "    .colab-df-convert {\n",
              "      background-color: #E8F0FE;\n",
              "      border: none;\n",
              "      border-radius: 50%;\n",
              "      cursor: pointer;\n",
              "      display: none;\n",
              "      fill: #1967D2;\n",
              "      height: 32px;\n",
              "      padding: 0 0 0 0;\n",
              "      width: 32px;\n",
              "    }\n",
              "\n",
              "    .colab-df-convert:hover {\n",
              "      background-color: #E2EBFA;\n",
              "      box-shadow: 0px 1px 2px rgba(60, 64, 67, 0.3), 0px 1px 3px 1px rgba(60, 64, 67, 0.15);\n",
              "      fill: #174EA6;\n",
              "    }\n",
              "\n",
              "    [theme=dark] .colab-df-convert {\n",
              "      background-color: #3B4455;\n",
              "      fill: #D2E3FC;\n",
              "    }\n",
              "\n",
              "    [theme=dark] .colab-df-convert:hover {\n",
              "      background-color: #434B5C;\n",
              "      box-shadow: 0px 1px 3px 1px rgba(0, 0, 0, 0.15);\n",
              "      filter: drop-shadow(0px 1px 2px rgba(0, 0, 0, 0.3));\n",
              "      fill: #FFFFFF;\n",
              "    }\n",
              "  </style>\n",
              "\n",
              "      <script>\n",
              "        const buttonEl =\n",
              "          document.querySelector('#df-faec303e-c3a5-4032-a1bd-2e817d8faee0 button.colab-df-convert');\n",
              "        buttonEl.style.display =\n",
              "          google.colab.kernel.accessAllowed ? 'block' : 'none';\n",
              "\n",
              "        async function convertToInteractive(key) {\n",
              "          const element = document.querySelector('#df-faec303e-c3a5-4032-a1bd-2e817d8faee0');\n",
              "          const dataTable =\n",
              "            await google.colab.kernel.invokeFunction('convertToInteractive',\n",
              "                                                     [key], {});\n",
              "          if (!dataTable) return;\n",
              "\n",
              "          const docLinkHtml = 'Like what you see? Visit the ' +\n",
              "            '<a target=\"_blank\" href=https://colab.research.google.com/notebooks/data_table.ipynb>data table notebook</a>'\n",
              "            + ' to learn more about interactive tables.';\n",
              "          element.innerHTML = '';\n",
              "          dataTable['output_type'] = 'display_data';\n",
              "          await google.colab.output.renderOutput(dataTable, element);\n",
              "          const docLink = document.createElement('div');\n",
              "          docLink.innerHTML = docLinkHtml;\n",
              "          element.appendChild(docLink);\n",
              "        }\n",
              "      </script>\n",
              "    </div>\n",
              "  </div>\n",
              "  "
            ]
          },
          "metadata": {},
          "execution_count": 61
        }
      ]
    },
    {
      "cell_type": "code",
      "source": [
        "# View unique data in each attribute\n",
        "# Verdicts:\n",
        "# 1) Find out more about 'Other' in gender column\n",
        "# 2) Find out more about 'children' in work_type column\n",
        "# 3) Find out more about 'Unknown' in smoking_status column\n",
        "# 4) Standardize all data to lowercase\n",
        "data_select = data[['gender', 'hypertension', 'heart_disease', 'ever_married',\n",
        "                   'work_type', 'Residence_type', 'smoking_status', 'stroke']]\n",
        "dict_created = {}\n",
        "for i in list(data_select.columns):\n",
        "    dict_created[i] = ', '.join(str(x) for x in data_select[i].unique())\n",
        "\n",
        "pd.DataFrame(dict_created,index=[\"unique value\"]).transpose()"
      ],
      "metadata": {
        "colab": {
          "base_uri": "https://localhost:8080/",
          "height": 300
        },
        "id": "DL5cHrUqZ50V",
        "outputId": "a3458db5-22a5-459d-acfb-d01b05d47fc8"
      },
      "execution_count": null,
      "outputs": [
        {
          "output_type": "execute_result",
          "data": {
            "text/plain": [
              "                                                     unique value\n",
              "gender                                        Male, Female, Other\n",
              "hypertension                                                 0, 1\n",
              "heart_disease                                                1, 0\n",
              "ever_married                                              Yes, No\n",
              "work_type       Private, Self-employed, Govt_job, children, Ne...\n",
              "Residence_type                                       Urban, Rural\n",
              "smoking_status     formerly smoked, never smoked, smokes, Unknown\n",
              "stroke                                                       1, 0"
            ],
            "text/html": [
              "\n",
              "  <div id=\"df-09868706-9a98-4cb3-ae07-daf1f0dbce8e\">\n",
              "    <div class=\"colab-df-container\">\n",
              "      <div>\n",
              "<style scoped>\n",
              "    .dataframe tbody tr th:only-of-type {\n",
              "        vertical-align: middle;\n",
              "    }\n",
              "\n",
              "    .dataframe tbody tr th {\n",
              "        vertical-align: top;\n",
              "    }\n",
              "\n",
              "    .dataframe thead th {\n",
              "        text-align: right;\n",
              "    }\n",
              "</style>\n",
              "<table border=\"1\" class=\"dataframe\">\n",
              "  <thead>\n",
              "    <tr style=\"text-align: right;\">\n",
              "      <th></th>\n",
              "      <th>unique value</th>\n",
              "    </tr>\n",
              "  </thead>\n",
              "  <tbody>\n",
              "    <tr>\n",
              "      <th>gender</th>\n",
              "      <td>Male, Female, Other</td>\n",
              "    </tr>\n",
              "    <tr>\n",
              "      <th>hypertension</th>\n",
              "      <td>0, 1</td>\n",
              "    </tr>\n",
              "    <tr>\n",
              "      <th>heart_disease</th>\n",
              "      <td>1, 0</td>\n",
              "    </tr>\n",
              "    <tr>\n",
              "      <th>ever_married</th>\n",
              "      <td>Yes, No</td>\n",
              "    </tr>\n",
              "    <tr>\n",
              "      <th>work_type</th>\n",
              "      <td>Private, Self-employed, Govt_job, children, Ne...</td>\n",
              "    </tr>\n",
              "    <tr>\n",
              "      <th>Residence_type</th>\n",
              "      <td>Urban, Rural</td>\n",
              "    </tr>\n",
              "    <tr>\n",
              "      <th>smoking_status</th>\n",
              "      <td>formerly smoked, never smoked, smokes, Unknown</td>\n",
              "    </tr>\n",
              "    <tr>\n",
              "      <th>stroke</th>\n",
              "      <td>1, 0</td>\n",
              "    </tr>\n",
              "  </tbody>\n",
              "</table>\n",
              "</div>\n",
              "      <button class=\"colab-df-convert\" onclick=\"convertToInteractive('df-09868706-9a98-4cb3-ae07-daf1f0dbce8e')\"\n",
              "              title=\"Convert this dataframe to an interactive table.\"\n",
              "              style=\"display:none;\">\n",
              "        \n",
              "  <svg xmlns=\"http://www.w3.org/2000/svg\" height=\"24px\"viewBox=\"0 0 24 24\"\n",
              "       width=\"24px\">\n",
              "    <path d=\"M0 0h24v24H0V0z\" fill=\"none\"/>\n",
              "    <path d=\"M18.56 5.44l.94 2.06.94-2.06 2.06-.94-2.06-.94-.94-2.06-.94 2.06-2.06.94zm-11 1L8.5 8.5l.94-2.06 2.06-.94-2.06-.94L8.5 2.5l-.94 2.06-2.06.94zm10 10l.94 2.06.94-2.06 2.06-.94-2.06-.94-.94-2.06-.94 2.06-2.06.94z\"/><path d=\"M17.41 7.96l-1.37-1.37c-.4-.4-.92-.59-1.43-.59-.52 0-1.04.2-1.43.59L10.3 9.45l-7.72 7.72c-.78.78-.78 2.05 0 2.83L4 21.41c.39.39.9.59 1.41.59.51 0 1.02-.2 1.41-.59l7.78-7.78 2.81-2.81c.8-.78.8-2.07 0-2.86zM5.41 20L4 18.59l7.72-7.72 1.47 1.35L5.41 20z\"/>\n",
              "  </svg>\n",
              "      </button>\n",
              "      \n",
              "  <style>\n",
              "    .colab-df-container {\n",
              "      display:flex;\n",
              "      flex-wrap:wrap;\n",
              "      gap: 12px;\n",
              "    }\n",
              "\n",
              "    .colab-df-convert {\n",
              "      background-color: #E8F0FE;\n",
              "      border: none;\n",
              "      border-radius: 50%;\n",
              "      cursor: pointer;\n",
              "      display: none;\n",
              "      fill: #1967D2;\n",
              "      height: 32px;\n",
              "      padding: 0 0 0 0;\n",
              "      width: 32px;\n",
              "    }\n",
              "\n",
              "    .colab-df-convert:hover {\n",
              "      background-color: #E2EBFA;\n",
              "      box-shadow: 0px 1px 2px rgba(60, 64, 67, 0.3), 0px 1px 3px 1px rgba(60, 64, 67, 0.15);\n",
              "      fill: #174EA6;\n",
              "    }\n",
              "\n",
              "    [theme=dark] .colab-df-convert {\n",
              "      background-color: #3B4455;\n",
              "      fill: #D2E3FC;\n",
              "    }\n",
              "\n",
              "    [theme=dark] .colab-df-convert:hover {\n",
              "      background-color: #434B5C;\n",
              "      box-shadow: 0px 1px 3px 1px rgba(0, 0, 0, 0.15);\n",
              "      filter: drop-shadow(0px 1px 2px rgba(0, 0, 0, 0.3));\n",
              "      fill: #FFFFFF;\n",
              "    }\n",
              "  </style>\n",
              "\n",
              "      <script>\n",
              "        const buttonEl =\n",
              "          document.querySelector('#df-09868706-9a98-4cb3-ae07-daf1f0dbce8e button.colab-df-convert');\n",
              "        buttonEl.style.display =\n",
              "          google.colab.kernel.accessAllowed ? 'block' : 'none';\n",
              "\n",
              "        async function convertToInteractive(key) {\n",
              "          const element = document.querySelector('#df-09868706-9a98-4cb3-ae07-daf1f0dbce8e');\n",
              "          const dataTable =\n",
              "            await google.colab.kernel.invokeFunction('convertToInteractive',\n",
              "                                                     [key], {});\n",
              "          if (!dataTable) return;\n",
              "\n",
              "          const docLinkHtml = 'Like what you see? Visit the ' +\n",
              "            '<a target=\"_blank\" href=https://colab.research.google.com/notebooks/data_table.ipynb>data table notebook</a>'\n",
              "            + ' to learn more about interactive tables.';\n",
              "          element.innerHTML = '';\n",
              "          dataTable['output_type'] = 'display_data';\n",
              "          await google.colab.output.renderOutput(dataTable, element);\n",
              "          const docLink = document.createElement('div');\n",
              "          docLink.innerHTML = docLinkHtml;\n",
              "          element.appendChild(docLink);\n",
              "        }\n",
              "      </script>\n",
              "    </div>\n",
              "  </div>\n",
              "  "
            ]
          },
          "metadata": {},
          "execution_count": 62
        }
      ]
    },
    {
      "cell_type": "code",
      "source": [
        "# View Summary of Data\n",
        "# Verdicts:\n",
        "# 1) Correct 7 int attributes displayed\n",
        "# 2) Outliers suspected (std > mean) = hypertension, heart_disease, stroke (ignore)\n",
        "# 3) Outliers to consider (min, max values) = age (min = 0.08), avg_glucose_level (min = 55.12, max = 271.74), but still consider BMI (max = 97)\n",
        "# 4) BMI has missing records = (5110 total - 4909: 201 missing data)\n",
        "#\n",
        "# Citation Acceptable Glucose Level (70-200): https://www.singlecare.com/blog/normal-blood-glucose-levels/#:~:text=A%20normal%20blood%20glucose%20level,90%20to%20110%20mg%2FdL.\n",
        "# Citation Acceptable BMI Value (9-105 <- Highest BMI ever recorded): https://bmicalculator.mes.fm/bmi-chart\n",
        "data.describe()"
      ],
      "metadata": {
        "colab": {
          "base_uri": "https://localhost:8080/",
          "height": 300
        },
        "id": "gOMUAu_nIGLJ",
        "outputId": "5bcb8df3-13fe-4a98-a3c9-f90c118658d8"
      },
      "execution_count": null,
      "outputs": [
        {
          "output_type": "execute_result",
          "data": {
            "text/plain": [
              "                 id          age  hypertension  heart_disease  \\\n",
              "count   5110.000000  5110.000000   5110.000000    5110.000000   \n",
              "mean   36517.829354    43.226614      0.097456       0.054012   \n",
              "std    21161.721625    22.612647      0.296607       0.226063   \n",
              "min       67.000000     0.080000      0.000000       0.000000   \n",
              "25%    17741.250000    25.000000      0.000000       0.000000   \n",
              "50%    36932.000000    45.000000      0.000000       0.000000   \n",
              "75%    54682.000000    61.000000      0.000000       0.000000   \n",
              "max    72940.000000    82.000000      1.000000       1.000000   \n",
              "\n",
              "       avg_glucose_level          bmi       stroke  \n",
              "count        5110.000000  4909.000000  5110.000000  \n",
              "mean          106.147677    28.893237     0.048728  \n",
              "std            45.283560     7.854067     0.215320  \n",
              "min            55.120000    10.300000     0.000000  \n",
              "25%            77.245000    23.500000     0.000000  \n",
              "50%            91.885000    28.100000     0.000000  \n",
              "75%           114.090000    33.100000     0.000000  \n",
              "max           271.740000    97.600000     1.000000  "
            ],
            "text/html": [
              "\n",
              "  <div id=\"df-029e9318-4a27-4fe1-bc52-455933718e58\">\n",
              "    <div class=\"colab-df-container\">\n",
              "      <div>\n",
              "<style scoped>\n",
              "    .dataframe tbody tr th:only-of-type {\n",
              "        vertical-align: middle;\n",
              "    }\n",
              "\n",
              "    .dataframe tbody tr th {\n",
              "        vertical-align: top;\n",
              "    }\n",
              "\n",
              "    .dataframe thead th {\n",
              "        text-align: right;\n",
              "    }\n",
              "</style>\n",
              "<table border=\"1\" class=\"dataframe\">\n",
              "  <thead>\n",
              "    <tr style=\"text-align: right;\">\n",
              "      <th></th>\n",
              "      <th>id</th>\n",
              "      <th>age</th>\n",
              "      <th>hypertension</th>\n",
              "      <th>heart_disease</th>\n",
              "      <th>avg_glucose_level</th>\n",
              "      <th>bmi</th>\n",
              "      <th>stroke</th>\n",
              "    </tr>\n",
              "  </thead>\n",
              "  <tbody>\n",
              "    <tr>\n",
              "      <th>count</th>\n",
              "      <td>5110.000000</td>\n",
              "      <td>5110.000000</td>\n",
              "      <td>5110.000000</td>\n",
              "      <td>5110.000000</td>\n",
              "      <td>5110.000000</td>\n",
              "      <td>4909.000000</td>\n",
              "      <td>5110.000000</td>\n",
              "    </tr>\n",
              "    <tr>\n",
              "      <th>mean</th>\n",
              "      <td>36517.829354</td>\n",
              "      <td>43.226614</td>\n",
              "      <td>0.097456</td>\n",
              "      <td>0.054012</td>\n",
              "      <td>106.147677</td>\n",
              "      <td>28.893237</td>\n",
              "      <td>0.048728</td>\n",
              "    </tr>\n",
              "    <tr>\n",
              "      <th>std</th>\n",
              "      <td>21161.721625</td>\n",
              "      <td>22.612647</td>\n",
              "      <td>0.296607</td>\n",
              "      <td>0.226063</td>\n",
              "      <td>45.283560</td>\n",
              "      <td>7.854067</td>\n",
              "      <td>0.215320</td>\n",
              "    </tr>\n",
              "    <tr>\n",
              "      <th>min</th>\n",
              "      <td>67.000000</td>\n",
              "      <td>0.080000</td>\n",
              "      <td>0.000000</td>\n",
              "      <td>0.000000</td>\n",
              "      <td>55.120000</td>\n",
              "      <td>10.300000</td>\n",
              "      <td>0.000000</td>\n",
              "    </tr>\n",
              "    <tr>\n",
              "      <th>25%</th>\n",
              "      <td>17741.250000</td>\n",
              "      <td>25.000000</td>\n",
              "      <td>0.000000</td>\n",
              "      <td>0.000000</td>\n",
              "      <td>77.245000</td>\n",
              "      <td>23.500000</td>\n",
              "      <td>0.000000</td>\n",
              "    </tr>\n",
              "    <tr>\n",
              "      <th>50%</th>\n",
              "      <td>36932.000000</td>\n",
              "      <td>45.000000</td>\n",
              "      <td>0.000000</td>\n",
              "      <td>0.000000</td>\n",
              "      <td>91.885000</td>\n",
              "      <td>28.100000</td>\n",
              "      <td>0.000000</td>\n",
              "    </tr>\n",
              "    <tr>\n",
              "      <th>75%</th>\n",
              "      <td>54682.000000</td>\n",
              "      <td>61.000000</td>\n",
              "      <td>0.000000</td>\n",
              "      <td>0.000000</td>\n",
              "      <td>114.090000</td>\n",
              "      <td>33.100000</td>\n",
              "      <td>0.000000</td>\n",
              "    </tr>\n",
              "    <tr>\n",
              "      <th>max</th>\n",
              "      <td>72940.000000</td>\n",
              "      <td>82.000000</td>\n",
              "      <td>1.000000</td>\n",
              "      <td>1.000000</td>\n",
              "      <td>271.740000</td>\n",
              "      <td>97.600000</td>\n",
              "      <td>1.000000</td>\n",
              "    </tr>\n",
              "  </tbody>\n",
              "</table>\n",
              "</div>\n",
              "      <button class=\"colab-df-convert\" onclick=\"convertToInteractive('df-029e9318-4a27-4fe1-bc52-455933718e58')\"\n",
              "              title=\"Convert this dataframe to an interactive table.\"\n",
              "              style=\"display:none;\">\n",
              "        \n",
              "  <svg xmlns=\"http://www.w3.org/2000/svg\" height=\"24px\"viewBox=\"0 0 24 24\"\n",
              "       width=\"24px\">\n",
              "    <path d=\"M0 0h24v24H0V0z\" fill=\"none\"/>\n",
              "    <path d=\"M18.56 5.44l.94 2.06.94-2.06 2.06-.94-2.06-.94-.94-2.06-.94 2.06-2.06.94zm-11 1L8.5 8.5l.94-2.06 2.06-.94-2.06-.94L8.5 2.5l-.94 2.06-2.06.94zm10 10l.94 2.06.94-2.06 2.06-.94-2.06-.94-.94-2.06-.94 2.06-2.06.94z\"/><path d=\"M17.41 7.96l-1.37-1.37c-.4-.4-.92-.59-1.43-.59-.52 0-1.04.2-1.43.59L10.3 9.45l-7.72 7.72c-.78.78-.78 2.05 0 2.83L4 21.41c.39.39.9.59 1.41.59.51 0 1.02-.2 1.41-.59l7.78-7.78 2.81-2.81c.8-.78.8-2.07 0-2.86zM5.41 20L4 18.59l7.72-7.72 1.47 1.35L5.41 20z\"/>\n",
              "  </svg>\n",
              "      </button>\n",
              "      \n",
              "  <style>\n",
              "    .colab-df-container {\n",
              "      display:flex;\n",
              "      flex-wrap:wrap;\n",
              "      gap: 12px;\n",
              "    }\n",
              "\n",
              "    .colab-df-convert {\n",
              "      background-color: #E8F0FE;\n",
              "      border: none;\n",
              "      border-radius: 50%;\n",
              "      cursor: pointer;\n",
              "      display: none;\n",
              "      fill: #1967D2;\n",
              "      height: 32px;\n",
              "      padding: 0 0 0 0;\n",
              "      width: 32px;\n",
              "    }\n",
              "\n",
              "    .colab-df-convert:hover {\n",
              "      background-color: #E2EBFA;\n",
              "      box-shadow: 0px 1px 2px rgba(60, 64, 67, 0.3), 0px 1px 3px 1px rgba(60, 64, 67, 0.15);\n",
              "      fill: #174EA6;\n",
              "    }\n",
              "\n",
              "    [theme=dark] .colab-df-convert {\n",
              "      background-color: #3B4455;\n",
              "      fill: #D2E3FC;\n",
              "    }\n",
              "\n",
              "    [theme=dark] .colab-df-convert:hover {\n",
              "      background-color: #434B5C;\n",
              "      box-shadow: 0px 1px 3px 1px rgba(0, 0, 0, 0.15);\n",
              "      filter: drop-shadow(0px 1px 2px rgba(0, 0, 0, 0.3));\n",
              "      fill: #FFFFFF;\n",
              "    }\n",
              "  </style>\n",
              "\n",
              "      <script>\n",
              "        const buttonEl =\n",
              "          document.querySelector('#df-029e9318-4a27-4fe1-bc52-455933718e58 button.colab-df-convert');\n",
              "        buttonEl.style.display =\n",
              "          google.colab.kernel.accessAllowed ? 'block' : 'none';\n",
              "\n",
              "        async function convertToInteractive(key) {\n",
              "          const element = document.querySelector('#df-029e9318-4a27-4fe1-bc52-455933718e58');\n",
              "          const dataTable =\n",
              "            await google.colab.kernel.invokeFunction('convertToInteractive',\n",
              "                                                     [key], {});\n",
              "          if (!dataTable) return;\n",
              "\n",
              "          const docLinkHtml = 'Like what you see? Visit the ' +\n",
              "            '<a target=\"_blank\" href=https://colab.research.google.com/notebooks/data_table.ipynb>data table notebook</a>'\n",
              "            + ' to learn more about interactive tables.';\n",
              "          element.innerHTML = '';\n",
              "          dataTable['output_type'] = 'display_data';\n",
              "          await google.colab.output.renderOutput(dataTable, element);\n",
              "          const docLink = document.createElement('div');\n",
              "          docLink.innerHTML = docLinkHtml;\n",
              "          element.appendChild(docLink);\n",
              "        }\n",
              "      </script>\n",
              "    </div>\n",
              "  </div>\n",
              "  "
            ]
          },
          "metadata": {},
          "execution_count": 63
        }
      ]
    },
    {
      "cell_type": "code",
      "source": [
        "# View record having 'Other' as 'gender'\n",
        "# Verdicts:\n",
        "# 1) Since the count is 1, Discard this record later\n",
        "display(data[data['gender'] == 'Other'])"
      ],
      "metadata": {
        "colab": {
          "base_uri": "https://localhost:8080/",
          "height": 81
        },
        "id": "Zl9PtHtudQQl",
        "outputId": "4ae950a2-52d7-489c-c2af-8783bcd668a7"
      },
      "execution_count": null,
      "outputs": [
        {
          "output_type": "display_data",
          "data": {
            "text/plain": [
              "         id gender   age  hypertension  heart_disease ever_married work_type  \\\n",
              "3116  56156  Other  26.0             0              0           No   Private   \n",
              "\n",
              "     Residence_type  avg_glucose_level   bmi   smoking_status  stroke  \n",
              "3116          Rural             143.33  22.4  formerly smoked       0  "
            ],
            "text/html": [
              "\n",
              "  <div id=\"df-0468b1f1-275f-4fa1-8db3-3087ccde5355\">\n",
              "    <div class=\"colab-df-container\">\n",
              "      <div>\n",
              "<style scoped>\n",
              "    .dataframe tbody tr th:only-of-type {\n",
              "        vertical-align: middle;\n",
              "    }\n",
              "\n",
              "    .dataframe tbody tr th {\n",
              "        vertical-align: top;\n",
              "    }\n",
              "\n",
              "    .dataframe thead th {\n",
              "        text-align: right;\n",
              "    }\n",
              "</style>\n",
              "<table border=\"1\" class=\"dataframe\">\n",
              "  <thead>\n",
              "    <tr style=\"text-align: right;\">\n",
              "      <th></th>\n",
              "      <th>id</th>\n",
              "      <th>gender</th>\n",
              "      <th>age</th>\n",
              "      <th>hypertension</th>\n",
              "      <th>heart_disease</th>\n",
              "      <th>ever_married</th>\n",
              "      <th>work_type</th>\n",
              "      <th>Residence_type</th>\n",
              "      <th>avg_glucose_level</th>\n",
              "      <th>bmi</th>\n",
              "      <th>smoking_status</th>\n",
              "      <th>stroke</th>\n",
              "    </tr>\n",
              "  </thead>\n",
              "  <tbody>\n",
              "    <tr>\n",
              "      <th>3116</th>\n",
              "      <td>56156</td>\n",
              "      <td>Other</td>\n",
              "      <td>26.0</td>\n",
              "      <td>0</td>\n",
              "      <td>0</td>\n",
              "      <td>No</td>\n",
              "      <td>Private</td>\n",
              "      <td>Rural</td>\n",
              "      <td>143.33</td>\n",
              "      <td>22.4</td>\n",
              "      <td>formerly smoked</td>\n",
              "      <td>0</td>\n",
              "    </tr>\n",
              "  </tbody>\n",
              "</table>\n",
              "</div>\n",
              "      <button class=\"colab-df-convert\" onclick=\"convertToInteractive('df-0468b1f1-275f-4fa1-8db3-3087ccde5355')\"\n",
              "              title=\"Convert this dataframe to an interactive table.\"\n",
              "              style=\"display:none;\">\n",
              "        \n",
              "  <svg xmlns=\"http://www.w3.org/2000/svg\" height=\"24px\"viewBox=\"0 0 24 24\"\n",
              "       width=\"24px\">\n",
              "    <path d=\"M0 0h24v24H0V0z\" fill=\"none\"/>\n",
              "    <path d=\"M18.56 5.44l.94 2.06.94-2.06 2.06-.94-2.06-.94-.94-2.06-.94 2.06-2.06.94zm-11 1L8.5 8.5l.94-2.06 2.06-.94-2.06-.94L8.5 2.5l-.94 2.06-2.06.94zm10 10l.94 2.06.94-2.06 2.06-.94-2.06-.94-.94-2.06-.94 2.06-2.06.94z\"/><path d=\"M17.41 7.96l-1.37-1.37c-.4-.4-.92-.59-1.43-.59-.52 0-1.04.2-1.43.59L10.3 9.45l-7.72 7.72c-.78.78-.78 2.05 0 2.83L4 21.41c.39.39.9.59 1.41.59.51 0 1.02-.2 1.41-.59l7.78-7.78 2.81-2.81c.8-.78.8-2.07 0-2.86zM5.41 20L4 18.59l7.72-7.72 1.47 1.35L5.41 20z\"/>\n",
              "  </svg>\n",
              "      </button>\n",
              "      \n",
              "  <style>\n",
              "    .colab-df-container {\n",
              "      display:flex;\n",
              "      flex-wrap:wrap;\n",
              "      gap: 12px;\n",
              "    }\n",
              "\n",
              "    .colab-df-convert {\n",
              "      background-color: #E8F0FE;\n",
              "      border: none;\n",
              "      border-radius: 50%;\n",
              "      cursor: pointer;\n",
              "      display: none;\n",
              "      fill: #1967D2;\n",
              "      height: 32px;\n",
              "      padding: 0 0 0 0;\n",
              "      width: 32px;\n",
              "    }\n",
              "\n",
              "    .colab-df-convert:hover {\n",
              "      background-color: #E2EBFA;\n",
              "      box-shadow: 0px 1px 2px rgba(60, 64, 67, 0.3), 0px 1px 3px 1px rgba(60, 64, 67, 0.15);\n",
              "      fill: #174EA6;\n",
              "    }\n",
              "\n",
              "    [theme=dark] .colab-df-convert {\n",
              "      background-color: #3B4455;\n",
              "      fill: #D2E3FC;\n",
              "    }\n",
              "\n",
              "    [theme=dark] .colab-df-convert:hover {\n",
              "      background-color: #434B5C;\n",
              "      box-shadow: 0px 1px 3px 1px rgba(0, 0, 0, 0.15);\n",
              "      filter: drop-shadow(0px 1px 2px rgba(0, 0, 0, 0.3));\n",
              "      fill: #FFFFFF;\n",
              "    }\n",
              "  </style>\n",
              "\n",
              "      <script>\n",
              "        const buttonEl =\n",
              "          document.querySelector('#df-0468b1f1-275f-4fa1-8db3-3087ccde5355 button.colab-df-convert');\n",
              "        buttonEl.style.display =\n",
              "          google.colab.kernel.accessAllowed ? 'block' : 'none';\n",
              "\n",
              "        async function convertToInteractive(key) {\n",
              "          const element = document.querySelector('#df-0468b1f1-275f-4fa1-8db3-3087ccde5355');\n",
              "          const dataTable =\n",
              "            await google.colab.kernel.invokeFunction('convertToInteractive',\n",
              "                                                     [key], {});\n",
              "          if (!dataTable) return;\n",
              "\n",
              "          const docLinkHtml = 'Like what you see? Visit the ' +\n",
              "            '<a target=\"_blank\" href=https://colab.research.google.com/notebooks/data_table.ipynb>data table notebook</a>'\n",
              "            + ' to learn more about interactive tables.';\n",
              "          element.innerHTML = '';\n",
              "          dataTable['output_type'] = 'display_data';\n",
              "          await google.colab.output.renderOutput(dataTable, element);\n",
              "          const docLink = document.createElement('div');\n",
              "          docLink.innerHTML = docLinkHtml;\n",
              "          element.appendChild(docLink);\n",
              "        }\n",
              "      </script>\n",
              "    </div>\n",
              "  </div>\n",
              "  "
            ]
          },
          "metadata": {}
        }
      ]
    },
    {
      "cell_type": "code",
      "source": [
        "# View record having 'children' as 'work_type'\n",
        "# Verdicts:\n",
        "# 1) There is 687 records having children, so it is not a mistype, Do Nothing about it\n",
        "display(data[data['work_type'] == 'children'])"
      ],
      "metadata": {
        "colab": {
          "base_uri": "https://localhost:8080/",
          "height": 423
        },
        "id": "cKjouUgtentl",
        "outputId": "0f3131ae-c33f-4de1-b086-769b6365764c"
      },
      "execution_count": null,
      "outputs": [
        {
          "output_type": "display_data",
          "data": {
            "text/plain": [
              "         id  gender    age  hypertension  heart_disease ever_married  \\\n",
              "162   69768  Female   1.32             0              0           No   \n",
              "245   49669  Female  14.00             0              0           No   \n",
              "249   30669    Male   3.00             0              0           No   \n",
              "282   33759  Female   3.00             0              0           No   \n",
              "290   55680    Male  13.00             0              0           No   \n",
              "...     ...     ...    ...           ...            ...          ...   \n",
              "5089  56714  Female   0.72             0              0           No   \n",
              "5094  28048    Male  13.00             0              0           No   \n",
              "5095  68598    Male   1.08             0              0           No   \n",
              "5098    579    Male   9.00             0              0           No   \n",
              "5104  14180  Female  13.00             0              0           No   \n",
              "\n",
              "     work_type Residence_type  avg_glucose_level   bmi smoking_status  stroke  \n",
              "162   children          Urban              70.37   NaN        Unknown       1  \n",
              "245   children          Rural              57.93  30.9        Unknown       1  \n",
              "249   children          Rural              95.12  18.0        Unknown       0  \n",
              "282   children          Urban              73.74  16.0        Unknown       0  \n",
              "290   children          Urban             114.84  18.3        Unknown       0  \n",
              "...        ...            ...                ...   ...            ...     ...  \n",
              "5089  children          Rural              62.13  16.8        Unknown       0  \n",
              "5094  children          Urban              82.38  24.3        Unknown       0  \n",
              "5095  children          Rural              79.15  17.4        Unknown       0  \n",
              "5098  children          Urban              71.88  17.5        Unknown       0  \n",
              "5104  children          Rural             103.08  18.6        Unknown       0  \n",
              "\n",
              "[687 rows x 12 columns]"
            ],
            "text/html": [
              "\n",
              "  <div id=\"df-597a6062-21f4-4c7c-8524-8fb8b246b240\">\n",
              "    <div class=\"colab-df-container\">\n",
              "      <div>\n",
              "<style scoped>\n",
              "    .dataframe tbody tr th:only-of-type {\n",
              "        vertical-align: middle;\n",
              "    }\n",
              "\n",
              "    .dataframe tbody tr th {\n",
              "        vertical-align: top;\n",
              "    }\n",
              "\n",
              "    .dataframe thead th {\n",
              "        text-align: right;\n",
              "    }\n",
              "</style>\n",
              "<table border=\"1\" class=\"dataframe\">\n",
              "  <thead>\n",
              "    <tr style=\"text-align: right;\">\n",
              "      <th></th>\n",
              "      <th>id</th>\n",
              "      <th>gender</th>\n",
              "      <th>age</th>\n",
              "      <th>hypertension</th>\n",
              "      <th>heart_disease</th>\n",
              "      <th>ever_married</th>\n",
              "      <th>work_type</th>\n",
              "      <th>Residence_type</th>\n",
              "      <th>avg_glucose_level</th>\n",
              "      <th>bmi</th>\n",
              "      <th>smoking_status</th>\n",
              "      <th>stroke</th>\n",
              "    </tr>\n",
              "  </thead>\n",
              "  <tbody>\n",
              "    <tr>\n",
              "      <th>162</th>\n",
              "      <td>69768</td>\n",
              "      <td>Female</td>\n",
              "      <td>1.32</td>\n",
              "      <td>0</td>\n",
              "      <td>0</td>\n",
              "      <td>No</td>\n",
              "      <td>children</td>\n",
              "      <td>Urban</td>\n",
              "      <td>70.37</td>\n",
              "      <td>NaN</td>\n",
              "      <td>Unknown</td>\n",
              "      <td>1</td>\n",
              "    </tr>\n",
              "    <tr>\n",
              "      <th>245</th>\n",
              "      <td>49669</td>\n",
              "      <td>Female</td>\n",
              "      <td>14.00</td>\n",
              "      <td>0</td>\n",
              "      <td>0</td>\n",
              "      <td>No</td>\n",
              "      <td>children</td>\n",
              "      <td>Rural</td>\n",
              "      <td>57.93</td>\n",
              "      <td>30.9</td>\n",
              "      <td>Unknown</td>\n",
              "      <td>1</td>\n",
              "    </tr>\n",
              "    <tr>\n",
              "      <th>249</th>\n",
              "      <td>30669</td>\n",
              "      <td>Male</td>\n",
              "      <td>3.00</td>\n",
              "      <td>0</td>\n",
              "      <td>0</td>\n",
              "      <td>No</td>\n",
              "      <td>children</td>\n",
              "      <td>Rural</td>\n",
              "      <td>95.12</td>\n",
              "      <td>18.0</td>\n",
              "      <td>Unknown</td>\n",
              "      <td>0</td>\n",
              "    </tr>\n",
              "    <tr>\n",
              "      <th>282</th>\n",
              "      <td>33759</td>\n",
              "      <td>Female</td>\n",
              "      <td>3.00</td>\n",
              "      <td>0</td>\n",
              "      <td>0</td>\n",
              "      <td>No</td>\n",
              "      <td>children</td>\n",
              "      <td>Urban</td>\n",
              "      <td>73.74</td>\n",
              "      <td>16.0</td>\n",
              "      <td>Unknown</td>\n",
              "      <td>0</td>\n",
              "    </tr>\n",
              "    <tr>\n",
              "      <th>290</th>\n",
              "      <td>55680</td>\n",
              "      <td>Male</td>\n",
              "      <td>13.00</td>\n",
              "      <td>0</td>\n",
              "      <td>0</td>\n",
              "      <td>No</td>\n",
              "      <td>children</td>\n",
              "      <td>Urban</td>\n",
              "      <td>114.84</td>\n",
              "      <td>18.3</td>\n",
              "      <td>Unknown</td>\n",
              "      <td>0</td>\n",
              "    </tr>\n",
              "    <tr>\n",
              "      <th>...</th>\n",
              "      <td>...</td>\n",
              "      <td>...</td>\n",
              "      <td>...</td>\n",
              "      <td>...</td>\n",
              "      <td>...</td>\n",
              "      <td>...</td>\n",
              "      <td>...</td>\n",
              "      <td>...</td>\n",
              "      <td>...</td>\n",
              "      <td>...</td>\n",
              "      <td>...</td>\n",
              "      <td>...</td>\n",
              "    </tr>\n",
              "    <tr>\n",
              "      <th>5089</th>\n",
              "      <td>56714</td>\n",
              "      <td>Female</td>\n",
              "      <td>0.72</td>\n",
              "      <td>0</td>\n",
              "      <td>0</td>\n",
              "      <td>No</td>\n",
              "      <td>children</td>\n",
              "      <td>Rural</td>\n",
              "      <td>62.13</td>\n",
              "      <td>16.8</td>\n",
              "      <td>Unknown</td>\n",
              "      <td>0</td>\n",
              "    </tr>\n",
              "    <tr>\n",
              "      <th>5094</th>\n",
              "      <td>28048</td>\n",
              "      <td>Male</td>\n",
              "      <td>13.00</td>\n",
              "      <td>0</td>\n",
              "      <td>0</td>\n",
              "      <td>No</td>\n",
              "      <td>children</td>\n",
              "      <td>Urban</td>\n",
              "      <td>82.38</td>\n",
              "      <td>24.3</td>\n",
              "      <td>Unknown</td>\n",
              "      <td>0</td>\n",
              "    </tr>\n",
              "    <tr>\n",
              "      <th>5095</th>\n",
              "      <td>68598</td>\n",
              "      <td>Male</td>\n",
              "      <td>1.08</td>\n",
              "      <td>0</td>\n",
              "      <td>0</td>\n",
              "      <td>No</td>\n",
              "      <td>children</td>\n",
              "      <td>Rural</td>\n",
              "      <td>79.15</td>\n",
              "      <td>17.4</td>\n",
              "      <td>Unknown</td>\n",
              "      <td>0</td>\n",
              "    </tr>\n",
              "    <tr>\n",
              "      <th>5098</th>\n",
              "      <td>579</td>\n",
              "      <td>Male</td>\n",
              "      <td>9.00</td>\n",
              "      <td>0</td>\n",
              "      <td>0</td>\n",
              "      <td>No</td>\n",
              "      <td>children</td>\n",
              "      <td>Urban</td>\n",
              "      <td>71.88</td>\n",
              "      <td>17.5</td>\n",
              "      <td>Unknown</td>\n",
              "      <td>0</td>\n",
              "    </tr>\n",
              "    <tr>\n",
              "      <th>5104</th>\n",
              "      <td>14180</td>\n",
              "      <td>Female</td>\n",
              "      <td>13.00</td>\n",
              "      <td>0</td>\n",
              "      <td>0</td>\n",
              "      <td>No</td>\n",
              "      <td>children</td>\n",
              "      <td>Rural</td>\n",
              "      <td>103.08</td>\n",
              "      <td>18.6</td>\n",
              "      <td>Unknown</td>\n",
              "      <td>0</td>\n",
              "    </tr>\n",
              "  </tbody>\n",
              "</table>\n",
              "<p>687 rows × 12 columns</p>\n",
              "</div>\n",
              "      <button class=\"colab-df-convert\" onclick=\"convertToInteractive('df-597a6062-21f4-4c7c-8524-8fb8b246b240')\"\n",
              "              title=\"Convert this dataframe to an interactive table.\"\n",
              "              style=\"display:none;\">\n",
              "        \n",
              "  <svg xmlns=\"http://www.w3.org/2000/svg\" height=\"24px\"viewBox=\"0 0 24 24\"\n",
              "       width=\"24px\">\n",
              "    <path d=\"M0 0h24v24H0V0z\" fill=\"none\"/>\n",
              "    <path d=\"M18.56 5.44l.94 2.06.94-2.06 2.06-.94-2.06-.94-.94-2.06-.94 2.06-2.06.94zm-11 1L8.5 8.5l.94-2.06 2.06-.94-2.06-.94L8.5 2.5l-.94 2.06-2.06.94zm10 10l.94 2.06.94-2.06 2.06-.94-2.06-.94-.94-2.06-.94 2.06-2.06.94z\"/><path d=\"M17.41 7.96l-1.37-1.37c-.4-.4-.92-.59-1.43-.59-.52 0-1.04.2-1.43.59L10.3 9.45l-7.72 7.72c-.78.78-.78 2.05 0 2.83L4 21.41c.39.39.9.59 1.41.59.51 0 1.02-.2 1.41-.59l7.78-7.78 2.81-2.81c.8-.78.8-2.07 0-2.86zM5.41 20L4 18.59l7.72-7.72 1.47 1.35L5.41 20z\"/>\n",
              "  </svg>\n",
              "      </button>\n",
              "      \n",
              "  <style>\n",
              "    .colab-df-container {\n",
              "      display:flex;\n",
              "      flex-wrap:wrap;\n",
              "      gap: 12px;\n",
              "    }\n",
              "\n",
              "    .colab-df-convert {\n",
              "      background-color: #E8F0FE;\n",
              "      border: none;\n",
              "      border-radius: 50%;\n",
              "      cursor: pointer;\n",
              "      display: none;\n",
              "      fill: #1967D2;\n",
              "      height: 32px;\n",
              "      padding: 0 0 0 0;\n",
              "      width: 32px;\n",
              "    }\n",
              "\n",
              "    .colab-df-convert:hover {\n",
              "      background-color: #E2EBFA;\n",
              "      box-shadow: 0px 1px 2px rgba(60, 64, 67, 0.3), 0px 1px 3px 1px rgba(60, 64, 67, 0.15);\n",
              "      fill: #174EA6;\n",
              "    }\n",
              "\n",
              "    [theme=dark] .colab-df-convert {\n",
              "      background-color: #3B4455;\n",
              "      fill: #D2E3FC;\n",
              "    }\n",
              "\n",
              "    [theme=dark] .colab-df-convert:hover {\n",
              "      background-color: #434B5C;\n",
              "      box-shadow: 0px 1px 3px 1px rgba(0, 0, 0, 0.15);\n",
              "      filter: drop-shadow(0px 1px 2px rgba(0, 0, 0, 0.3));\n",
              "      fill: #FFFFFF;\n",
              "    }\n",
              "  </style>\n",
              "\n",
              "      <script>\n",
              "        const buttonEl =\n",
              "          document.querySelector('#df-597a6062-21f4-4c7c-8524-8fb8b246b240 button.colab-df-convert');\n",
              "        buttonEl.style.display =\n",
              "          google.colab.kernel.accessAllowed ? 'block' : 'none';\n",
              "\n",
              "        async function convertToInteractive(key) {\n",
              "          const element = document.querySelector('#df-597a6062-21f4-4c7c-8524-8fb8b246b240');\n",
              "          const dataTable =\n",
              "            await google.colab.kernel.invokeFunction('convertToInteractive',\n",
              "                                                     [key], {});\n",
              "          if (!dataTable) return;\n",
              "\n",
              "          const docLinkHtml = 'Like what you see? Visit the ' +\n",
              "            '<a target=\"_blank\" href=https://colab.research.google.com/notebooks/data_table.ipynb>data table notebook</a>'\n",
              "            + ' to learn more about interactive tables.';\n",
              "          element.innerHTML = '';\n",
              "          dataTable['output_type'] = 'display_data';\n",
              "          await google.colab.output.renderOutput(dataTable, element);\n",
              "          const docLink = document.createElement('div');\n",
              "          docLink.innerHTML = docLinkHtml;\n",
              "          element.appendChild(docLink);\n",
              "        }\n",
              "      </script>\n",
              "    </div>\n",
              "  </div>\n",
              "  "
            ]
          },
          "metadata": {}
        }
      ]
    },
    {
      "cell_type": "code",
      "source": [
        "# Calculate percentage of record having 'Unknown' as 'smoking_status'\n",
        "percentage_unknown = round(data[data['smoking_status'] == 'Unknown'].shape[0]/data.shape[0]*100, 2)\n",
        "print('Percentage of data Unknown as smoking_status',\n",
        "      percentage_unknown, '%')"
      ],
      "metadata": {
        "colab": {
          "base_uri": "https://localhost:8080/"
        },
        "id": "_flSjxmRfsv1",
        "outputId": "34cb582b-773a-4436-fbff-1b164444c85e"
      },
      "execution_count": null,
      "outputs": [
        {
          "output_type": "stream",
          "name": "stdout",
          "text": [
            "Percentage of data Unknown as smoking_status 30.22 %\n"
          ]
        }
      ]
    },
    {
      "cell_type": "code",
      "source": [
        "# View record having 'Unknown' as 'smoking_status'\n",
        "# Verdicts:\n",
        "# 1) There is 1544 records having Unknown, which is 30.22% pretty high, 2 options:\n",
        "# take it as it is or replace with mode ; CANNOT DISCARD because too many records,\n",
        "# if discard, data is not accurate anymore\n",
        "# Answer: Take it as it is (Do nothing)\n",
        "display(data[data['smoking_status'] == 'Unknown'])"
      ],
      "metadata": {
        "colab": {
          "base_uri": "https://localhost:8080/",
          "height": 423
        },
        "id": "DjegVMa5fQQ2",
        "outputId": "7670dfca-81f2-4cee-efb1-9a68ec96a287"
      },
      "execution_count": null,
      "outputs": [
        {
          "output_type": "display_data",
          "data": {
            "text/plain": [
              "         id  gender   age  hypertension  heart_disease ever_married work_type  \\\n",
              "8     27419  Female  59.0             0              0          Yes   Private   \n",
              "9     60491  Female  78.0             0              0          Yes   Private   \n",
              "13     8213    Male  78.0             0              1          Yes   Private   \n",
              "19    25226    Male  57.0             0              1           No  Govt_job   \n",
              "23    64778    Male  82.0             0              1          Yes   Private   \n",
              "...     ...     ...   ...           ...            ...          ...       ...   \n",
              "5098    579    Male   9.0             0              0           No  children   \n",
              "5101  36901  Female  45.0             0              0          Yes   Private   \n",
              "5103  22127  Female  18.0             0              0           No   Private   \n",
              "5104  14180  Female  13.0             0              0           No  children   \n",
              "5109  44679  Female  44.0             0              0          Yes  Govt_job   \n",
              "\n",
              "     Residence_type  avg_glucose_level   bmi smoking_status  stroke  \n",
              "8             Rural              76.15   NaN        Unknown       1  \n",
              "9             Urban              58.57  24.2        Unknown       1  \n",
              "13            Urban             219.84   NaN        Unknown       1  \n",
              "19            Urban             217.08   NaN        Unknown       1  \n",
              "23            Rural             208.30  32.5        Unknown       1  \n",
              "...             ...                ...   ...            ...     ...  \n",
              "5098          Urban              71.88  17.5        Unknown       0  \n",
              "5101          Urban              97.95  24.5        Unknown       0  \n",
              "5103          Urban              82.85  46.9        Unknown       0  \n",
              "5104          Rural             103.08  18.6        Unknown       0  \n",
              "5109          Urban              85.28  26.2        Unknown       0  \n",
              "\n",
              "[1544 rows x 12 columns]"
            ],
            "text/html": [
              "\n",
              "  <div id=\"df-d1c0f340-1121-4be2-97ce-605e7346ca97\">\n",
              "    <div class=\"colab-df-container\">\n",
              "      <div>\n",
              "<style scoped>\n",
              "    .dataframe tbody tr th:only-of-type {\n",
              "        vertical-align: middle;\n",
              "    }\n",
              "\n",
              "    .dataframe tbody tr th {\n",
              "        vertical-align: top;\n",
              "    }\n",
              "\n",
              "    .dataframe thead th {\n",
              "        text-align: right;\n",
              "    }\n",
              "</style>\n",
              "<table border=\"1\" class=\"dataframe\">\n",
              "  <thead>\n",
              "    <tr style=\"text-align: right;\">\n",
              "      <th></th>\n",
              "      <th>id</th>\n",
              "      <th>gender</th>\n",
              "      <th>age</th>\n",
              "      <th>hypertension</th>\n",
              "      <th>heart_disease</th>\n",
              "      <th>ever_married</th>\n",
              "      <th>work_type</th>\n",
              "      <th>Residence_type</th>\n",
              "      <th>avg_glucose_level</th>\n",
              "      <th>bmi</th>\n",
              "      <th>smoking_status</th>\n",
              "      <th>stroke</th>\n",
              "    </tr>\n",
              "  </thead>\n",
              "  <tbody>\n",
              "    <tr>\n",
              "      <th>8</th>\n",
              "      <td>27419</td>\n",
              "      <td>Female</td>\n",
              "      <td>59.0</td>\n",
              "      <td>0</td>\n",
              "      <td>0</td>\n",
              "      <td>Yes</td>\n",
              "      <td>Private</td>\n",
              "      <td>Rural</td>\n",
              "      <td>76.15</td>\n",
              "      <td>NaN</td>\n",
              "      <td>Unknown</td>\n",
              "      <td>1</td>\n",
              "    </tr>\n",
              "    <tr>\n",
              "      <th>9</th>\n",
              "      <td>60491</td>\n",
              "      <td>Female</td>\n",
              "      <td>78.0</td>\n",
              "      <td>0</td>\n",
              "      <td>0</td>\n",
              "      <td>Yes</td>\n",
              "      <td>Private</td>\n",
              "      <td>Urban</td>\n",
              "      <td>58.57</td>\n",
              "      <td>24.2</td>\n",
              "      <td>Unknown</td>\n",
              "      <td>1</td>\n",
              "    </tr>\n",
              "    <tr>\n",
              "      <th>13</th>\n",
              "      <td>8213</td>\n",
              "      <td>Male</td>\n",
              "      <td>78.0</td>\n",
              "      <td>0</td>\n",
              "      <td>1</td>\n",
              "      <td>Yes</td>\n",
              "      <td>Private</td>\n",
              "      <td>Urban</td>\n",
              "      <td>219.84</td>\n",
              "      <td>NaN</td>\n",
              "      <td>Unknown</td>\n",
              "      <td>1</td>\n",
              "    </tr>\n",
              "    <tr>\n",
              "      <th>19</th>\n",
              "      <td>25226</td>\n",
              "      <td>Male</td>\n",
              "      <td>57.0</td>\n",
              "      <td>0</td>\n",
              "      <td>1</td>\n",
              "      <td>No</td>\n",
              "      <td>Govt_job</td>\n",
              "      <td>Urban</td>\n",
              "      <td>217.08</td>\n",
              "      <td>NaN</td>\n",
              "      <td>Unknown</td>\n",
              "      <td>1</td>\n",
              "    </tr>\n",
              "    <tr>\n",
              "      <th>23</th>\n",
              "      <td>64778</td>\n",
              "      <td>Male</td>\n",
              "      <td>82.0</td>\n",
              "      <td>0</td>\n",
              "      <td>1</td>\n",
              "      <td>Yes</td>\n",
              "      <td>Private</td>\n",
              "      <td>Rural</td>\n",
              "      <td>208.30</td>\n",
              "      <td>32.5</td>\n",
              "      <td>Unknown</td>\n",
              "      <td>1</td>\n",
              "    </tr>\n",
              "    <tr>\n",
              "      <th>...</th>\n",
              "      <td>...</td>\n",
              "      <td>...</td>\n",
              "      <td>...</td>\n",
              "      <td>...</td>\n",
              "      <td>...</td>\n",
              "      <td>...</td>\n",
              "      <td>...</td>\n",
              "      <td>...</td>\n",
              "      <td>...</td>\n",
              "      <td>...</td>\n",
              "      <td>...</td>\n",
              "      <td>...</td>\n",
              "    </tr>\n",
              "    <tr>\n",
              "      <th>5098</th>\n",
              "      <td>579</td>\n",
              "      <td>Male</td>\n",
              "      <td>9.0</td>\n",
              "      <td>0</td>\n",
              "      <td>0</td>\n",
              "      <td>No</td>\n",
              "      <td>children</td>\n",
              "      <td>Urban</td>\n",
              "      <td>71.88</td>\n",
              "      <td>17.5</td>\n",
              "      <td>Unknown</td>\n",
              "      <td>0</td>\n",
              "    </tr>\n",
              "    <tr>\n",
              "      <th>5101</th>\n",
              "      <td>36901</td>\n",
              "      <td>Female</td>\n",
              "      <td>45.0</td>\n",
              "      <td>0</td>\n",
              "      <td>0</td>\n",
              "      <td>Yes</td>\n",
              "      <td>Private</td>\n",
              "      <td>Urban</td>\n",
              "      <td>97.95</td>\n",
              "      <td>24.5</td>\n",
              "      <td>Unknown</td>\n",
              "      <td>0</td>\n",
              "    </tr>\n",
              "    <tr>\n",
              "      <th>5103</th>\n",
              "      <td>22127</td>\n",
              "      <td>Female</td>\n",
              "      <td>18.0</td>\n",
              "      <td>0</td>\n",
              "      <td>0</td>\n",
              "      <td>No</td>\n",
              "      <td>Private</td>\n",
              "      <td>Urban</td>\n",
              "      <td>82.85</td>\n",
              "      <td>46.9</td>\n",
              "      <td>Unknown</td>\n",
              "      <td>0</td>\n",
              "    </tr>\n",
              "    <tr>\n",
              "      <th>5104</th>\n",
              "      <td>14180</td>\n",
              "      <td>Female</td>\n",
              "      <td>13.0</td>\n",
              "      <td>0</td>\n",
              "      <td>0</td>\n",
              "      <td>No</td>\n",
              "      <td>children</td>\n",
              "      <td>Rural</td>\n",
              "      <td>103.08</td>\n",
              "      <td>18.6</td>\n",
              "      <td>Unknown</td>\n",
              "      <td>0</td>\n",
              "    </tr>\n",
              "    <tr>\n",
              "      <th>5109</th>\n",
              "      <td>44679</td>\n",
              "      <td>Female</td>\n",
              "      <td>44.0</td>\n",
              "      <td>0</td>\n",
              "      <td>0</td>\n",
              "      <td>Yes</td>\n",
              "      <td>Govt_job</td>\n",
              "      <td>Urban</td>\n",
              "      <td>85.28</td>\n",
              "      <td>26.2</td>\n",
              "      <td>Unknown</td>\n",
              "      <td>0</td>\n",
              "    </tr>\n",
              "  </tbody>\n",
              "</table>\n",
              "<p>1544 rows × 12 columns</p>\n",
              "</div>\n",
              "      <button class=\"colab-df-convert\" onclick=\"convertToInteractive('df-d1c0f340-1121-4be2-97ce-605e7346ca97')\"\n",
              "              title=\"Convert this dataframe to an interactive table.\"\n",
              "              style=\"display:none;\">\n",
              "        \n",
              "  <svg xmlns=\"http://www.w3.org/2000/svg\" height=\"24px\"viewBox=\"0 0 24 24\"\n",
              "       width=\"24px\">\n",
              "    <path d=\"M0 0h24v24H0V0z\" fill=\"none\"/>\n",
              "    <path d=\"M18.56 5.44l.94 2.06.94-2.06 2.06-.94-2.06-.94-.94-2.06-.94 2.06-2.06.94zm-11 1L8.5 8.5l.94-2.06 2.06-.94-2.06-.94L8.5 2.5l-.94 2.06-2.06.94zm10 10l.94 2.06.94-2.06 2.06-.94-2.06-.94-.94-2.06-.94 2.06-2.06.94z\"/><path d=\"M17.41 7.96l-1.37-1.37c-.4-.4-.92-.59-1.43-.59-.52 0-1.04.2-1.43.59L10.3 9.45l-7.72 7.72c-.78.78-.78 2.05 0 2.83L4 21.41c.39.39.9.59 1.41.59.51 0 1.02-.2 1.41-.59l7.78-7.78 2.81-2.81c.8-.78.8-2.07 0-2.86zM5.41 20L4 18.59l7.72-7.72 1.47 1.35L5.41 20z\"/>\n",
              "  </svg>\n",
              "      </button>\n",
              "      \n",
              "  <style>\n",
              "    .colab-df-container {\n",
              "      display:flex;\n",
              "      flex-wrap:wrap;\n",
              "      gap: 12px;\n",
              "    }\n",
              "\n",
              "    .colab-df-convert {\n",
              "      background-color: #E8F0FE;\n",
              "      border: none;\n",
              "      border-radius: 50%;\n",
              "      cursor: pointer;\n",
              "      display: none;\n",
              "      fill: #1967D2;\n",
              "      height: 32px;\n",
              "      padding: 0 0 0 0;\n",
              "      width: 32px;\n",
              "    }\n",
              "\n",
              "    .colab-df-convert:hover {\n",
              "      background-color: #E2EBFA;\n",
              "      box-shadow: 0px 1px 2px rgba(60, 64, 67, 0.3), 0px 1px 3px 1px rgba(60, 64, 67, 0.15);\n",
              "      fill: #174EA6;\n",
              "    }\n",
              "\n",
              "    [theme=dark] .colab-df-convert {\n",
              "      background-color: #3B4455;\n",
              "      fill: #D2E3FC;\n",
              "    }\n",
              "\n",
              "    [theme=dark] .colab-df-convert:hover {\n",
              "      background-color: #434B5C;\n",
              "      box-shadow: 0px 1px 3px 1px rgba(0, 0, 0, 0.15);\n",
              "      filter: drop-shadow(0px 1px 2px rgba(0, 0, 0, 0.3));\n",
              "      fill: #FFFFFF;\n",
              "    }\n",
              "  </style>\n",
              "\n",
              "      <script>\n",
              "        const buttonEl =\n",
              "          document.querySelector('#df-d1c0f340-1121-4be2-97ce-605e7346ca97 button.colab-df-convert');\n",
              "        buttonEl.style.display =\n",
              "          google.colab.kernel.accessAllowed ? 'block' : 'none';\n",
              "\n",
              "        async function convertToInteractive(key) {\n",
              "          const element = document.querySelector('#df-d1c0f340-1121-4be2-97ce-605e7346ca97');\n",
              "          const dataTable =\n",
              "            await google.colab.kernel.invokeFunction('convertToInteractive',\n",
              "                                                     [key], {});\n",
              "          if (!dataTable) return;\n",
              "\n",
              "          const docLinkHtml = 'Like what you see? Visit the ' +\n",
              "            '<a target=\"_blank\" href=https://colab.research.google.com/notebooks/data_table.ipynb>data table notebook</a>'\n",
              "            + ' to learn more about interactive tables.';\n",
              "          element.innerHTML = '';\n",
              "          dataTable['output_type'] = 'display_data';\n",
              "          await google.colab.output.renderOutput(dataTable, element);\n",
              "          const docLink = document.createElement('div');\n",
              "          docLink.innerHTML = docLinkHtml;\n",
              "          element.appendChild(docLink);\n",
              "        }\n",
              "      </script>\n",
              "    </div>\n",
              "  </div>\n",
              "  "
            ]
          },
          "metadata": {}
        }
      ]
    },
    {
      "cell_type": "code",
      "source": [
        "# Handle Capitalization and 1 record of 'Other' as 'gender'\n",
        "# Drop data\n",
        "data.drop(data.index[data['gender'] == 'Other'], inplace = True)\n",
        "\n",
        "# Reset index of dataframe\n",
        "data = data.reset_index(drop = True)\n",
        "print('Unique data in gender', data['gender'].unique())\n",
        "print('Total Records: ', data.shape[0])"
      ],
      "metadata": {
        "colab": {
          "base_uri": "https://localhost:8080/"
        },
        "id": "4SmVHecLh6pV",
        "outputId": "8ffb7ce2-6494-4b1d-aa41-55459403a131"
      },
      "execution_count": null,
      "outputs": [
        {
          "output_type": "stream",
          "name": "stdout",
          "text": [
            "Unique data in gender ['Male' 'Female']\n",
            "Total Records:  5109\n"
          ]
        }
      ]
    },
    {
      "cell_type": "code",
      "source": [
        "# Change all to lowercase\n",
        "data['gender'] = data['gender'].str.lower()\n",
        "data['ever_married'] = data['ever_married'].str.lower()\n",
        "data['work_type'] = data['work_type'].str.lower()\n",
        "data['Residence_type'] = data['Residence_type'].str.lower()\n",
        "data['smoking_status'] = data['smoking_status'].str.lower()\n",
        "\n",
        "data_select = data[['gender', 'hypertension', 'heart_disease', 'ever_married',\n",
        "                   'work_type', 'Residence_type', 'smoking_status', 'stroke']]\n",
        "dict_created = {}\n",
        "for i in list(data_select.columns):\n",
        "    dict_created[i] = ', '.join(str(x) for x in data_select[i].unique())\n",
        "\n",
        "pd.DataFrame(dict_created,index=[\"unique value\"]).transpose()"
      ],
      "metadata": {
        "colab": {
          "base_uri": "https://localhost:8080/",
          "height": 300
        },
        "id": "nlXYCBDXkh4S",
        "outputId": "a4f11990-b6ac-415f-b69a-19d769f380dd"
      },
      "execution_count": null,
      "outputs": [
        {
          "output_type": "execute_result",
          "data": {
            "text/plain": [
              "                                                     unique value\n",
              "gender                                               male, female\n",
              "hypertension                                                 0, 1\n",
              "heart_disease                                                1, 0\n",
              "ever_married                                              yes, no\n",
              "work_type       private, self-employed, govt_job, children, ne...\n",
              "Residence_type                                       urban, rural\n",
              "smoking_status     formerly smoked, never smoked, smokes, unknown\n",
              "stroke                                                       1, 0"
            ],
            "text/html": [
              "\n",
              "  <div id=\"df-b2dfe19f-80a4-407a-aa4e-b44f4981d7fe\">\n",
              "    <div class=\"colab-df-container\">\n",
              "      <div>\n",
              "<style scoped>\n",
              "    .dataframe tbody tr th:only-of-type {\n",
              "        vertical-align: middle;\n",
              "    }\n",
              "\n",
              "    .dataframe tbody tr th {\n",
              "        vertical-align: top;\n",
              "    }\n",
              "\n",
              "    .dataframe thead th {\n",
              "        text-align: right;\n",
              "    }\n",
              "</style>\n",
              "<table border=\"1\" class=\"dataframe\">\n",
              "  <thead>\n",
              "    <tr style=\"text-align: right;\">\n",
              "      <th></th>\n",
              "      <th>unique value</th>\n",
              "    </tr>\n",
              "  </thead>\n",
              "  <tbody>\n",
              "    <tr>\n",
              "      <th>gender</th>\n",
              "      <td>male, female</td>\n",
              "    </tr>\n",
              "    <tr>\n",
              "      <th>hypertension</th>\n",
              "      <td>0, 1</td>\n",
              "    </tr>\n",
              "    <tr>\n",
              "      <th>heart_disease</th>\n",
              "      <td>1, 0</td>\n",
              "    </tr>\n",
              "    <tr>\n",
              "      <th>ever_married</th>\n",
              "      <td>yes, no</td>\n",
              "    </tr>\n",
              "    <tr>\n",
              "      <th>work_type</th>\n",
              "      <td>private, self-employed, govt_job, children, ne...</td>\n",
              "    </tr>\n",
              "    <tr>\n",
              "      <th>Residence_type</th>\n",
              "      <td>urban, rural</td>\n",
              "    </tr>\n",
              "    <tr>\n",
              "      <th>smoking_status</th>\n",
              "      <td>formerly smoked, never smoked, smokes, unknown</td>\n",
              "    </tr>\n",
              "    <tr>\n",
              "      <th>stroke</th>\n",
              "      <td>1, 0</td>\n",
              "    </tr>\n",
              "  </tbody>\n",
              "</table>\n",
              "</div>\n",
              "      <button class=\"colab-df-convert\" onclick=\"convertToInteractive('df-b2dfe19f-80a4-407a-aa4e-b44f4981d7fe')\"\n",
              "              title=\"Convert this dataframe to an interactive table.\"\n",
              "              style=\"display:none;\">\n",
              "        \n",
              "  <svg xmlns=\"http://www.w3.org/2000/svg\" height=\"24px\"viewBox=\"0 0 24 24\"\n",
              "       width=\"24px\">\n",
              "    <path d=\"M0 0h24v24H0V0z\" fill=\"none\"/>\n",
              "    <path d=\"M18.56 5.44l.94 2.06.94-2.06 2.06-.94-2.06-.94-.94-2.06-.94 2.06-2.06.94zm-11 1L8.5 8.5l.94-2.06 2.06-.94-2.06-.94L8.5 2.5l-.94 2.06-2.06.94zm10 10l.94 2.06.94-2.06 2.06-.94-2.06-.94-.94-2.06-.94 2.06-2.06.94z\"/><path d=\"M17.41 7.96l-1.37-1.37c-.4-.4-.92-.59-1.43-.59-.52 0-1.04.2-1.43.59L10.3 9.45l-7.72 7.72c-.78.78-.78 2.05 0 2.83L4 21.41c.39.39.9.59 1.41.59.51 0 1.02-.2 1.41-.59l7.78-7.78 2.81-2.81c.8-.78.8-2.07 0-2.86zM5.41 20L4 18.59l7.72-7.72 1.47 1.35L5.41 20z\"/>\n",
              "  </svg>\n",
              "      </button>\n",
              "      \n",
              "  <style>\n",
              "    .colab-df-container {\n",
              "      display:flex;\n",
              "      flex-wrap:wrap;\n",
              "      gap: 12px;\n",
              "    }\n",
              "\n",
              "    .colab-df-convert {\n",
              "      background-color: #E8F0FE;\n",
              "      border: none;\n",
              "      border-radius: 50%;\n",
              "      cursor: pointer;\n",
              "      display: none;\n",
              "      fill: #1967D2;\n",
              "      height: 32px;\n",
              "      padding: 0 0 0 0;\n",
              "      width: 32px;\n",
              "    }\n",
              "\n",
              "    .colab-df-convert:hover {\n",
              "      background-color: #E2EBFA;\n",
              "      box-shadow: 0px 1px 2px rgba(60, 64, 67, 0.3), 0px 1px 3px 1px rgba(60, 64, 67, 0.15);\n",
              "      fill: #174EA6;\n",
              "    }\n",
              "\n",
              "    [theme=dark] .colab-df-convert {\n",
              "      background-color: #3B4455;\n",
              "      fill: #D2E3FC;\n",
              "    }\n",
              "\n",
              "    [theme=dark] .colab-df-convert:hover {\n",
              "      background-color: #434B5C;\n",
              "      box-shadow: 0px 1px 3px 1px rgba(0, 0, 0, 0.15);\n",
              "      filter: drop-shadow(0px 1px 2px rgba(0, 0, 0, 0.3));\n",
              "      fill: #FFFFFF;\n",
              "    }\n",
              "  </style>\n",
              "\n",
              "      <script>\n",
              "        const buttonEl =\n",
              "          document.querySelector('#df-b2dfe19f-80a4-407a-aa4e-b44f4981d7fe button.colab-df-convert');\n",
              "        buttonEl.style.display =\n",
              "          google.colab.kernel.accessAllowed ? 'block' : 'none';\n",
              "\n",
              "        async function convertToInteractive(key) {\n",
              "          const element = document.querySelector('#df-b2dfe19f-80a4-407a-aa4e-b44f4981d7fe');\n",
              "          const dataTable =\n",
              "            await google.colab.kernel.invokeFunction('convertToInteractive',\n",
              "                                                     [key], {});\n",
              "          if (!dataTable) return;\n",
              "\n",
              "          const docLinkHtml = 'Like what you see? Visit the ' +\n",
              "            '<a target=\"_blank\" href=https://colab.research.google.com/notebooks/data_table.ipynb>data table notebook</a>'\n",
              "            + ' to learn more about interactive tables.';\n",
              "          element.innerHTML = '';\n",
              "          dataTable['output_type'] = 'display_data';\n",
              "          await google.colab.output.renderOutput(dataTable, element);\n",
              "          const docLink = document.createElement('div');\n",
              "          docLink.innerHTML = docLinkHtml;\n",
              "          element.appendChild(docLink);\n",
              "        }\n",
              "      </script>\n",
              "    </div>\n",
              "  </div>\n",
              "  "
            ]
          },
          "metadata": {},
          "execution_count": 69
        }
      ]
    },
    {
      "cell_type": "code",
      "source": [
        "# STEP 3 (Handle Duplication Data)\n",
        "#\n",
        "# Verdicts:\n",
        "# 1) No duplicated records detected, can skip this step\n",
        "# Detect duplicated records by id\n",
        "print(\"Number of duplicated ID: \", data[data.columns[0]].duplicated().sum())\n",
        "\n",
        "# Detect duplicated records by all attributes\n",
        "print(\"Number of duplicated Records: \", data.duplicated().sum())"
      ],
      "metadata": {
        "colab": {
          "base_uri": "https://localhost:8080/"
        },
        "id": "lf3LzSE3qo6I",
        "outputId": "678bb892-6ab3-42b0-ba16-36fe99f3f3c4"
      },
      "execution_count": null,
      "outputs": [
        {
          "output_type": "stream",
          "name": "stdout",
          "text": [
            "Number of duplicated ID:  0\n",
            "Number of duplicated Records:  0\n"
          ]
        }
      ]
    },
    {
      "cell_type": "code",
      "source": [
        "# STEP 4 (Perform 1st EDA)\n",
        "# Descriptive Statistical Information is DONE ALREADY EARLIER\n",
        "# ...bringing the verdict:\n",
        "# 1) Outliers suspected (std > mean) = hypertension, heart_disease, stroke (ignore)\n",
        "# 2) Outliers to consider (min, max values) = age (min = 0.08), avg_glucose_level\n",
        "# (min = 55.12, max = 271.74), but still consider BMI (max = 97)\n",
        "#\n",
        "# Plot boxplot (Handling verdict 2: age, avg_glucose_level, bmi)\n",
        "# ----------------------------------------------------------------\n",
        "# Boxplot shows how well your data is dispersed and distributed which tells you if your\n",
        "# data is symmetrical, how tightly your data is grouped, and if and how your data is skewed.\n",
        "# Even they show outliers visibly that is position OUTSIDE OF MAX or MIN boundary.\n",
        "# ----------------------------------------------------------------\n",
        "# Verdicts:\n",
        "# 1) Age against Stroke boxplot shows outliers\n",
        "# 2) BMI against Stroke boxplot shows outliers (dot is spread so far away when Stroke = 0)\n",
        "fig, axes = plt.subplots(nrows = 1, ncols = 3, figsize = (18, 6) , squeeze=True) # Segment subplots arranged as 1 row and 3 columns\n",
        "\n",
        "sns.boxplot(data=data, y=data['age'], x=data['stroke'], ax=axes[0]) # axes refers to column positioning when row is 1\n",
        "sns.boxplot(data=data, y=data['bmi'], x=data['stroke'], ax=axes[1])\n",
        "sns.boxplot(data=data, y=data['avg_glucose_level'], x=data['stroke'], ax=axes[2])\n",
        "\n",
        "plt.show"
      ],
      "metadata": {
        "colab": {
          "base_uri": "https://localhost:8080/",
          "height": 406
        },
        "id": "ZcgudEhCs-nS",
        "outputId": "97f2fbe5-99c5-45c2-b670-5a3a18114205"
      },
      "execution_count": null,
      "outputs": [
        {
          "output_type": "execute_result",
          "data": {
            "text/plain": [
              "<function matplotlib.pyplot.show>"
            ]
          },
          "metadata": {},
          "execution_count": 71
        },
        {
          "output_type": "display_data",
          "data": {
            "text/plain": [
              "<Figure size 1296x432 with 3 Axes>"
            ],
            "image/png": "[encoded data removed]"
          },
          "metadata": {
            "needs_background": "light"
          }
        }
      ]
    },
    {
      "cell_type": "code",
      "source": [
        "# Plot histogram (Handling verdict 1: hypertension, heart_disease, and others)\n",
        "# -----------------------------------------------------\n",
        "# Histogram shows the frequency comparison between 2 or more types of attributes or\n",
        "# data value which helps us to decide actions to take on the distribution shown,\n",
        "# It shows the Relationship too between x and y\n",
        "# -----------------------------------------------------\n",
        "# Verdicts:\n",
        "# 1) There are more people w/o stroke than w/ stroke which means the data is not\n",
        "# balanced\n",
        "fig, axes = plt.subplots(nrows = 3, ncols = 3, figsize = (18, 18))\n",
        "\n",
        "fig.delaxes(ax=axes[2,1]) # to delete extra subplots located at row 2, col 1 & 2\n",
        "fig.delaxes(ax=axes[2,2])\n",
        "\n",
        "sns.countplot(x=\"gender\", hue='stroke', data=data , ax=axes[0,0])\n",
        "sns.countplot(x=\"hypertension\", hue='stroke', data=data , ax=axes[0,1])\n",
        "sns.countplot(x=\"heart_disease\", hue='stroke', data=data , ax=axes[0,2])\n",
        "\n",
        "sns.countplot(x=\"ever_married\", hue='stroke', data=data , ax=axes[1,0])\n",
        "sns.countplot(x=\"work_type\", hue='stroke', data=data , ax=axes[1,1])\n",
        "sns.countplot(x=\"Residence_type\", hue='stroke', data=data , ax=axes[1,2])\n",
        "\n",
        "sns.countplot(x=\"smoking_status\", hue='stroke', data=data , ax=axes[2,0])\n",
        "\n",
        "plt.show()"
      ],
      "metadata": {
        "colab": {
          "base_uri": "https://localhost:8080/",
          "height": 1000
        },
        "id": "hGG1QDGzSOeN",
        "outputId": "175c771e-e2ac-4c9b-c860-e91222cd2ae3"
      },
      "execution_count": null,
      "outputs": [
        {
          "output_type": "display_data",
          "data": {
            "text/plain": [
              "<Figure size 1296x1296 with 7 Axes>"
            ],
            "image/png": "[encoded data removed]"
          },
          "metadata": {
            "needs_background": "light"
          }
        }
      ]
    },
    {
      "cell_type": "code",
      "source": [
        "# Plot scatterplot (Handling verdict 2: age, avg_glucose_level, bmi)\n",
        "# ----------------------------------------------------\n",
        "# Scatterplot reveals outliers which are spread far away from the mean\n",
        "# ----------------------------------------------------\n",
        "# Verdicts:\n",
        "# 1) To confirm verdicts in boxplot, BMI and age have outliers.\n",
        "# However, these are against stroke. We must confirm individually w/o stroke.\n",
        "fig, axes = plt.subplots(nrows = 1, ncols = 3, figsize = (18, 6) , squeeze=True)\n",
        "\n",
        "sns.scatterplot(data=data, x=data['stroke'], y=data['age'], ax=axes[0])\n",
        "sns.scatterplot(data=data, x=data['stroke'], y=data['bmi'], ax=axes[1] )\n",
        "sns.scatterplot(data=data, x=data['stroke'], y=data['avg_glucose_level'], ax=axes[2])\n",
        "\n",
        "plt.show"
      ],
      "metadata": {
        "colab": {
          "base_uri": "https://localhost:8080/",
          "height": 406
        },
        "id": "nN24zE7eSWnF",
        "outputId": "d2a64b48-9b39-4bc4-cdef-953c4fb7022c"
      },
      "execution_count": null,
      "outputs": [
        {
          "output_type": "execute_result",
          "data": {
            "text/plain": [
              "<function matplotlib.pyplot.show>"
            ]
          },
          "metadata": {},
          "execution_count": 73
        },
        {
          "output_type": "display_data",
          "data": {
            "text/plain": [
              "<Figure size 1296x432 with 3 Axes>"
            ],
            "image/png": "[encoded data removed]"
          },
          "metadata": {
            "needs_background": "light"
          }
        }
      ]
    },
    {
      "cell_type": "code",
      "source": [
        "# To Re-Confirm outliers in age and BMI\n",
        "# Plot Individual Boxplot\n",
        "# Verdicts:\n",
        "# 1) Age shows NO outliers, while BMI still shows outliers of value > 70.\n",
        "# Therefore, conduct outliers removal on BMI respectively\n",
        "fig, axes = plt.subplots(nrows = 1, ncols = 2, figsize = (10, 6) , squeeze=True)\n",
        "\n",
        "sns.boxplot(data=data, y=data['age'], ax=axes[0])\n",
        "sns.boxplot(data=data, y=data['bmi'], ax=axes[1])\n",
        "\n",
        "plt.show"
      ],
      "metadata": {
        "colab": {
          "base_uri": "https://localhost:8080/",
          "height": 379
        },
        "id": "jCmycIGq3Ecv",
        "outputId": "4691f08b-be3b-462d-ecef-76ca8f9b9271"
      },
      "execution_count": null,
      "outputs": [
        {
          "output_type": "execute_result",
          "data": {
            "text/plain": [
              "<function matplotlib.pyplot.show>"
            ]
          },
          "metadata": {},
          "execution_count": 74
        },
        {
          "output_type": "display_data",
          "data": {
            "text/plain": [
              "<Figure size 720x432 with 2 Axes>"
            ],
            "image/png": "[encoded data removed]"
          },
          "metadata": {
            "needs_background": "light"
          }
        }
      ]
    },
    {
      "cell_type": "code",
      "source": [
        "# Display rows with 'bmi' > 70\n",
        "# Verdicts:\n",
        "# 1) It shows 4 records of outliers which is VERY SMALL to 5109 total records,\n",
        "# therefore not an issue to discard these outliers\n",
        "display(data[data['bmi'] > 70])\n",
        "\n",
        "# Discard outliers\n",
        "data.drop(data.index[data['bmi'] > 70], inplace = True)\n",
        "\n",
        "# Reset index of data\n",
        "data = data.reset_index(drop = True)"
      ],
      "metadata": {
        "colab": {
          "base_uri": "https://localhost:8080/",
          "height": 175
        },
        "id": "2Egz1Mi930Gy",
        "outputId": "3a6f93f2-d313-4f78-9add-0bae28df8ecd"
      },
      "execution_count": null,
      "outputs": [
        {
          "output_type": "display_data",
          "data": {
            "text/plain": [
              "         id  gender   age  hypertension  heart_disease ever_married work_type  \\\n",
              "544     545    male  42.0             0              0          yes   private   \n",
              "928   41097  female  23.0             1              0           no   private   \n",
              "2128  56420    male  17.0             1              0           no   private   \n",
              "4208  51856    male  38.0             1              0          yes   private   \n",
              "\n",
              "     Residence_type  avg_glucose_level   bmi smoking_status  stroke  \n",
              "544           rural             210.48  71.9   never smoked       0  \n",
              "928           urban              70.03  78.0         smokes       0  \n",
              "2128          rural              61.67  97.6        unknown       0  \n",
              "4208          rural              56.90  92.0   never smoked       0  "
            ],
            "text/html": [
              "\n",
              "  <div id=\"df-e14540f5-19d3-4d8c-a224-c4711b717d83\">\n",
              "    <div class=\"colab-df-container\">\n",
              "      <div>\n",
              "<style scoped>\n",
              "    .dataframe tbody tr th:only-of-type {\n",
              "        vertical-align: middle;\n",
              "    }\n",
              "\n",
              "    .dataframe tbody tr th {\n",
              "        vertical-align: top;\n",
              "    }\n",
              "\n",
              "    .dataframe thead th {\n",
              "        text-align: right;\n",
              "    }\n",
              "</style>\n",
              "<table border=\"1\" class=\"dataframe\">\n",
              "  <thead>\n",
              "    <tr style=\"text-align: right;\">\n",
              "      <th></th>\n",
              "      <th>id</th>\n",
              "      <th>gender</th>\n",
              "      <th>age</th>\n",
              "      <th>hypertension</th>\n",
              "      <th>heart_disease</th>\n",
              "      <th>ever_married</th>\n",
              "      <th>work_type</th>\n",
              "      <th>Residence_type</th>\n",
              "      <th>avg_glucose_level</th>\n",
              "      <th>bmi</th>\n",
              "      <th>smoking_status</th>\n",
              "      <th>stroke</th>\n",
              "    </tr>\n",
              "  </thead>\n",
              "  <tbody>\n",
              "    <tr>\n",
              "      <th>544</th>\n",
              "      <td>545</td>\n",
              "      <td>male</td>\n",
              "      <td>42.0</td>\n",
              "      <td>0</td>\n",
              "      <td>0</td>\n",
              "      <td>yes</td>\n",
              "      <td>private</td>\n",
              "      <td>rural</td>\n",
              "      <td>210.48</td>\n",
              "      <td>71.9</td>\n",
              "      <td>never smoked</td>\n",
              "      <td>0</td>\n",
              "    </tr>\n",
              "    <tr>\n",
              "      <th>928</th>\n",
              "      <td>41097</td>\n",
              "      <td>female</td>\n",
              "      <td>23.0</td>\n",
              "      <td>1</td>\n",
              "      <td>0</td>\n",
              "      <td>no</td>\n",
              "      <td>private</td>\n",
              "      <td>urban</td>\n",
              "      <td>70.03</td>\n",
              "      <td>78.0</td>\n",
              "      <td>smokes</td>\n",
              "      <td>0</td>\n",
              "    </tr>\n",
              "    <tr>\n",
              "      <th>2128</th>\n",
              "      <td>56420</td>\n",
              "      <td>male</td>\n",
              "      <td>17.0</td>\n",
              "      <td>1</td>\n",
              "      <td>0</td>\n",
              "      <td>no</td>\n",
              "      <td>private</td>\n",
              "      <td>rural</td>\n",
              "      <td>61.67</td>\n",
              "      <td>97.6</td>\n",
              "      <td>unknown</td>\n",
              "      <td>0</td>\n",
              "    </tr>\n",
              "    <tr>\n",
              "      <th>4208</th>\n",
              "      <td>51856</td>\n",
              "      <td>male</td>\n",
              "      <td>38.0</td>\n",
              "      <td>1</td>\n",
              "      <td>0</td>\n",
              "      <td>yes</td>\n",
              "      <td>private</td>\n",
              "      <td>rural</td>\n",
              "      <td>56.90</td>\n",
              "      <td>92.0</td>\n",
              "      <td>never smoked</td>\n",
              "      <td>0</td>\n",
              "    </tr>\n",
              "  </tbody>\n",
              "</table>\n",
              "</div>\n",
              "      <button class=\"colab-df-convert\" onclick=\"convertToInteractive('df-e14540f5-19d3-4d8c-a224-c4711b717d83')\"\n",
              "              title=\"Convert this dataframe to an interactive table.\"\n",
              "              style=\"display:none;\">\n",
              "        \n",
              "  <svg xmlns=\"http://www.w3.org/2000/svg\" height=\"24px\"viewBox=\"0 0 24 24\"\n",
              "       width=\"24px\">\n",
              "    <path d=\"M0 0h24v24H0V0z\" fill=\"none\"/>\n",
              "    <path d=\"M18.56 5.44l.94 2.06.94-2.06 2.06-.94-2.06-.94-.94-2.06-.94 2.06-2.06.94zm-11 1L8.5 8.5l.94-2.06 2.06-.94-2.06-.94L8.5 2.5l-.94 2.06-2.06.94zm10 10l.94 2.06.94-2.06 2.06-.94-2.06-.94-.94-2.06-.94 2.06-2.06.94z\"/><path d=\"M17.41 7.96l-1.37-1.37c-.4-.4-.92-.59-1.43-.59-.52 0-1.04.2-1.43.59L10.3 9.45l-7.72 7.72c-.78.78-.78 2.05 0 2.83L4 21.41c.39.39.9.59 1.41.59.51 0 1.02-.2 1.41-.59l7.78-7.78 2.81-2.81c.8-.78.8-2.07 0-2.86zM5.41 20L4 18.59l7.72-7.72 1.47 1.35L5.41 20z\"/>\n",
              "  </svg>\n",
              "      </button>\n",
              "      \n",
              "  <style>\n",
              "    .colab-df-container {\n",
              "      display:flex;\n",
              "      flex-wrap:wrap;\n",
              "      gap: 12px;\n",
              "    }\n",
              "\n",
              "    .colab-df-convert {\n",
              "      background-color: #E8F0FE;\n",
              "      border: none;\n",
              "      border-radius: 50%;\n",
              "      cursor: pointer;\n",
              "      display: none;\n",
              "      fill: #1967D2;\n",
              "      height: 32px;\n",
              "      padding: 0 0 0 0;\n",
              "      width: 32px;\n",
              "    }\n",
              "\n",
              "    .colab-df-convert:hover {\n",
              "      background-color: #E2EBFA;\n",
              "      box-shadow: 0px 1px 2px rgba(60, 64, 67, 0.3), 0px 1px 3px 1px rgba(60, 64, 67, 0.15);\n",
              "      fill: #174EA6;\n",
              "    }\n",
              "\n",
              "    [theme=dark] .colab-df-convert {\n",
              "      background-color: #3B4455;\n",
              "      fill: #D2E3FC;\n",
              "    }\n",
              "\n",
              "    [theme=dark] .colab-df-convert:hover {\n",
              "      background-color: #434B5C;\n",
              "      box-shadow: 0px 1px 3px 1px rgba(0, 0, 0, 0.15);\n",
              "      filter: drop-shadow(0px 1px 2px rgba(0, 0, 0, 0.3));\n",
              "      fill: #FFFFFF;\n",
              "    }\n",
              "  </style>\n",
              "\n",
              "      <script>\n",
              "        const buttonEl =\n",
              "          document.querySelector('#df-e14540f5-19d3-4d8c-a224-c4711b717d83 button.colab-df-convert');\n",
              "        buttonEl.style.display =\n",
              "          google.colab.kernel.accessAllowed ? 'block' : 'none';\n",
              "\n",
              "        async function convertToInteractive(key) {\n",
              "          const element = document.querySelector('#df-e14540f5-19d3-4d8c-a224-c4711b717d83');\n",
              "          const dataTable =\n",
              "            await google.colab.kernel.invokeFunction('convertToInteractive',\n",
              "                                                     [key], {});\n",
              "          if (!dataTable) return;\n",
              "\n",
              "          const docLinkHtml = 'Like what you see? Visit the ' +\n",
              "            '<a target=\"_blank\" href=https://colab.research.google.com/notebooks/data_table.ipynb>data table notebook</a>'\n",
              "            + ' to learn more about interactive tables.';\n",
              "          element.innerHTML = '';\n",
              "          dataTable['output_type'] = 'display_data';\n",
              "          await google.colab.output.renderOutput(dataTable, element);\n",
              "          const docLink = document.createElement('div');\n",
              "          docLink.innerHTML = docLinkHtml;\n",
              "          element.appendChild(docLink);\n",
              "        }\n",
              "      </script>\n",
              "    </div>\n",
              "  </div>\n",
              "  "
            ]
          },
          "metadata": {}
        }
      ]
    },
    {
      "cell_type": "code",
      "source": [
        "# Checking outliers after handling outliers\n",
        "# OUTLIERS ARE GONE!!!\n",
        "plt.figure(figsize = (4,5)) # set figure size\n",
        "\n",
        "sns.boxplot(data=data, y=data['bmi'])\n",
        "\n",
        "plt.show"
      ],
      "metadata": {
        "colab": {
          "base_uri": "https://localhost:8080/",
          "height": 324
        },
        "id": "dUnKuXeX4oNY",
        "outputId": "a7df18e4-38c5-4876-f5fb-e435202f9221"
      },
      "execution_count": null,
      "outputs": [
        {
          "output_type": "execute_result",
          "data": {
            "text/plain": [
              "<function matplotlib.pyplot.show>"
            ]
          },
          "metadata": {},
          "execution_count": 76
        },
        {
          "output_type": "display_data",
          "data": {
            "text/plain": [
              "<Figure size 288x360 with 1 Axes>"
            ],
            "image/png": "[encoded data removed]"
          },
          "metadata": {
            "needs_background": "light"
          }
        }
      ]
    },
    {
      "cell_type": "code",
      "source": [
        "# STEP 5 (Handle missing data)\n",
        "#\n",
        "# Check missing value\n",
        "# Verdicts:\n",
        "# 1) Yes, we were right, there are 201 missing data in 'bmi'\n",
        "print(data.isnull().sum())"
      ],
      "metadata": {
        "colab": {
          "base_uri": "https://localhost:8080/"
        },
        "id": "6WTMTj2AmGPn",
        "outputId": "eb133ec0-ed19-4e01-a96a-79db64c08e4f"
      },
      "execution_count": null,
      "outputs": [
        {
          "output_type": "stream",
          "name": "stdout",
          "text": [
            "id                     0\n",
            "gender                 0\n",
            "age                    0\n",
            "hypertension           0\n",
            "heart_disease          0\n",
            "ever_married           0\n",
            "work_type              0\n",
            "Residence_type         0\n",
            "avg_glucose_level      0\n",
            "bmi                  201\n",
            "smoking_status         0\n",
            "stroke                 0\n",
            "dtype: int64\n"
          ]
        }
      ]
    },
    {
      "cell_type": "code",
      "source": [
        "# Check percentage of missing data\n",
        "# Verdicts:\n",
        "# 1) Since 3.94% is very little, imputing it with mean shouldn't be\n",
        "# much of hassle and it wont affect much to the overall data\n",
        "print('Percentage of missing data: ', round(data['bmi'].isnull().sum()/data.shape[0]*100, 2), '%')"
      ],
      "metadata": {
        "colab": {
          "base_uri": "https://localhost:8080/"
        },
        "id": "IvYnNhhog2B3",
        "outputId": "15a1aa9e-a925-4ea3-a871-566dcdc0ed62"
      },
      "execution_count": null,
      "outputs": [
        {
          "output_type": "stream",
          "name": "stdout",
          "text": [
            "Percentage of missing data:  3.94 %\n"
          ]
        }
      ]
    },
    {
      "cell_type": "code",
      "source": [
        "# Impute missing data with mean\n",
        "# MISSING DATA IS GONE!!!\n",
        "data[\"bmi\"] = data[\"bmi\"].fillna(data[\"bmi\"].mean())\n",
        "print(data.isnull().sum())"
      ],
      "metadata": {
        "colab": {
          "base_uri": "https://localhost:8080/"
        },
        "id": "Z6q0jQ4NpSHA",
        "outputId": "643077dd-057b-4f98-8157-e0782e786064"
      },
      "execution_count": null,
      "outputs": [
        {
          "output_type": "stream",
          "name": "stdout",
          "text": [
            "id                   0\n",
            "gender               0\n",
            "age                  0\n",
            "hypertension         0\n",
            "heart_disease        0\n",
            "ever_married         0\n",
            "work_type            0\n",
            "Residence_type       0\n",
            "avg_glucose_level    0\n",
            "bmi                  0\n",
            "smoking_status       0\n",
            "stroke               0\n",
            "dtype: int64\n"
          ]
        }
      ]
    },
    {
      "cell_type": "code",
      "source": [
        "# STEP 6 (Perform Label Encoding)\n",
        "# \n",
        "# Factorize Categorical Data to Numerical\n",
        "data_select = data.select_dtypes(include='object')\n",
        "for i in list(data_select.columns):\n",
        "    data[i] = pd.factorize(data[i])[0]\n",
        "\n",
        "data.head()"
      ],
      "metadata": {
        "colab": {
          "base_uri": "https://localhost:8080/",
          "height": 206
        },
        "id": "EE92zXox6YPA",
        "outputId": "33eca9be-32a4-4d9b-b470-29b3742b6f53"
      },
      "execution_count": null,
      "outputs": [
        {
          "output_type": "execute_result",
          "data": {
            "text/plain": [
              "      id  gender   age  hypertension  heart_disease  ever_married  work_type  \\\n",
              "0   9046       0  67.0             0              1             0          0   \n",
              "1  51676       1  61.0             0              0             0          1   \n",
              "2  31112       0  80.0             0              1             0          0   \n",
              "3  60182       1  49.0             0              0             0          0   \n",
              "4   1665       1  79.0             1              0             0          1   \n",
              "\n",
              "   Residence_type  avg_glucose_level        bmi  smoking_status  stroke  \n",
              "0               0             228.69  36.600000               0       1  \n",
              "1               1             202.21  28.848899               1       1  \n",
              "2               1             105.92  32.500000               1       1  \n",
              "3               0             171.23  34.400000               2       1  \n",
              "4               1             174.12  24.000000               1       1  "
            ],
            "text/html": [
              "\n",
              "  <div id=\"df-68cc7f24-c806-4da6-9a29-5d980428d958\">\n",
              "    <div class=\"colab-df-container\">\n",
              "      <div>\n",
              "<style scoped>\n",
              "    .dataframe tbody tr th:only-of-type {\n",
              "        vertical-align: middle;\n",
              "    }\n",
              "\n",
              "    .dataframe tbody tr th {\n",
              "        vertical-align: top;\n",
              "    }\n",
              "\n",
              "    .dataframe thead th {\n",
              "        text-align: right;\n",
              "    }\n",
              "</style>\n",
              "<table border=\"1\" class=\"dataframe\">\n",
              "  <thead>\n",
              "    <tr style=\"text-align: right;\">\n",
              "      <th></th>\n",
              "      <th>id</th>\n",
              "      <th>gender</th>\n",
              "      <th>age</th>\n",
              "      <th>hypertension</th>\n",
              "      <th>heart_disease</th>\n",
              "      <th>ever_married</th>\n",
              "      <th>work_type</th>\n",
              "      <th>Residence_type</th>\n",
              "      <th>avg_glucose_level</th>\n",
              "      <th>bmi</th>\n",
              "      <th>smoking_status</th>\n",
              "      <th>stroke</th>\n",
              "    </tr>\n",
              "  </thead>\n",
              "  <tbody>\n",
              "    <tr>\n",
              "      <th>0</th>\n",
              "      <td>9046</td>\n",
              "      <td>0</td>\n",
              "      <td>67.0</td>\n",
              "      <td>0</td>\n",
              "      <td>1</td>\n",
              "      <td>0</td>\n",
              "      <td>0</td>\n",
              "      <td>0</td>\n",
              "      <td>228.69</td>\n",
              "      <td>36.600000</td>\n",
              "      <td>0</td>\n",
              "      <td>1</td>\n",
              "    </tr>\n",
              "    <tr>\n",
              "      <th>1</th>\n",
              "      <td>51676</td>\n",
              "      <td>1</td>\n",
              "      <td>61.0</td>\n",
              "      <td>0</td>\n",
              "      <td>0</td>\n",
              "      <td>0</td>\n",
              "      <td>1</td>\n",
              "      <td>1</td>\n",
              "      <td>202.21</td>\n",
              "      <td>28.848899</td>\n",
              "      <td>1</td>\n",
              "      <td>1</td>\n",
              "    </tr>\n",
              "    <tr>\n",
              "      <th>2</th>\n",
              "      <td>31112</td>\n",
              "      <td>0</td>\n",
              "      <td>80.0</td>\n",
              "      <td>0</td>\n",
              "      <td>1</td>\n",
              "      <td>0</td>\n",
              "      <td>0</td>\n",
              "      <td>1</td>\n",
              "      <td>105.92</td>\n",
              "      <td>32.500000</td>\n",
              "      <td>1</td>\n",
              "      <td>1</td>\n",
              "    </tr>\n",
              "    <tr>\n",
              "      <th>3</th>\n",
              "      <td>60182</td>\n",
              "      <td>1</td>\n",
              "      <td>49.0</td>\n",
              "      <td>0</td>\n",
              "      <td>0</td>\n",
              "      <td>0</td>\n",
              "      <td>0</td>\n",
              "      <td>0</td>\n",
              "      <td>171.23</td>\n",
              "      <td>34.400000</td>\n",
              "      <td>2</td>\n",
              "      <td>1</td>\n",
              "    </tr>\n",
              "    <tr>\n",
              "      <th>4</th>\n",
              "      <td>1665</td>\n",
              "      <td>1</td>\n",
              "      <td>79.0</td>\n",
              "      <td>1</td>\n",
              "      <td>0</td>\n",
              "      <td>0</td>\n",
              "      <td>1</td>\n",
              "      <td>1</td>\n",
              "      <td>174.12</td>\n",
              "      <td>24.000000</td>\n",
              "      <td>1</td>\n",
              "      <td>1</td>\n",
              "    </tr>\n",
              "  </tbody>\n",
              "</table>\n",
              "</div>\n",
              "      <button class=\"colab-df-convert\" onclick=\"convertToInteractive('df-68cc7f24-c806-4da6-9a29-5d980428d958')\"\n",
              "              title=\"Convert this dataframe to an interactive table.\"\n",
              "              style=\"display:none;\">\n",
              "        \n",
              "  <svg xmlns=\"http://www.w3.org/2000/svg\" height=\"24px\"viewBox=\"0 0 24 24\"\n",
              "       width=\"24px\">\n",
              "    <path d=\"M0 0h24v24H0V0z\" fill=\"none\"/>\n",
              "    <path d=\"M18.56 5.44l.94 2.06.94-2.06 2.06-.94-2.06-.94-.94-2.06-.94 2.06-2.06.94zm-11 1L8.5 8.5l.94-2.06 2.06-.94-2.06-.94L8.5 2.5l-.94 2.06-2.06.94zm10 10l.94 2.06.94-2.06 2.06-.94-2.06-.94-.94-2.06-.94 2.06-2.06.94z\"/><path d=\"M17.41 7.96l-1.37-1.37c-.4-.4-.92-.59-1.43-.59-.52 0-1.04.2-1.43.59L10.3 9.45l-7.72 7.72c-.78.78-.78 2.05 0 2.83L4 21.41c.39.39.9.59 1.41.59.51 0 1.02-.2 1.41-.59l7.78-7.78 2.81-2.81c.8-.78.8-2.07 0-2.86zM5.41 20L4 18.59l7.72-7.72 1.47 1.35L5.41 20z\"/>\n",
              "  </svg>\n",
              "      </button>\n",
              "      \n",
              "  <style>\n",
              "    .colab-df-container {\n",
              "      display:flex;\n",
              "      flex-wrap:wrap;\n",
              "      gap: 12px;\n",
              "    }\n",
              "\n",
              "    .colab-df-convert {\n",
              "      background-color: #E8F0FE;\n",
              "      border: none;\n",
              "      border-radius: 50%;\n",
              "      cursor: pointer;\n",
              "      display: none;\n",
              "      fill: #1967D2;\n",
              "      height: 32px;\n",
              "      padding: 0 0 0 0;\n",
              "      width: 32px;\n",
              "    }\n",
              "\n",
              "    .colab-df-convert:hover {\n",
              "      background-color: #E2EBFA;\n",
              "      box-shadow: 0px 1px 2px rgba(60, 64, 67, 0.3), 0px 1px 3px 1px rgba(60, 64, 67, 0.15);\n",
              "      fill: #174EA6;\n",
              "    }\n",
              "\n",
              "    [theme=dark] .colab-df-convert {\n",
              "      background-color: #3B4455;\n",
              "      fill: #D2E3FC;\n",
              "    }\n",
              "\n",
              "    [theme=dark] .colab-df-convert:hover {\n",
              "      background-color: #434B5C;\n",
              "      box-shadow: 0px 1px 3px 1px rgba(0, 0, 0, 0.15);\n",
              "      filter: drop-shadow(0px 1px 2px rgba(0, 0, 0, 0.3));\n",
              "      fill: #FFFFFF;\n",
              "    }\n",
              "  </style>\n",
              "\n",
              "      <script>\n",
              "        const buttonEl =\n",
              "          document.querySelector('#df-68cc7f24-c806-4da6-9a29-5d980428d958 button.colab-df-convert');\n",
              "        buttonEl.style.display =\n",
              "          google.colab.kernel.accessAllowed ? 'block' : 'none';\n",
              "\n",
              "        async function convertToInteractive(key) {\n",
              "          const element = document.querySelector('#df-68cc7f24-c806-4da6-9a29-5d980428d958');\n",
              "          const dataTable =\n",
              "            await google.colab.kernel.invokeFunction('convertToInteractive',\n",
              "                                                     [key], {});\n",
              "          if (!dataTable) return;\n",
              "\n",
              "          const docLinkHtml = 'Like what you see? Visit the ' +\n",
              "            '<a target=\"_blank\" href=https://colab.research.google.com/notebooks/data_table.ipynb>data table notebook</a>'\n",
              "            + ' to learn more about interactive tables.';\n",
              "          element.innerHTML = '';\n",
              "          dataTable['output_type'] = 'display_data';\n",
              "          await google.colab.output.renderOutput(dataTable, element);\n",
              "          const docLink = document.createElement('div');\n",
              "          docLink.innerHTML = docLinkHtml;\n",
              "          element.appendChild(docLink);\n",
              "        }\n",
              "      </script>\n",
              "    </div>\n",
              "  </div>\n",
              "  "
            ]
          },
          "metadata": {},
          "execution_count": 80
        }
      ]
    },
    {
      "cell_type": "code",
      "source": [
        "# Check encoding by viewing unique values\n",
        "# LABEL ENCODING SUCCEEDED!!!\n",
        "dict_created = {}\n",
        "for i in list(data_select.columns):\n",
        "    dict_created[i] = ', '.join(str(x) for x in data[i].unique())\n",
        "\n",
        "pd.DataFrame(dict_created,index=[\"unique value\"]).transpose()"
      ],
      "metadata": {
        "colab": {
          "base_uri": "https://localhost:8080/",
          "height": 206
        },
        "id": "vCUW2zj7BGk4",
        "outputId": "3a056f7a-8323-4360-976f-131aef76abc8"
      },
      "execution_count": null,
      "outputs": [
        {
          "output_type": "execute_result",
          "data": {
            "text/plain": [
              "                 unique value\n",
              "gender                   0, 1\n",
              "ever_married             0, 1\n",
              "work_type       0, 1, 2, 3, 4\n",
              "Residence_type           0, 1\n",
              "smoking_status     0, 1, 2, 3"
            ],
            "text/html": [
              "\n",
              "  <div id=\"df-4a68ac96-6dd5-46c3-879d-c47432e56ea5\">\n",
              "    <div class=\"colab-df-container\">\n",
              "      <div>\n",
              "<style scoped>\n",
              "    .dataframe tbody tr th:only-of-type {\n",
              "        vertical-align: middle;\n",
              "    }\n",
              "\n",
              "    .dataframe tbody tr th {\n",
              "        vertical-align: top;\n",
              "    }\n",
              "\n",
              "    .dataframe thead th {\n",
              "        text-align: right;\n",
              "    }\n",
              "</style>\n",
              "<table border=\"1\" class=\"dataframe\">\n",
              "  <thead>\n",
              "    <tr style=\"text-align: right;\">\n",
              "      <th></th>\n",
              "      <th>unique value</th>\n",
              "    </tr>\n",
              "  </thead>\n",
              "  <tbody>\n",
              "    <tr>\n",
              "      <th>gender</th>\n",
              "      <td>0, 1</td>\n",
              "    </tr>\n",
              "    <tr>\n",
              "      <th>ever_married</th>\n",
              "      <td>0, 1</td>\n",
              "    </tr>\n",
              "    <tr>\n",
              "      <th>work_type</th>\n",
              "      <td>0, 1, 2, 3, 4</td>\n",
              "    </tr>\n",
              "    <tr>\n",
              "      <th>Residence_type</th>\n",
              "      <td>0, 1</td>\n",
              "    </tr>\n",
              "    <tr>\n",
              "      <th>smoking_status</th>\n",
              "      <td>0, 1, 2, 3</td>\n",
              "    </tr>\n",
              "  </tbody>\n",
              "</table>\n",
              "</div>\n",
              "      <button class=\"colab-df-convert\" onclick=\"convertToInteractive('df-4a68ac96-6dd5-46c3-879d-c47432e56ea5')\"\n",
              "              title=\"Convert this dataframe to an interactive table.\"\n",
              "              style=\"display:none;\">\n",
              "        \n",
              "  <svg xmlns=\"http://www.w3.org/2000/svg\" height=\"24px\"viewBox=\"0 0 24 24\"\n",
              "       width=\"24px\">\n",
              "    <path d=\"M0 0h24v24H0V0z\" fill=\"none\"/>\n",
              "    <path d=\"M18.56 5.44l.94 2.06.94-2.06 2.06-.94-2.06-.94-.94-2.06-.94 2.06-2.06.94zm-11 1L8.5 8.5l.94-2.06 2.06-.94-2.06-.94L8.5 2.5l-.94 2.06-2.06.94zm10 10l.94 2.06.94-2.06 2.06-.94-2.06-.94-.94-2.06-.94 2.06-2.06.94z\"/><path d=\"M17.41 7.96l-1.37-1.37c-.4-.4-.92-.59-1.43-.59-.52 0-1.04.2-1.43.59L10.3 9.45l-7.72 7.72c-.78.78-.78 2.05 0 2.83L4 21.41c.39.39.9.59 1.41.59.51 0 1.02-.2 1.41-.59l7.78-7.78 2.81-2.81c.8-.78.8-2.07 0-2.86zM5.41 20L4 18.59l7.72-7.72 1.47 1.35L5.41 20z\"/>\n",
              "  </svg>\n",
              "      </button>\n",
              "      \n",
              "  <style>\n",
              "    .colab-df-container {\n",
              "      display:flex;\n",
              "      flex-wrap:wrap;\n",
              "      gap: 12px;\n",
              "    }\n",
              "\n",
              "    .colab-df-convert {\n",
              "      background-color: #E8F0FE;\n",
              "      border: none;\n",
              "      border-radius: 50%;\n",
              "      cursor: pointer;\n",
              "      display: none;\n",
              "      fill: #1967D2;\n",
              "      height: 32px;\n",
              "      padding: 0 0 0 0;\n",
              "      width: 32px;\n",
              "    }\n",
              "\n",
              "    .colab-df-convert:hover {\n",
              "      background-color: #E2EBFA;\n",
              "      box-shadow: 0px 1px 2px rgba(60, 64, 67, 0.3), 0px 1px 3px 1px rgba(60, 64, 67, 0.15);\n",
              "      fill: #174EA6;\n",
              "    }\n",
              "\n",
              "    [theme=dark] .colab-df-convert {\n",
              "      background-color: #3B4455;\n",
              "      fill: #D2E3FC;\n",
              "    }\n",
              "\n",
              "    [theme=dark] .colab-df-convert:hover {\n",
              "      background-color: #434B5C;\n",
              "      box-shadow: 0px 1px 3px 1px rgba(0, 0, 0, 0.15);\n",
              "      filter: drop-shadow(0px 1px 2px rgba(0, 0, 0, 0.3));\n",
              "      fill: #FFFFFF;\n",
              "    }\n",
              "  </style>\n",
              "\n",
              "      <script>\n",
              "        const buttonEl =\n",
              "          document.querySelector('#df-4a68ac96-6dd5-46c3-879d-c47432e56ea5 button.colab-df-convert');\n",
              "        buttonEl.style.display =\n",
              "          google.colab.kernel.accessAllowed ? 'block' : 'none';\n",
              "\n",
              "        async function convertToInteractive(key) {\n",
              "          const element = document.querySelector('#df-4a68ac96-6dd5-46c3-879d-c47432e56ea5');\n",
              "          const dataTable =\n",
              "            await google.colab.kernel.invokeFunction('convertToInteractive',\n",
              "                                                     [key], {});\n",
              "          if (!dataTable) return;\n",
              "\n",
              "          const docLinkHtml = 'Like what you see? Visit the ' +\n",
              "            '<a target=\"_blank\" href=https://colab.research.google.com/notebooks/data_table.ipynb>data table notebook</a>'\n",
              "            + ' to learn more about interactive tables.';\n",
              "          element.innerHTML = '';\n",
              "          dataTable['output_type'] = 'display_data';\n",
              "          await google.colab.output.renderOutput(dataTable, element);\n",
              "          const docLink = document.createElement('div');\n",
              "          docLink.innerHTML = docLinkHtml;\n",
              "          element.appendChild(docLink);\n",
              "        }\n",
              "      </script>\n",
              "    </div>\n",
              "  </div>\n",
              "  "
            ]
          },
          "metadata": {},
          "execution_count": 81
        }
      ]
    },
    {
      "cell_type": "code",
      "source": [
        "# STEP 7 (Perform Variable Assignment)\n",
        "#\n",
        "# Dropping column that is not revelant which in this case, id column is not required as it is just the number of the record.\n",
        "data = data.drop(['id'], axis = 1)\n",
        "\n",
        "data"
      ],
      "metadata": {
        "colab": {
          "base_uri": "https://localhost:8080/",
          "height": 423
        },
        "id": "O8_TDzOursfk",
        "outputId": "4f83d6f4-20a0-4220-e3d2-bccbbbb0e62f"
      },
      "execution_count": null,
      "outputs": [
        {
          "output_type": "execute_result",
          "data": {
            "text/plain": [
              "      gender   age  hypertension  heart_disease  ever_married  work_type  \\\n",
              "0          0  67.0             0              1             0          0   \n",
              "1          1  61.0             0              0             0          1   \n",
              "2          0  80.0             0              1             0          0   \n",
              "3          1  49.0             0              0             0          0   \n",
              "4          1  79.0             1              0             0          1   \n",
              "...      ...   ...           ...            ...           ...        ...   \n",
              "5100       1  80.0             1              0             0          0   \n",
              "5101       1  81.0             0              0             0          1   \n",
              "5102       1  35.0             0              0             0          1   \n",
              "5103       0  51.0             0              0             0          0   \n",
              "5104       1  44.0             0              0             0          2   \n",
              "\n",
              "      Residence_type  avg_glucose_level        bmi  smoking_status  stroke  \n",
              "0                  0             228.69  36.600000               0       1  \n",
              "1                  1             202.21  28.848899               1       1  \n",
              "2                  1             105.92  32.500000               1       1  \n",
              "3                  0             171.23  34.400000               2       1  \n",
              "4                  1             174.12  24.000000               1       1  \n",
              "...              ...                ...        ...             ...     ...  \n",
              "5100               0              83.75  28.848899               1       0  \n",
              "5101               0             125.20  40.000000               1       0  \n",
              "5102               1              82.99  30.600000               1       0  \n",
              "5103               1             166.29  25.600000               0       0  \n",
              "5104               0              85.28  26.200000               3       0  \n",
              "\n",
              "[5105 rows x 11 columns]"
            ],
            "text/html": [
              "\n",
              "  <div id=\"df-86a0d341-029c-413f-9036-190b4aa2b391\">\n",
              "    <div class=\"colab-df-container\">\n",
              "      <div>\n",
              "<style scoped>\n",
              "    .dataframe tbody tr th:only-of-type {\n",
              "        vertical-align: middle;\n",
              "    }\n",
              "\n",
              "    .dataframe tbody tr th {\n",
              "        vertical-align: top;\n",
              "    }\n",
              "\n",
              "    .dataframe thead th {\n",
              "        text-align: right;\n",
              "    }\n",
              "</style>\n",
              "<table border=\"1\" class=\"dataframe\">\n",
              "  <thead>\n",
              "    <tr style=\"text-align: right;\">\n",
              "      <th></th>\n",
              "      <th>gender</th>\n",
              "      <th>age</th>\n",
              "      <th>hypertension</th>\n",
              "      <th>heart_disease</th>\n",
              "      <th>ever_married</th>\n",
              "      <th>work_type</th>\n",
              "      <th>Residence_type</th>\n",
              "      <th>avg_glucose_level</th>\n",
              "      <th>bmi</th>\n",
              "      <th>smoking_status</th>\n",
              "      <th>stroke</th>\n",
              "    </tr>\n",
              "  </thead>\n",
              "  <tbody>\n",
              "    <tr>\n",
              "      <th>0</th>\n",
              "      <td>0</td>\n",
              "      <td>67.0</td>\n",
              "      <td>0</td>\n",
              "      <td>1</td>\n",
              "      <td>0</td>\n",
              "      <td>0</td>\n",
              "      <td>0</td>\n",
              "      <td>228.69</td>\n",
              "      <td>36.600000</td>\n",
              "      <td>0</td>\n",
              "      <td>1</td>\n",
              "    </tr>\n",
              "    <tr>\n",
              "      <th>1</th>\n",
              "      <td>1</td>\n",
              "      <td>61.0</td>\n",
              "      <td>0</td>\n",
              "      <td>0</td>\n",
              "      <td>0</td>\n",
              "      <td>1</td>\n",
              "      <td>1</td>\n",
              "      <td>202.21</td>\n",
              "      <td>28.848899</td>\n",
              "      <td>1</td>\n",
              "      <td>1</td>\n",
              "    </tr>\n",
              "    <tr>\n",
              "      <th>2</th>\n",
              "      <td>0</td>\n",
              "      <td>80.0</td>\n",
              "      <td>0</td>\n",
              "      <td>1</td>\n",
              "      <td>0</td>\n",
              "      <td>0</td>\n",
              "      <td>1</td>\n",
              "      <td>105.92</td>\n",
              "      <td>32.500000</td>\n",
              "      <td>1</td>\n",
              "      <td>1</td>\n",
              "    </tr>\n",
              "    <tr>\n",
              "      <th>3</th>\n",
              "      <td>1</td>\n",
              "      <td>49.0</td>\n",
              "      <td>0</td>\n",
              "      <td>0</td>\n",
              "      <td>0</td>\n",
              "      <td>0</td>\n",
              "      <td>0</td>\n",
              "      <td>171.23</td>\n",
              "      <td>34.400000</td>\n",
              "      <td>2</td>\n",
              "      <td>1</td>\n",
              "    </tr>\n",
              "    <tr>\n",
              "      <th>4</th>\n",
              "      <td>1</td>\n",
              "      <td>79.0</td>\n",
              "      <td>1</td>\n",
              "      <td>0</td>\n",
              "      <td>0</td>\n",
              "      <td>1</td>\n",
              "      <td>1</td>\n",
              "      <td>174.12</td>\n",
              "      <td>24.000000</td>\n",
              "      <td>1</td>\n",
              "      <td>1</td>\n",
              "    </tr>\n",
              "    <tr>\n",
              "      <th>...</th>\n",
              "      <td>...</td>\n",
              "      <td>...</td>\n",
              "      <td>...</td>\n",
              "      <td>...</td>\n",
              "      <td>...</td>\n",
              "      <td>...</td>\n",
              "      <td>...</td>\n",
              "      <td>...</td>\n",
              "      <td>...</td>\n",
              "      <td>...</td>\n",
              "      <td>...</td>\n",
              "    </tr>\n",
              "    <tr>\n",
              "      <th>5100</th>\n",
              "      <td>1</td>\n",
              "      <td>80.0</td>\n",
              "      <td>1</td>\n",
              "      <td>0</td>\n",
              "      <td>0</td>\n",
              "      <td>0</td>\n",
              "      <td>0</td>\n",
              "      <td>83.75</td>\n",
              "      <td>28.848899</td>\n",
              "      <td>1</td>\n",
              "      <td>0</td>\n",
              "    </tr>\n",
              "    <tr>\n",
              "      <th>5101</th>\n",
              "      <td>1</td>\n",
              "      <td>81.0</td>\n",
              "      <td>0</td>\n",
              "      <td>0</td>\n",
              "      <td>0</td>\n",
              "      <td>1</td>\n",
              "      <td>0</td>\n",
              "      <td>125.20</td>\n",
              "      <td>40.000000</td>\n",
              "      <td>1</td>\n",
              "      <td>0</td>\n",
              "    </tr>\n",
              "    <tr>\n",
              "      <th>5102</th>\n",
              "      <td>1</td>\n",
              "      <td>35.0</td>\n",
              "      <td>0</td>\n",
              "      <td>0</td>\n",
              "      <td>0</td>\n",
              "      <td>1</td>\n",
              "      <td>1</td>\n",
              "      <td>82.99</td>\n",
              "      <td>30.600000</td>\n",
              "      <td>1</td>\n",
              "      <td>0</td>\n",
              "    </tr>\n",
              "    <tr>\n",
              "      <th>5103</th>\n",
              "      <td>0</td>\n",
              "      <td>51.0</td>\n",
              "      <td>0</td>\n",
              "      <td>0</td>\n",
              "      <td>0</td>\n",
              "      <td>0</td>\n",
              "      <td>1</td>\n",
              "      <td>166.29</td>\n",
              "      <td>25.600000</td>\n",
              "      <td>0</td>\n",
              "      <td>0</td>\n",
              "    </tr>\n",
              "    <tr>\n",
              "      <th>5104</th>\n",
              "      <td>1</td>\n",
              "      <td>44.0</td>\n",
              "      <td>0</td>\n",
              "      <td>0</td>\n",
              "      <td>0</td>\n",
              "      <td>2</td>\n",
              "      <td>0</td>\n",
              "      <td>85.28</td>\n",
              "      <td>26.200000</td>\n",
              "      <td>3</td>\n",
              "      <td>0</td>\n",
              "    </tr>\n",
              "  </tbody>\n",
              "</table>\n",
              "<p>5105 rows × 11 columns</p>\n",
              "</div>\n",
              "      <button class=\"colab-df-convert\" onclick=\"convertToInteractive('df-86a0d341-029c-413f-9036-190b4aa2b391')\"\n",
              "              title=\"Convert this dataframe to an interactive table.\"\n",
              "              style=\"display:none;\">\n",
              "        \n",
              "  <svg xmlns=\"http://www.w3.org/2000/svg\" height=\"24px\"viewBox=\"0 0 24 24\"\n",
              "       width=\"24px\">\n",
              "    <path d=\"M0 0h24v24H0V0z\" fill=\"none\"/>\n",
              "    <path d=\"M18.56 5.44l.94 2.06.94-2.06 2.06-.94-2.06-.94-.94-2.06-.94 2.06-2.06.94zm-11 1L8.5 8.5l.94-2.06 2.06-.94-2.06-.94L8.5 2.5l-.94 2.06-2.06.94zm10 10l.94 2.06.94-2.06 2.06-.94-2.06-.94-.94-2.06-.94 2.06-2.06.94z\"/><path d=\"M17.41 7.96l-1.37-1.37c-.4-.4-.92-.59-1.43-.59-.52 0-1.04.2-1.43.59L10.3 9.45l-7.72 7.72c-.78.78-.78 2.05 0 2.83L4 21.41c.39.39.9.59 1.41.59.51 0 1.02-.2 1.41-.59l7.78-7.78 2.81-2.81c.8-.78.8-2.07 0-2.86zM5.41 20L4 18.59l7.72-7.72 1.47 1.35L5.41 20z\"/>\n",
              "  </svg>\n",
              "      </button>\n",
              "      \n",
              "  <style>\n",
              "    .colab-df-container {\n",
              "      display:flex;\n",
              "      flex-wrap:wrap;\n",
              "      gap: 12px;\n",
              "    }\n",
              "\n",
              "    .colab-df-convert {\n",
              "      background-color: #E8F0FE;\n",
              "      border: none;\n",
              "      border-radius: 50%;\n",
              "      cursor: pointer;\n",
              "      display: none;\n",
              "      fill: #1967D2;\n",
              "      height: 32px;\n",
              "      padding: 0 0 0 0;\n",
              "      width: 32px;\n",
              "    }\n",
              "\n",
              "    .colab-df-convert:hover {\n",
              "      background-color: #E2EBFA;\n",
              "      box-shadow: 0px 1px 2px rgba(60, 64, 67, 0.3), 0px 1px 3px 1px rgba(60, 64, 67, 0.15);\n",
              "      fill: #174EA6;\n",
              "    }\n",
              "\n",
              "    [theme=dark] .colab-df-convert {\n",
              "      background-color: #3B4455;\n",
              "      fill: #D2E3FC;\n",
              "    }\n",
              "\n",
              "    [theme=dark] .colab-df-convert:hover {\n",
              "      background-color: #434B5C;\n",
              "      box-shadow: 0px 1px 3px 1px rgba(0, 0, 0, 0.15);\n",
              "      filter: drop-shadow(0px 1px 2px rgba(0, 0, 0, 0.3));\n",
              "      fill: #FFFFFF;\n",
              "    }\n",
              "  </style>\n",
              "\n",
              "      <script>\n",
              "        const buttonEl =\n",
              "          document.querySelector('#df-86a0d341-029c-413f-9036-190b4aa2b391 button.colab-df-convert');\n",
              "        buttonEl.style.display =\n",
              "          google.colab.kernel.accessAllowed ? 'block' : 'none';\n",
              "\n",
              "        async function convertToInteractive(key) {\n",
              "          const element = document.querySelector('#df-86a0d341-029c-413f-9036-190b4aa2b391');\n",
              "          const dataTable =\n",
              "            await google.colab.kernel.invokeFunction('convertToInteractive',\n",
              "                                                     [key], {});\n",
              "          if (!dataTable) return;\n",
              "\n",
              "          const docLinkHtml = 'Like what you see? Visit the ' +\n",
              "            '<a target=\"_blank\" href=https://colab.research.google.com/notebooks/data_table.ipynb>data table notebook</a>'\n",
              "            + ' to learn more about interactive tables.';\n",
              "          element.innerHTML = '';\n",
              "          dataTable['output_type'] = 'display_data';\n",
              "          await google.colab.output.renderOutput(dataTable, element);\n",
              "          const docLink = document.createElement('div');\n",
              "          docLink.innerHTML = docLinkHtml;\n",
              "          element.appendChild(docLink);\n",
              "        }\n",
              "      </script>\n",
              "    </div>\n",
              "  </div>\n",
              "  "
            ]
          },
          "metadata": {},
          "execution_count": 82
        }
      ]
    },
    {
      "cell_type": "code",
      "source": [
        "# As the Target Variable (TV) is stroke, the value for this column will be saved in Y, while the others will be saved in X as Input Variable (IV)\n",
        "# Checking the correlation of the v\n",
        "\n",
        "x = data.iloc[:, 0:9] # Input Variable\n",
        "y = data.iloc[:, 10] # Target Variable\n",
        "\n",
        "print (x)\n",
        "print (y)"
      ],
      "metadata": {
        "colab": {
          "base_uri": "https://localhost:8080/"
        },
        "id": "yb9VlCAZjVae",
        "outputId": "a0a9ea95-fea9-4c00-d5a9-0e07b5600d86"
      },
      "execution_count": null,
      "outputs": [
        {
          "output_type": "stream",
          "name": "stdout",
          "text": [
            "      gender   age  hypertension  heart_disease  ever_married  work_type  \\\n",
            "0          0  67.0             0              1             0          0   \n",
            "1          1  61.0             0              0             0          1   \n",
            "2          0  80.0             0              1             0          0   \n",
            "3          1  49.0             0              0             0          0   \n",
            "4          1  79.0             1              0             0          1   \n",
            "...      ...   ...           ...            ...           ...        ...   \n",
            "5100       1  80.0             1              0             0          0   \n",
            "5101       1  81.0             0              0             0          1   \n",
            "5102       1  35.0             0              0             0          1   \n",
            "5103       0  51.0             0              0             0          0   \n",
            "5104       1  44.0             0              0             0          2   \n",
            "\n",
            "      Residence_type  avg_glucose_level        bmi  \n",
            "0                  0             228.69  36.600000  \n",
            "1                  1             202.21  28.848899  \n",
            "2                  1             105.92  32.500000  \n",
            "3                  0             171.23  34.400000  \n",
            "4                  1             174.12  24.000000  \n",
            "...              ...                ...        ...  \n",
            "5100               0              83.75  28.848899  \n",
            "5101               0             125.20  40.000000  \n",
            "5102               1              82.99  30.600000  \n",
            "5103               1             166.29  25.600000  \n",
            "5104               0              85.28  26.200000  \n",
            "\n",
            "[5105 rows x 9 columns]\n",
            "0       1\n",
            "1       1\n",
            "2       1\n",
            "3       1\n",
            "4       1\n",
            "       ..\n",
            "5100    0\n",
            "5101    0\n",
            "5102    0\n",
            "5103    0\n",
            "5104    0\n",
            "Name: stroke, Length: 5105, dtype: int64\n"
          ]
        }
      ]
    },
    {
      "cell_type": "code",
      "source": [
        "# Checking the correlation of between all the variables within the dataset, but more importantly is to understand the correlation between the target variable and the input variable.\n",
        "#\n",
        "# High correlation instance variable can be choosen as the main variable to be used for prediction\n",
        "# If there are any variable that has high correlation between each other (> 0.8), it should be drop to pervent wrong prediction.\n",
        "data.corr()"
      ],
      "metadata": {
        "colab": {
          "base_uri": "https://localhost:8080/",
          "height": 394
        },
        "id": "DrAESNa4xMt9",
        "outputId": "7607c9c6-24df-4c49-cded-c30e38dbf8fc"
      },
      "execution_count": null,
      "outputs": [
        {
          "output_type": "execute_result",
          "data": {
            "text/plain": [
              "                     gender       age  hypertension  heart_disease  \\\n",
              "gender             1.000000  0.027581     -0.020448      -0.085856   \n",
              "age                0.027581  1.000000      0.278548       0.263730   \n",
              "hypertension      -0.020448  0.278548      1.000000       0.109005   \n",
              "heart_disease     -0.085856  0.263730      0.109005       1.000000   \n",
              "ever_married      -0.030443 -0.679039     -0.165981      -0.114597   \n",
              "work_type         -0.066295 -0.413951     -0.074077      -0.058456   \n",
              "Residence_type    -0.005237 -0.013924      0.007443      -0.002949   \n",
              "avg_glucose_level -0.054606  0.238175      0.177020       0.162013   \n",
              "bmi                0.030573  0.336712      0.150046       0.041003   \n",
              "smoking_status    -0.038956 -0.375999     -0.130232      -0.064741   \n",
              "stroke            -0.009206  0.245193      0.128636       0.134868   \n",
              "\n",
              "                   ever_married  work_type  Residence_type  avg_glucose_level  \\\n",
              "gender                -0.030443  -0.066295       -0.005237          -0.054606   \n",
              "age                   -0.679039  -0.413951       -0.013924           0.238175   \n",
              "hypertension          -0.165981  -0.074077        0.007443           0.177020   \n",
              "heart_disease         -0.114597  -0.058456       -0.002949           0.162013   \n",
              "ever_married           1.000000   0.376693        0.006272          -0.154872   \n",
              "work_type              0.376693   1.000000       -0.014132          -0.068175   \n",
              "Residence_type         0.006272  -0.014132        1.000000           0.004588   \n",
              "avg_glucose_level     -0.154872  -0.068175        0.004588           1.000000   \n",
              "bmi                   -0.345354  -0.345404       -0.003063           0.174663   \n",
              "smoking_status         0.303818   0.307869       -0.004343          -0.097189   \n",
              "stroke                -0.108295  -0.058408       -0.015329           0.132074   \n",
              "\n",
              "                        bmi  smoking_status    stroke  \n",
              "gender             0.030573       -0.038956 -0.009206  \n",
              "age                0.336712       -0.375999  0.245193  \n",
              "hypertension       0.150046       -0.130232  0.128636  \n",
              "heart_disease      0.041003       -0.064741  0.134868  \n",
              "ever_married      -0.345354        0.303818 -0.108295  \n",
              "work_type         -0.345404        0.307869 -0.058408  \n",
              "Residence_type    -0.003063       -0.004343 -0.015329  \n",
              "avg_glucose_level  0.174663       -0.097189  0.132074  \n",
              "bmi                1.000000       -0.237350  0.040931  \n",
              "smoking_status    -0.237350        1.000000 -0.066461  \n",
              "stroke             0.040931       -0.066461  1.000000  "
            ],
            "text/html": [
              "\n",
              "  <div id=\"df-74e2bbf1-180d-478f-9bd2-23db83f9455d\">\n",
              "    <div class=\"colab-df-container\">\n",
              "      <div>\n",
              "<style scoped>\n",
              "    .dataframe tbody tr th:only-of-type {\n",
              "        vertical-align: middle;\n",
              "    }\n",
              "\n",
              "    .dataframe tbody tr th {\n",
              "        vertical-align: top;\n",
              "    }\n",
              "\n",
              "    .dataframe thead th {\n",
              "        text-align: right;\n",
              "    }\n",
              "</style>\n",
              "<table border=\"1\" class=\"dataframe\">\n",
              "  <thead>\n",
              "    <tr style=\"text-align: right;\">\n",
              "      <th></th>\n",
              "      <th>gender</th>\n",
              "      <th>age</th>\n",
              "      <th>hypertension</th>\n",
              "      <th>heart_disease</th>\n",
              "      <th>ever_married</th>\n",
              "      <th>work_type</th>\n",
              "      <th>Residence_type</th>\n",
              "      <th>avg_glucose_level</th>\n",
              "      <th>bmi</th>\n",
              "      <th>smoking_status</th>\n",
              "      <th>stroke</th>\n",
              "    </tr>\n",
              "  </thead>\n",
              "  <tbody>\n",
              "    <tr>\n",
              "      <th>gender</th>\n",
              "      <td>1.000000</td>\n",
              "      <td>0.027581</td>\n",
              "      <td>-0.020448</td>\n",
              "      <td>-0.085856</td>\n",
              "      <td>-0.030443</td>\n",
              "      <td>-0.066295</td>\n",
              "      <td>-0.005237</td>\n",
              "      <td>-0.054606</td>\n",
              "      <td>0.030573</td>\n",
              "      <td>-0.038956</td>\n",
              "      <td>-0.009206</td>\n",
              "    </tr>\n",
              "    <tr>\n",
              "      <th>age</th>\n",
              "      <td>0.027581</td>\n",
              "      <td>1.000000</td>\n",
              "      <td>0.278548</td>\n",
              "      <td>0.263730</td>\n",
              "      <td>-0.679039</td>\n",
              "      <td>-0.413951</td>\n",
              "      <td>-0.013924</td>\n",
              "      <td>0.238175</td>\n",
              "      <td>0.336712</td>\n",
              "      <td>-0.375999</td>\n",
              "      <td>0.245193</td>\n",
              "    </tr>\n",
              "    <tr>\n",
              "      <th>hypertension</th>\n",
              "      <td>-0.020448</td>\n",
              "      <td>0.278548</td>\n",
              "      <td>1.000000</td>\n",
              "      <td>0.109005</td>\n",
              "      <td>-0.165981</td>\n",
              "      <td>-0.074077</td>\n",
              "      <td>0.007443</td>\n",
              "      <td>0.177020</td>\n",
              "      <td>0.150046</td>\n",
              "      <td>-0.130232</td>\n",
              "      <td>0.128636</td>\n",
              "    </tr>\n",
              "    <tr>\n",
              "      <th>heart_disease</th>\n",
              "      <td>-0.085856</td>\n",
              "      <td>0.263730</td>\n",
              "      <td>0.109005</td>\n",
              "      <td>1.000000</td>\n",
              "      <td>-0.114597</td>\n",
              "      <td>-0.058456</td>\n",
              "      <td>-0.002949</td>\n",
              "      <td>0.162013</td>\n",
              "      <td>0.041003</td>\n",
              "      <td>-0.064741</td>\n",
              "      <td>0.134868</td>\n",
              "    </tr>\n",
              "    <tr>\n",
              "      <th>ever_married</th>\n",
              "      <td>-0.030443</td>\n",
              "      <td>-0.679039</td>\n",
              "      <td>-0.165981</td>\n",
              "      <td>-0.114597</td>\n",
              "      <td>1.000000</td>\n",
              "      <td>0.376693</td>\n",
              "      <td>0.006272</td>\n",
              "      <td>-0.154872</td>\n",
              "      <td>-0.345354</td>\n",
              "      <td>0.303818</td>\n",
              "      <td>-0.108295</td>\n",
              "    </tr>\n",
              "    <tr>\n",
              "      <th>work_type</th>\n",
              "      <td>-0.066295</td>\n",
              "      <td>-0.413951</td>\n",
              "      <td>-0.074077</td>\n",
              "      <td>-0.058456</td>\n",
              "      <td>0.376693</td>\n",
              "      <td>1.000000</td>\n",
              "      <td>-0.014132</td>\n",
              "      <td>-0.068175</td>\n",
              "      <td>-0.345404</td>\n",
              "      <td>0.307869</td>\n",
              "      <td>-0.058408</td>\n",
              "    </tr>\n",
              "    <tr>\n",
              "      <th>Residence_type</th>\n",
              "      <td>-0.005237</td>\n",
              "      <td>-0.013924</td>\n",
              "      <td>0.007443</td>\n",
              "      <td>-0.002949</td>\n",
              "      <td>0.006272</td>\n",
              "      <td>-0.014132</td>\n",
              "      <td>1.000000</td>\n",
              "      <td>0.004588</td>\n",
              "      <td>-0.003063</td>\n",
              "      <td>-0.004343</td>\n",
              "      <td>-0.015329</td>\n",
              "    </tr>\n",
              "    <tr>\n",
              "      <th>avg_glucose_level</th>\n",
              "      <td>-0.054606</td>\n",
              "      <td>0.238175</td>\n",
              "      <td>0.177020</td>\n",
              "      <td>0.162013</td>\n",
              "      <td>-0.154872</td>\n",
              "      <td>-0.068175</td>\n",
              "      <td>0.004588</td>\n",
              "      <td>1.000000</td>\n",
              "      <td>0.174663</td>\n",
              "      <td>-0.097189</td>\n",
              "      <td>0.132074</td>\n",
              "    </tr>\n",
              "    <tr>\n",
              "      <th>bmi</th>\n",
              "      <td>0.030573</td>\n",
              "      <td>0.336712</td>\n",
              "      <td>0.150046</td>\n",
              "      <td>0.041003</td>\n",
              "      <td>-0.345354</td>\n",
              "      <td>-0.345404</td>\n",
              "      <td>-0.003063</td>\n",
              "      <td>0.174663</td>\n",
              "      <td>1.000000</td>\n",
              "      <td>-0.237350</td>\n",
              "      <td>0.040931</td>\n",
              "    </tr>\n",
              "    <tr>\n",
              "      <th>smoking_status</th>\n",
              "      <td>-0.038956</td>\n",
              "      <td>-0.375999</td>\n",
              "      <td>-0.130232</td>\n",
              "      <td>-0.064741</td>\n",
              "      <td>0.303818</td>\n",
              "      <td>0.307869</td>\n",
              "      <td>-0.004343</td>\n",
              "      <td>-0.097189</td>\n",
              "      <td>-0.237350</td>\n",
              "      <td>1.000000</td>\n",
              "      <td>-0.066461</td>\n",
              "    </tr>\n",
              "    <tr>\n",
              "      <th>stroke</th>\n",
              "      <td>-0.009206</td>\n",
              "      <td>0.245193</td>\n",
              "      <td>0.128636</td>\n",
              "      <td>0.134868</td>\n",
              "      <td>-0.108295</td>\n",
              "      <td>-0.058408</td>\n",
              "      <td>-0.015329</td>\n",
              "      <td>0.132074</td>\n",
              "      <td>0.040931</td>\n",
              "      <td>-0.066461</td>\n",
              "      <td>1.000000</td>\n",
              "    </tr>\n",
              "  </tbody>\n",
              "</table>\n",
              "</div>\n",
              "      <button class=\"colab-df-convert\" onclick=\"convertToInteractive('df-74e2bbf1-180d-478f-9bd2-23db83f9455d')\"\n",
              "              title=\"Convert this dataframe to an interactive table.\"\n",
              "              style=\"display:none;\">\n",
              "        \n",
              "  <svg xmlns=\"http://www.w3.org/2000/svg\" height=\"24px\"viewBox=\"0 0 24 24\"\n",
              "       width=\"24px\">\n",
              "    <path d=\"M0 0h24v24H0V0z\" fill=\"none\"/>\n",
              "    <path d=\"M18.56 5.44l.94 2.06.94-2.06 2.06-.94-2.06-.94-.94-2.06-.94 2.06-2.06.94zm-11 1L8.5 8.5l.94-2.06 2.06-.94-2.06-.94L8.5 2.5l-.94 2.06-2.06.94zm10 10l.94 2.06.94-2.06 2.06-.94-2.06-.94-.94-2.06-.94 2.06-2.06.94z\"/><path d=\"M17.41 7.96l-1.37-1.37c-.4-.4-.92-.59-1.43-.59-.52 0-1.04.2-1.43.59L10.3 9.45l-7.72 7.72c-.78.78-.78 2.05 0 2.83L4 21.41c.39.39.9.59 1.41.59.51 0 1.02-.2 1.41-.59l7.78-7.78 2.81-2.81c.8-.78.8-2.07 0-2.86zM5.41 20L4 18.59l7.72-7.72 1.47 1.35L5.41 20z\"/>\n",
              "  </svg>\n",
              "      </button>\n",
              "      \n",
              "  <style>\n",
              "    .colab-df-container {\n",
              "      display:flex;\n",
              "      flex-wrap:wrap;\n",
              "      gap: 12px;\n",
              "    }\n",
              "\n",
              "    .colab-df-convert {\n",
              "      background-color: #E8F0FE;\n",
              "      border: none;\n",
              "      border-radius: 50%;\n",
              "      cursor: pointer;\n",
              "      display: none;\n",
              "      fill: #1967D2;\n",
              "      height: 32px;\n",
              "      padding: 0 0 0 0;\n",
              "      width: 32px;\n",
              "    }\n",
              "\n",
              "    .colab-df-convert:hover {\n",
              "      background-color: #E2EBFA;\n",
              "      box-shadow: 0px 1px 2px rgba(60, 64, 67, 0.3), 0px 1px 3px 1px rgba(60, 64, 67, 0.15);\n",
              "      fill: #174EA6;\n",
              "    }\n",
              "\n",
              "    [theme=dark] .colab-df-convert {\n",
              "      background-color: #3B4455;\n",
              "      fill: #D2E3FC;\n",
              "    }\n",
              "\n",
              "    [theme=dark] .colab-df-convert:hover {\n",
              "      background-color: #434B5C;\n",
              "      box-shadow: 0px 1px 3px 1px rgba(0, 0, 0, 0.15);\n",
              "      filter: drop-shadow(0px 1px 2px rgba(0, 0, 0, 0.3));\n",
              "      fill: #FFFFFF;\n",
              "    }\n",
              "  </style>\n",
              "\n",
              "      <script>\n",
              "        const buttonEl =\n",
              "          document.querySelector('#df-74e2bbf1-180d-478f-9bd2-23db83f9455d button.colab-df-convert');\n",
              "        buttonEl.style.display =\n",
              "          google.colab.kernel.accessAllowed ? 'block' : 'none';\n",
              "\n",
              "        async function convertToInteractive(key) {\n",
              "          const element = document.querySelector('#df-74e2bbf1-180d-478f-9bd2-23db83f9455d');\n",
              "          const dataTable =\n",
              "            await google.colab.kernel.invokeFunction('convertToInteractive',\n",
              "                                                     [key], {});\n",
              "          if (!dataTable) return;\n",
              "\n",
              "          const docLinkHtml = 'Like what you see? Visit the ' +\n",
              "            '<a target=\"_blank\" href=https://colab.research.google.com/notebooks/data_table.ipynb>data table notebook</a>'\n",
              "            + ' to learn more about interactive tables.';\n",
              "          element.innerHTML = '';\n",
              "          dataTable['output_type'] = 'display_data';\n",
              "          await google.colab.output.renderOutput(dataTable, element);\n",
              "          const docLink = document.createElement('div');\n",
              "          docLink.innerHTML = docLinkHtml;\n",
              "          element.appendChild(docLink);\n",
              "        }\n",
              "      </script>\n",
              "    </div>\n",
              "  </div>\n",
              "  "
            ]
          },
          "metadata": {},
          "execution_count": 84
        }
      ]
    },
    {
      "cell_type": "code",
      "source": [
        "# Heatmap is created to understand the correlation between the variable more easily.\n",
        "#\n",
        "# Since there are no variables that contain correlation over 0.8, no column will be dropped. \n",
        "# Based on the heatmap, the three variable that is most correlated to the target variable (stroke) are\n",
        "# age, (hypertension, heart_disease, avg_glucose_level) = same value\n",
        "plt.figure(figsize = (15, 15))\n",
        "sns.heatmap(data.corr(), annot = True)"
      ],
      "metadata": {
        "colab": {
          "base_uri": "https://localhost:8080/",
          "height": 966
        },
        "id": "wD0pEB7RygCj",
        "outputId": "b5eae55f-c04f-4853-f4df-c31f27b1b605"
      },
      "execution_count": null,
      "outputs": [
        {
          "output_type": "execute_result",
          "data": {
            "text/plain": [
              "<matplotlib.axes._subplots.AxesSubplot at 0x7fb874bba090>"
            ]
          },
          "metadata": {},
          "execution_count": 85
        },
        {
          "output_type": "display_data",
          "data": {
            "text/plain": [
              "<Figure size 1080x1080 with 2 Axes>"
            ],
            "image/png": "[encoded data removed]"
          },
          "metadata": {
            "needs_background": "light"
          }
        }
      ]
    },
    {
      "cell_type": "code",
      "source": [
        "# Performing OLS Regression Result to check whether the IV and TV is related and suitable to be used as the input variable\n",
        "#\n",
        "# Adding constant into the existing x (input variable) for OLS Regression \n",
        "# Import statsmodel.api for OLS Regression\n",
        "import statsmodels.api as sm\n",
        "X = sm.add_constant(x)\n",
        "est = sm.OLS(y, X).fit()\n",
        "print (est.summary())"
      ],
      "metadata": {
        "colab": {
          "base_uri": "https://localhost:8080/"
        },
        "id": "e1rhffhuy1BM",
        "outputId": "5f0c741c-8d6b-4ad3-957b-34a60f6c270b"
      },
      "execution_count": null,
      "outputs": [
        {
          "output_type": "stream",
          "name": "stderr",
          "text": [
            "/usr/local/lib/python3.7/dist-packages/statsmodels/tsa/tsatools.py:117: FutureWarning: In a future version of pandas all arguments of concat except for the argument 'objs' will be keyword-only\n",
            "  x = pd.concat(x[::order], 1)\n"
          ]
        },
        {
          "output_type": "stream",
          "name": "stdout",
          "text": [
            "                            OLS Regression Results                            \n",
            "==============================================================================\n",
            "Dep. Variable:                 stroke   R-squared:                       0.080\n",
            "Model:                            OLS   Adj. R-squared:                  0.079\n",
            "Method:                 Least Squares   F-statistic:                     49.32\n",
            "Date:                Fri, 05 Aug 2022   Prob (F-statistic):           4.01e-86\n",
            "Time:                        10:05:12   Log-Likelihood:                 807.08\n",
            "No. Observations:                5105   AIC:                            -1594.\n",
            "Df Residuals:                    5095   BIC:                            -1529.\n",
            "Df Model:                           9                                         \n",
            "Covariance Type:            nonrobust                                         \n",
            "=====================================================================================\n",
            "                        coef    std err          t      P>|t|      [0.025      0.975]\n",
            "-------------------------------------------------------------------------------------\n",
            "const                -0.0903      0.018     -5.049      0.000      -0.125      -0.055\n",
            "gender               -0.0009      0.006     -0.144      0.886      -0.012       0.011\n",
            "age                   0.0027      0.000     13.843      0.000       0.002       0.003\n",
            "hypertension          0.0395      0.010      3.834      0.000       0.019       0.060\n",
            "heart_disease         0.0541      0.013      4.013      0.000       0.028       0.080\n",
            "ever_married          0.0388      0.009      4.561      0.000       0.022       0.055\n",
            "work_type             0.0046      0.003      1.538      0.124      -0.001       0.010\n",
            "Residence_type       -0.0053      0.006     -0.916      0.360      -0.017       0.006\n",
            "avg_glucose_level     0.0003   6.72e-05      4.827      0.000       0.000       0.000\n",
            "bmi                  -0.0011      0.000     -2.518      0.012      -0.002      -0.000\n",
            "==============================================================================\n",
            "Omnibus:                     3823.489   Durbin-Watson:                   0.164\n",
            "Prob(Omnibus):                  0.000   Jarque-Bera (JB):            48316.614\n",
            "Skew:                           3.675   Prob(JB):                         0.00\n",
            "Kurtosis:                      16.157   Cond. No.                         816.\n",
            "==============================================================================\n",
            "\n",
            "Warnings:\n",
            "[1] Standard Errors assume that the covariance matrix of the errors is correctly specified.\n"
          ]
        }
      ]
    },
    {
      "cell_type": "code",
      "source": [
        "# Based on the OLS Regression result, we can determine that there are some input variable is not significant towards the target values \n",
        "# since the P value for the input variable is greater than the significant value (0.05)\n",
        "# Input variable that is higher than the significant value include gender, work_type and Residence_type\n",
        "# Therefore, these three column will be dropped from x\n",
        "\n",
        "x.drop(columns = ['gender', 'work_type', 'Residence_type'], axis = 1, inplace = True)"
      ],
      "metadata": {
        "id": "7N2G1jO7_5aj"
      },
      "execution_count": null,
      "outputs": []
    },
    {
      "cell_type": "code",
      "source": [
        "# the Input value will be tested in the OLS Regression Test again to check whether the IV and TV is suitable\n",
        "X = sm.add_constant(x)\n",
        "est = sm.OLS(y, X).fit()\n",
        "print (est.summary())"
      ],
      "metadata": {
        "colab": {
          "base_uri": "https://localhost:8080/"
        },
        "id": "6S5P4Fd8C4zr",
        "outputId": "8142f60c-97ea-488c-9d95-ab5ada684b01"
      },
      "execution_count": null,
      "outputs": [
        {
          "output_type": "stream",
          "name": "stdout",
          "text": [
            "                            OLS Regression Results                            \n",
            "==============================================================================\n",
            "Dep. Variable:                 stroke   R-squared:                       0.080\n",
            "Model:                            OLS   Adj. R-squared:                  0.078\n",
            "Method:                 Least Squares   F-statistic:                     73.43\n",
            "Date:                Fri, 05 Aug 2022   Prob (F-statistic):           3.62e-88\n",
            "Time:                        10:05:12   Log-Likelihood:                 805.41\n",
            "No. Observations:                5105   AIC:                            -1597.\n",
            "Df Residuals:                    5098   BIC:                            -1551.\n",
            "Df Model:                           6                                         \n",
            "Covariance Type:            nonrobust                                         \n",
            "=====================================================================================\n",
            "                        coef    std err          t      P>|t|      [0.025      0.975]\n",
            "-------------------------------------------------------------------------------------\n",
            "const                -0.0836      0.016     -5.223      0.000      -0.115      -0.052\n",
            "age                   0.0026      0.000     13.858      0.000       0.002       0.003\n",
            "hypertension          0.0402      0.010      3.914      0.000       0.020       0.060\n",
            "heart_disease         0.0549      0.013      4.089      0.000       0.029       0.081\n",
            "ever_married          0.0401      0.008      4.745      0.000       0.024       0.057\n",
            "avg_glucose_level     0.0003    6.7e-05      4.916      0.000       0.000       0.000\n",
            "bmi                  -0.0012      0.000     -2.950      0.003      -0.002      -0.000\n",
            "==============================================================================\n",
            "Omnibus:                     3827.231   Durbin-Watson:                   0.163\n",
            "Prob(Omnibus):                  0.000   Jarque-Bera (JB):            48443.900\n",
            "Skew:                           3.680   Prob(JB):                         0.00\n",
            "Kurtosis:                      16.175   Cond. No.                         749.\n",
            "==============================================================================\n",
            "\n",
            "Warnings:\n",
            "[1] Standard Errors assume that the covariance matrix of the errors is correctly specified.\n"
          ]
        },
        {
          "output_type": "stream",
          "name": "stderr",
          "text": [
            "/usr/local/lib/python3.7/dist-packages/statsmodels/tsa/tsatools.py:117: FutureWarning: In a future version of pandas all arguments of concat except for the argument 'objs' will be keyword-only\n",
            "  x = pd.concat(x[::order], 1)\n"
          ]
        }
      ]
    },
    {
      "cell_type": "code",
      "source": [
        "# STEP 8 (Perform Class Balancing)\n",
        "#\n",
        "# Class Balancing is done on the Target Variable if the target variable is not balanced.\n",
        "# Countplot is used to show the number of class amount in the stroke column.\n",
        "sns.countplot(x = y)"
      ],
      "metadata": {
        "colab": {
          "base_uri": "https://localhost:8080/",
          "height": 297
        },
        "id": "dwVLfTptKNQE",
        "outputId": "cb560017-0f76-4dd4-c3f6-79385f52fa9d"
      },
      "execution_count": null,
      "outputs": [
        {
          "output_type": "execute_result",
          "data": {
            "text/plain": [
              "<matplotlib.axes._subplots.AxesSubplot at 0x7fb802787310>"
            ]
          },
          "metadata": {},
          "execution_count": 89
        },
        {
          "output_type": "display_data",
          "data": {
            "text/plain": [
              "<Figure size 432x288 with 1 Axes>"
            ],
            "image/png": "[encoded data removed]"
          },
          "metadata": {
            "needs_background": "light"
          }
        }
      ]
    },
    {
      "cell_type": "code",
      "source": [
        "# Based on graph, the number of patient that had stroke is significantly lower then the number of patient that does not have stroke.\n",
        "# This means that the class for Target Variable to be extremely unbalanced\n",
        "# Two methods to treat imbalanced class, Under or Over Sampling. \n",
        "# Oversampling is done to prevent data lost as the differences of the 0 and 1 is too much\n",
        "# under sampling means that huge amount of data will be deleted\n",
        "#\n",
        "# Oversampling is done using SMOTE\n",
        "\n",
        "from imblearn.over_sampling import SMOTE\n",
        "x_b, y_b = SMOTE().fit_resample(x, y)\n",
        "print(y_b.value_counts())\n",
        "sns.countplot(x = y_b)"
      ],
      "metadata": {
        "colab": {
          "base_uri": "https://localhost:8080/",
          "height": 353
        },
        "id": "f8ZlIksHMHpI",
        "outputId": "bf9ed4be-cfba-4a24-8cfc-d8f0290408b3"
      },
      "execution_count": null,
      "outputs": [
        {
          "output_type": "stream",
          "name": "stdout",
          "text": [
            "1    4856\n",
            "0    4856\n",
            "Name: stroke, dtype: int64\n"
          ]
        },
        {
          "output_type": "execute_result",
          "data": {
            "text/plain": [
              "<matplotlib.axes._subplots.AxesSubplot at 0x7fb802766f50>"
            ]
          },
          "metadata": {},
          "execution_count": 90
        },
        {
          "output_type": "display_data",
          "data": {
            "text/plain": [
              "<Figure size 432x288 with 1 Axes>"
            ],
            "image/png": "[encoded data removed]"
          },
          "metadata": {
            "needs_background": "light"
          }
        }
      ]
    },
    {
      "cell_type": "code",
      "source": [
        "# STEP 9 (Perform Normalization)\n",
        "#\n",
        "# Normalization is done with the help of sklearn\n",
        "\n",
        "from sklearn.preprocessing import normalize\n",
        "\n",
        "x_n = normalize(x_b)\n",
        "x_n"
      ],
      "metadata": {
        "colab": {
          "base_uri": "https://localhost:8080/"
        },
        "id": "SJjsJJAkOtpA",
        "outputId": "9bf8e47c-7690-4246-b71f-9eb2cd1fbf69"
      },
      "execution_count": null,
      "outputs": [
        {
          "output_type": "execute_result",
          "data": {
            "text/plain": [
              "array([[0.27789427, 0.        , 0.00414768, 0.        , 0.94853194,\n",
              "        0.15180493],\n",
              "       [0.2861544 , 0.        , 0.        , 0.        , 0.94857839,\n",
              "        0.13533179],\n",
              "       [0.58538907, 0.        , 0.00731736, 0.        , 0.77505513,\n",
              "        0.23781431],\n",
              "       ...,\n",
              "       [0.3039678 , 0.        , 0.        , 0.        , 0.94265686,\n",
              "        0.13784638],\n",
              "       [0.57059408, 0.        , 0.        , 0.        , 0.80216824,\n",
              "        0.17592186],\n",
              "       [0.49032964, 0.00628882, 0.        , 0.        , 0.84561916,\n",
              "        0.2108685 ]])"
            ]
          },
          "metadata": {},
          "execution_count": 91
        }
      ]
    },
    {
      "cell_type": "code",
      "source": [
        "# STEP 10 (Perform Data Splitting)\n",
        "#\n",
        "# Splitting the data into test and training data in the ratio of 2:8\n",
        "\n",
        "from sklearn.model_selection import train_test_split\n",
        "x_train, x_test, y_train, y_test = train_test_split(x_n, y_b, test_size = 0.2, random_state = 2)\n",
        "\n",
        "print(x_train.shape, x_test.shape, y_train.shape, y_test.shape)"
      ],
      "metadata": {
        "colab": {
          "base_uri": "https://localhost:8080/"
        },
        "id": "UAwkVROkPlml",
        "outputId": "e65e2a14-7974-4a4d-906d-6341051495fe"
      },
      "execution_count": null,
      "outputs": [
        {
          "output_type": "stream",
          "name": "stdout",
          "text": [
            "(7769, 6) (1943, 6) (7769,) (1943,)\n"
          ]
        }
      ]
    },
    {
      "cell_type": "code",
      "source": [
        "# The data is split into 80% for training test and 20% for testing test\n",
        "# Train data -> 7769\n",
        "# Test data -> 1943"
      ],
      "metadata": {
        "id": "ugSJVSYsP68g"
      },
      "execution_count": null,
      "outputs": []
    },
    {
      "cell_type": "markdown",
      "source": [
        "**First Model**\n",
        "\n",
        "Logistic Regression"
      ],
      "metadata": {
        "id": "lQqI17XE-TpN"
      }
    },
    {
      "cell_type": "code",
      "execution_count": null,
      "metadata": {
        "id": "ptOvEbOtorSl"
      },
      "outputs": [],
      "source": [
        "#import class \n",
        "\n",
        "#Logistic Regrssion\n",
        "from sklearn.linear_model import LogisticRegression\n",
        "\n",
        "#metrics part\n",
        "from sklearn import metrics\n",
        "from sklearn.metrics import f1_score,plot_confusion_matrix, roc_auc_score,accuracy_score,confusion_matrix, precision_recall_curve, auc, roc_curve, recall_score, classification_report "
      ]
    },
    {
      "cell_type": "code",
      "execution_count": null,
      "metadata": {
        "colab": {
          "base_uri": "https://localhost:8080/"
        },
        "id": "MlhDTLPVqQtl",
        "outputId": "aeff55ec-c44e-4627-9503-875c693803a7"
      },
      "outputs": [
        {
          "output_type": "execute_result",
          "data": {
            "text/plain": [
              "LogisticRegression()"
            ]
          },
          "metadata": {},
          "execution_count": 189
        }
      ],
      "source": [
        "#instantiate LR model\n",
        "log_reg = LogisticRegression()\n",
        "\n",
        "#fir the LR model with data\n",
        "log_reg.fit(x_train,y_train)"
      ]
    },
    {
      "cell_type": "code",
      "execution_count": null,
      "metadata": {
        "colab": {
          "base_uri": "https://localhost:8080/"
        },
        "id": "ixRYmfjsstKA",
        "outputId": "214a4457-5aef-4054-dcfa-f832d0bed4b5"
      },
      "outputs": [
        {
          "output_type": "execute_result",
          "data": {
            "text/plain": [
              "array([1, 0, 0, ..., 0, 0, 1])"
            ]
          },
          "metadata": {},
          "execution_count": 190
        }
      ],
      "source": [
        "#perform prediction on test set\n",
        "y_pred_log_reg = log_reg.predict(x_test)\n",
        "y_pred_log_reg"
      ]
    },
    {
      "cell_type": "code",
      "source": [
        "#predict_proba method\n",
        "log_reg.predict_proba(x_test)"
      ],
      "metadata": {
        "colab": {
          "base_uri": "https://localhost:8080/"
        },
        "id": "hs9UvNkMPLuS",
        "outputId": "d6add439-a49c-4096-e0ff-e1c503a41d5f"
      },
      "execution_count": null,
      "outputs": [
        {
          "output_type": "execute_result",
          "data": {
            "text/plain": [
              "array([[0.37380829, 0.62619171],\n",
              "       [0.7300066 , 0.2699934 ],\n",
              "       [0.89763145, 0.10236855],\n",
              "       ...,\n",
              "       [0.6751939 , 0.3248061 ],\n",
              "       [0.79911597, 0.20088403],\n",
              "       [0.42849782, 0.57150218]])"
            ]
          },
          "metadata": {},
          "execution_count": 191
        }
      ]
    },
    {
      "cell_type": "code",
      "source": [
        "# predict() method >> accept single argument and return arrays for predcited point\n",
        "# predict_proba() method >> accept single argument return arrays list containg class probabilities"
      ],
      "metadata": {
        "id": "5gRPK-ZFlDrP"
      },
      "execution_count": null,
      "outputs": []
    },
    {
      "cell_type": "markdown",
      "metadata": {
        "id": "jKYad3Kosw0x"
      },
      "source": [
        "Classification report of Logistic Regression\n",
        "\n",
        "> The closer the F1-score to 1.0, means the performance of the LR model is better the expected performance\n",
        "\n",
        "\n"
      ]
    },
    {
      "cell_type": "code",
      "execution_count": null,
      "metadata": {
        "colab": {
          "base_uri": "https://localhost:8080/"
        },
        "id": "hIo3eNRQs1RM",
        "outputId": "b31f1959-cb86-42dc-bb0e-edd996020662"
      },
      "outputs": [
        {
          "output_type": "stream",
          "name": "stdout",
          "text": [
            "              precision    recall  f1-score   support\n",
            "\n",
            "           0       0.77      0.67      0.72       984\n",
            "           1       0.70      0.79      0.74       959\n",
            "\n",
            "    accuracy                           0.73      1943\n",
            "   macro avg       0.73      0.73      0.73      1943\n",
            "weighted avg       0.73      0.73      0.73      1943\n",
            "\n"
          ]
        }
      ],
      "source": [
        "classification_report = classification_report(y_test, y_pred_log_reg)\n",
        "print(classification_report)"
      ]
    },
    {
      "cell_type": "markdown",
      "metadata": {
        "id": "0VpkXw1Drb5N"
      },
      "source": [
        "Confusion Matrix"
      ]
    },
    {
      "cell_type": "code",
      "execution_count": null,
      "metadata": {
        "colab": {
          "base_uri": "https://localhost:8080/"
        },
        "id": "rFb98Gr6rbQS",
        "outputId": "0d24e821-daf6-4641-c255-0973f3daaaed"
      },
      "outputs": [
        {
          "output_type": "execute_result",
          "data": {
            "text/plain": [
              "array([[664, 320],\n",
              "       [203, 756]])"
            ]
          },
          "metadata": {},
          "execution_count": 194
        }
      ],
      "source": [
        "c_matrix = confusion_matrix(y_test, y_pred_log_reg)\n",
        "c_matrix"
      ]
    },
    {
      "cell_type": "code",
      "source": [
        "# create heatmap\n",
        "fig, ax = plt.subplots()\n",
        "\n",
        "sns.heatmap(pd.DataFrame(c_matrix), annot=True, cmap=\"YlGnBu\" ,fmt='g')\n",
        "ax.xaxis.set_label_position(\"top\")\n",
        "plt.tight_layout()\n",
        "plt.title('Confusion matrix', y=1.1)\n",
        "plt.ylabel('Actual label')\n",
        "plt.xlabel('Predicted label')"
      ],
      "metadata": {
        "colab": {
          "base_uri": "https://localhost:8080/",
          "height": 343
        },
        "id": "1UY_SANxJKjc",
        "outputId": "687c71ce-bbb3-4a10-81ac-8ced8b77b526"
      },
      "execution_count": null,
      "outputs": [
        {
          "output_type": "execute_result",
          "data": {
            "text/plain": [
              "Text(0.5, 257.44, 'Predicted label')"
            ]
          },
          "metadata": {},
          "execution_count": 195
        },
        {
          "output_type": "display_data",
          "data": {
            "text/plain": [
              "<Figure size 432x288 with 2 Axes>"
            ],
            "image/png": "[encoded data removed]"
          },
          "metadata": {
            "needs_background": "light"
          }
        }
      ]
    },
    {
      "cell_type": "code",
      "source": [
        "print(\"Accuracy:\",metrics.accuracy_score(y_test, y_pred_log_reg))\n",
        "print(\"Precision:\",metrics.precision_score(y_test, y_pred_log_reg))\n",
        "print(\"Recall:\",metrics.recall_score(y_test, y_pred_log_reg))"
      ],
      "metadata": {
        "colab": {
          "base_uri": "https://localhost:8080/"
        },
        "id": "LCZkbRjKJ6ns",
        "outputId": "05d55c0e-ecf8-4795-9550-405dd7a33b96"
      },
      "execution_count": null,
      "outputs": [
        {
          "output_type": "stream",
          "name": "stdout",
          "text": [
            "Accuracy: 0.7308286155429747\n",
            "Precision: 0.7026022304832714\n",
            "Recall: 0.7883211678832117\n"
          ]
        }
      ]
    },
    {
      "cell_type": "markdown",
      "metadata": {
        "id": "ZBaqkw_yvoz4"
      },
      "source": [
        "ROC curve"
      ]
    },
    {
      "cell_type": "code",
      "execution_count": null,
      "metadata": {
        "id": "w-suOZqnrpMf"
      },
      "outputs": [],
      "source": [
        "predicted_probab_log = log_reg.predict_proba(x_test)\n",
        "predicted_probab_log = predicted_probab_log[:, 1]\n",
        "fpr, tpr, _ = roc_curve(y_test, predicted_probab_log)\n",
        "auc = metrics.roc_auc_score(y_test, predicted_probab_log)"
      ]
    },
    {
      "cell_type": "code",
      "execution_count": null,
      "metadata": {
        "colab": {
          "base_uri": "https://localhost:8080/",
          "height": 279
        },
        "id": "xp0PrBTUvgzn",
        "outputId": "e4fffc40-d06d-45f4-f4d0-b7bf17361007"
      },
      "outputs": [
        {
          "output_type": "display_data",
          "data": {
            "text/plain": [
              "<Figure size 432x288 with 1 Axes>"
            ],
            "image/png": "[encoded data removed]"
          },
          "metadata": {
            "needs_background": "light"
          }
        }
      ],
      "source": [
        "from matplotlib import pyplot\n",
        "pyplot.plot(fpr,tpr,label=\"Logistic Regression, auc=\"+str(auc))\n",
        "pyplot.xlabel('False Positive Rate')\n",
        "pyplot.ylabel('True Positive Rate')\n",
        "pyplot.legend()\n",
        "pyplot.show()"
      ]
    },
    {
      "cell_type": "markdown",
      "metadata": {
        "id": "HOMmRZBevwhw"
      },
      "source": [
        "**GRID SEARCH** Hyperparameter Tuning"
      ]
    },
    {
      "cell_type": "code",
      "execution_count": null,
      "metadata": {
        "id": "_7hj0A5N69EA"
      },
      "outputs": [],
      "source": [
        "# finalize param_grid for hyperparameter tuning\n",
        "param_grid = [\n",
        "  {'penalty': ['l1'], 'solver': ['liblinear', 'saga'],\n",
        "   'C' : np.logspace(-4, 4, 20),'max_iter' : [100, 1000,2500, 5000]},\n",
        "  {'penalty': ['l2'], 'solver': ['lbfgs','newton-cg', 'sag'],\n",
        "   'C' : np.logspace(-4, 4, 20),'max_iter' : [100, 1000,2500, 5000]},\n",
        " ]"
      ]
    },
    {
      "cell_type": "code",
      "execution_count": null,
      "metadata": {
        "id": "IFJaa6e57ZXE"
      },
      "outputs": [],
      "source": [
        "from sklearn.model_selection import GridSearchCV"
      ]
    },
    {
      "cell_type": "code",
      "execution_count": null,
      "metadata": {
        "id": "vMeZixFn7fuL"
      },
      "outputs": [],
      "source": [
        "clf = GridSearchCV(estimator =log_reg, param_grid = param_grid, cv = 3, verbose=True, n_jobs=-1)"
      ]
    },
    {
      "cell_type": "code",
      "execution_count": null,
      "metadata": {
        "colab": {
          "base_uri": "https://localhost:8080/"
        },
        "id": "PjO9L_HP7tTP",
        "outputId": "0174fae6-4543-4798-e569-0b8b044476e6"
      },
      "outputs": [
        {
          "output_type": "stream",
          "name": "stdout",
          "text": [
            "Fitting 3 folds for each of 400 candidates, totalling 1200 fits\n"
          ]
        },
        {
          "output_type": "stream",
          "name": "stderr",
          "text": [
            "/usr/local/lib/python3.7/dist-packages/sklearn/svm/_base.py:1208: ConvergenceWarning: Liblinear failed to converge, increase the number of iterations.\n",
            "  ConvergenceWarning,\n"
          ]
        }
      ],
      "source": [
        "clf_fit = clf.fit(x_train,y_train)"
      ]
    },
    {
      "cell_type": "code",
      "execution_count": null,
      "metadata": {
        "colab": {
          "base_uri": "https://localhost:8080/"
        },
        "id": "Paz9AxbW97Qg",
        "outputId": "de0b7408-1460-4032-dba6-162f250f36eb"
      },
      "outputs": [
        {
          "output_type": "execute_result",
          "data": {
            "text/plain": [
              "LogisticRegression(C=29.763514416313132, penalty='l1', solver='liblinear')"
            ]
          },
          "metadata": {},
          "execution_count": 203
        }
      ],
      "source": [
        "clf_fit.best_estimator_"
      ]
    },
    {
      "cell_type": "markdown",
      "metadata": {
        "id": "GsJ38VOiFWHB"
      },
      "source": [
        "**Accuracy Checking**"
      ]
    },
    {
      "cell_type": "code",
      "execution_count": null,
      "metadata": {
        "colab": {
          "base_uri": "https://localhost:8080/"
        },
        "id": "tSEeSwP5FVh7",
        "outputId": "4a12b409-2a78-493e-a176-feb80fd38ee4"
      },
      "outputs": [
        {
          "output_type": "stream",
          "name": "stdout",
          "text": [
            "Accuracy : 0.755\n"
          ]
        }
      ],
      "source": [
        "print (f'Accuracy : {clf_fit.score(x_train,y_train):.3f}')"
      ]
    },
    {
      "cell_type": "code",
      "source": [
        "clf_fit.best_score_"
      ],
      "metadata": {
        "colab": {
          "base_uri": "https://localhost:8080/"
        },
        "id": "B57AhwsncYL9",
        "outputId": "f7ea8c4a-821f-41d6-bb81-78a9a990270d"
      },
      "execution_count": null,
      "outputs": [
        {
          "output_type": "execute_result",
          "data": {
            "text/plain": [
              "0.7560800993014203"
            ]
          },
          "metadata": {},
          "execution_count": 205
        }
      ]
    },
    {
      "cell_type": "markdown",
      "source": [
        "The logistic regression has resulted with 0.72, however with Hyper-Parameter of Grid Searcg has score 0.75 "
      ],
      "metadata": {
        "id": "icsa1cvmkVT_"
      }
    },
    {
      "cell_type": "code",
      "source": [
        " y_pred = clf_fit.predict(x_test)"
      ],
      "metadata": {
        "id": "DV4Z4UHLknuP"
      },
      "execution_count": null,
      "outputs": []
    },
    {
      "cell_type": "markdown",
      "source": [
        "Check the f1-score\n"
      ],
      "metadata": {
        "id": "r5nclFWSLxrE"
      }
    },
    {
      "cell_type": "code",
      "source": [
        "f1_score(y_test, y_pred)"
      ],
      "metadata": {
        "colab": {
          "base_uri": "https://localhost:8080/"
        },
        "id": "dKowddlZLpmh",
        "outputId": "7a256016-ec31-441c-e1d2-1493b574960f"
      },
      "execution_count": null,
      "outputs": [
        {
          "output_type": "execute_result",
          "data": {
            "text/plain": [
              "0.7757805108798486"
            ]
          },
          "metadata": {},
          "execution_count": 235
        }
      ]
    },
    {
      "cell_type": "code",
      "source": [
        "test_acc = accuracy_score(y_test, y_pred)"
      ],
      "metadata": {
        "id": "0zcsd6B7m3fY"
      },
      "execution_count": null,
      "outputs": []
    },
    {
      "cell_type": "markdown",
      "source": [
        "Confusion Matrix"
      ],
      "metadata": {
        "id": "GbY9a4isRtrY"
      }
    },
    {
      "cell_type": "code",
      "source": [
        "cm = confusion_matrix(y_test, y_pred)\n",
        "cm"
      ],
      "metadata": {
        "id": "hTFrP86wm-aC",
        "colab": {
          "base_uri": "https://localhost:8080/"
        },
        "outputId": "be7113a2-ebcb-434c-bc0e-7723dfb79934"
      },
      "execution_count": null,
      "outputs": [
        {
          "output_type": "execute_result",
          "data": {
            "text/plain": [
              "array([[649, 335],\n",
              "       [139, 820]])"
            ]
          },
          "metadata": {},
          "execution_count": 216
        }
      ]
    },
    {
      "cell_type": "markdown",
      "source": [
        "Confusion Matrix with Heatmap"
      ],
      "metadata": {
        "id": "CflR72oYLEiq"
      }
    },
    {
      "cell_type": "code",
      "source": [
        "# create heatmap\n",
        "fig, ax = plt.subplots()\n",
        "\n",
        "sns.heatmap(pd.DataFrame(cm), annot=True, cmap=\"YlGnBu\" ,fmt='g')\n",
        "ax.xaxis.set_label_position(\"top\")\n",
        "plt.tight_layout()\n",
        "plt.title('Confusion matrix', y=1.1)\n",
        "plt.ylabel('Actual label')\n",
        "plt.xlabel('Predicted label')"
      ],
      "metadata": {
        "colab": {
          "base_uri": "https://localhost:8080/",
          "height": 343
        },
        "id": "ETsNRjO9LEV4",
        "outputId": "4b74eafb-7865-45db-9fe4-eddaef0f5288"
      },
      "execution_count": null,
      "outputs": [
        {
          "output_type": "execute_result",
          "data": {
            "text/plain": [
              "Text(0.5, 257.44, 'Predicted label')"
            ]
          },
          "metadata": {},
          "execution_count": 217
        },
        {
          "output_type": "display_data",
          "data": {
            "text/plain": [
              "<Figure size 432x288 with 2 Axes>"
            ],
            "image/png": "[encoded data removed]"
          },
          "metadata": {
            "needs_background": "light"
          }
        }
      ]
    },
    {
      "cell_type": "markdown",
      "source": [
        "Evaluation of Confusion Metrics"
      ],
      "metadata": {
        "id": "HAyUbP5lbsF9"
      }
    },
    {
      "cell_type": "code",
      "source": [
        "print(\"Accuracy:\",metrics.accuracy_score(y_test, y_pred))\n",
        "print(\"Precision:\",metrics.precision_score(y_test, y_pred))\n",
        "print(\"Recall:\",metrics.recall_score(y_test, y_pred))"
      ],
      "metadata": {
        "colab": {
          "base_uri": "https://localhost:8080/"
        },
        "id": "YLSg_vHzR8NL",
        "outputId": "9eb71cc2-ad69-4aa5-df69-f87389877ce1"
      },
      "execution_count": null,
      "outputs": [
        {
          "output_type": "stream",
          "name": "stdout",
          "text": [
            "Accuracy: 0.7560473494595985\n",
            "Precision: 0.70995670995671\n",
            "Recall: 0.8550573514077163\n"
          ]
        }
      ]
    },
    {
      "cell_type": "markdown",
      "source": [
        "ROC Curve"
      ],
      "metadata": {
        "id": "AZwWH8M7nqxV"
      }
    },
    {
      "cell_type": "code",
      "source": [
        "predicted_probab = clf_fit.predict_proba(x_test)\n",
        "predicted_probab = predicted_probab[:, 1]\n",
        "auc = metrics.roc_auc_score(y_test, predicted_probab)\n",
        "fpr, tpr, _ = roc_curve(y_test, predicted_probab)\n",
        "\n",
        "#ROC Curve Plotting\n",
        "pyplot.plot(fpr,tpr,label=\"Logistic Regression, auc=\"+str(auc))\n",
        "pyplot.xlabel('False Positive Rate')\n",
        "pyplot.ylabel('True Positive Rate')\n",
        "pyplot.legend()\n",
        "pyplot.show()"
      ],
      "metadata": {
        "colab": {
          "base_uri": "https://localhost:8080/",
          "height": 279
        },
        "id": "QDFfpRHXnqaY",
        "outputId": "bf4e16a9-cb81-4d00-953b-8ae1643f34af"
      },
      "execution_count": null,
      "outputs": [
        {
          "output_type": "display_data",
          "data": {
            "text/plain": [
              "<Figure size 432x288 with 1 Axes>"
            ],
            "image/png": "[encoded data removed]"
          },
          "metadata": {
            "needs_background": "light"
          }
        }
      ]
    },
    {
      "cell_type": "markdown",
      "source": [
        "The used of Grid Serch hyperparameter tuning has enhanced the value of prediction outcomes for the Logistic Regression model."
      ],
      "metadata": {
        "id": "x9AG1J9hbzO4"
      }
    },
    {
      "cell_type": "markdown",
      "source": [
        "**Second Model** \n",
        "\n",
        "Deep Neuron Network Model"
      ],
      "metadata": {
        "id": "FAc3oAyG-lzT"
      }
    },
    {
      "cell_type": "code",
      "source": [
        "# STEP 11 DNN Model\n",
        "# Buiding the basic layout of the DNN model\n",
        "#\n",
        "from keras.models import Sequential\n",
        "from keras.layers import Dense, Activation, Dropout\n",
        "from keras.callbacks import ModelCheckpoint\n",
        "\n",
        "classifier = Sequential()\n",
        "\n",
        "# define the IL and first HL\n",
        "classifier.add(Dense(units = 350, kernel_initializer = \"random_normal\", activation = 'relu', input_dim = 6)) #number of neurons for the hidden layer\n",
        "classifier.add(Dropout(0.2)) # preventing overfitting\n",
        "\n",
        "# define another HL with 250 unit and Dropout of 0.2\n",
        "classifier.add(Dense(units = 250,  kernel_initializer = \"random_normal\", activation = 'relu'))\n",
        "classifier.add(Dropout(0.2)) # preventing overfitting\n",
        "\n",
        "# OL\n",
        "classifier.add(Dense(units = 1,  kernel_initializer = \"random_normal\", activation = 'sigmoid')) # TV is binary\n",
        "classifier.add(Dropout(0.2)) # preventing overfitting\n",
        "\n",
        "# compile\n",
        "classifier.compile(optimizer= \"adam\", loss = \"binary_crossentropy\", metrics = [\"accuracy\"])\n",
        "classifier.summary()\n",
        "\n",
        "# model checkpoint\n",
        "file = \"Best_model.hdf5\"\n",
        "checkpoint = ModelCheckpoint(file, monitor = \"val_accuracy\", verbose = 1, save_best_only = True, mode = \"max\")\n",
        "callbacks_list = [checkpoint]"
      ],
      "metadata": {
        "colab": {
          "base_uri": "https://localhost:8080/"
        },
        "id": "fdH45GvJVZ93",
        "outputId": "26bbe629-634e-4518-9a39-13b69a5b6392"
      },
      "execution_count": null,
      "outputs": [
        {
          "output_type": "stream",
          "name": "stdout",
          "text": [
            "Model: \"sequential_2\"\n",
            "_________________________________________________________________\n",
            " Layer (type)                Output Shape              Param #   \n",
            "=================================================================\n",
            " dense_6 (Dense)             (None, 350)               2450      \n",
            "                                                                 \n",
            " dropout_6 (Dropout)         (None, 350)               0         \n",
            "                                                                 \n",
            " dense_7 (Dense)             (None, 250)               87750     \n",
            "                                                                 \n",
            " dropout_7 (Dropout)         (None, 250)               0         \n",
            "                                                                 \n",
            " dense_8 (Dense)             (None, 1)                 251       \n",
            "                                                                 \n",
            " dropout_8 (Dropout)         (None, 1)                 0         \n",
            "                                                                 \n",
            "=================================================================\n",
            "Total params: 90,451\n",
            "Trainable params: 90,451\n",
            "Non-trainable params: 0\n",
            "_________________________________________________________________\n"
          ]
        }
      ]
    },
    {
      "cell_type": "code",
      "source": [
        "# Fitting the data into the DNN model\n",
        "history = classifier.fit(x_train,\n",
        "                         y_train, \n",
        "                         validation_data = (x_test, y_test), \n",
        "                         batch_size = 32, \n",
        "                         epochs = 100, \n",
        "                         shuffle = True, \n",
        "                         verbose = 1, \n",
        "                         callbacks = callbacks_list)"
      ],
      "metadata": {
        "colab": {
          "base_uri": "https://localhost:8080/"
        },
        "id": "VJgOnFTzYDx4",
        "outputId": "7bcb5c08-27f0-40a2-db04-094afb4b10a1"
      },
      "execution_count": null,
      "outputs": [
        {
          "output_type": "stream",
          "name": "stdout",
          "text": [
            "Epoch 1/100\n",
            "236/243 [============================>.] - ETA: 0s - loss: 2.0200 - accuracy: 0.6311\n",
            "Epoch 1: val_accuracy improved from -inf to 0.71436, saving model to Best_model.hdf5\n",
            "243/243 [==============================] - 2s 6ms/step - loss: 2.0205 - accuracy: 0.6329 - val_loss: 0.5562 - val_accuracy: 0.7144\n",
            "Epoch 2/100\n",
            "234/243 [===========================>..] - ETA: 0s - loss: 2.0295 - accuracy: 0.6863\n",
            "Epoch 2: val_accuracy did not improve from 0.71436\n",
            "243/243 [==============================] - 1s 5ms/step - loss: 2.0454 - accuracy: 0.6855 - val_loss: 0.5582 - val_accuracy: 0.7128\n",
            "Epoch 3/100\n",
            "242/243 [============================>.] - ETA: 0s - loss: 1.9459 - accuracy: 0.6946\n",
            "Epoch 3: val_accuracy did not improve from 0.71436\n",
            "243/243 [==============================] - 1s 5ms/step - loss: 1.9470 - accuracy: 0.6940 - val_loss: 0.5808 - val_accuracy: 0.6799\n",
            "Epoch 4/100\n",
            "239/243 [============================>.] - ETA: 0s - loss: 2.0015 - accuracy: 0.6918\n",
            "Epoch 4: val_accuracy improved from 0.71436 to 0.72362, saving model to Best_model.hdf5\n",
            "243/243 [==============================] - 1s 5ms/step - loss: 2.0041 - accuracy: 0.6922 - val_loss: 0.5542 - val_accuracy: 0.7236\n",
            "Epoch 5/100\n",
            "241/243 [============================>.] - ETA: 0s - loss: 1.9905 - accuracy: 0.6909\n",
            "Epoch 5: val_accuracy did not improve from 0.72362\n",
            "243/243 [==============================] - 1s 5ms/step - loss: 1.9943 - accuracy: 0.6910 - val_loss: 0.5467 - val_accuracy: 0.7210\n",
            "Epoch 6/100\n",
            "234/243 [===========================>..] - ETA: 0s - loss: 1.8402 - accuracy: 0.7027\n",
            "Epoch 6: val_accuracy did not improve from 0.72362\n",
            "243/243 [==============================] - 1s 5ms/step - loss: 1.8576 - accuracy: 0.7010 - val_loss: 0.5749 - val_accuracy: 0.7072\n",
            "Epoch 7/100\n",
            "237/243 [============================>.] - ETA: 0s - loss: 1.8927 - accuracy: 0.6975\n",
            "Epoch 7: val_accuracy improved from 0.72362 to 0.72980, saving model to Best_model.hdf5\n",
            "243/243 [==============================] - 1s 5ms/step - loss: 1.8956 - accuracy: 0.6970 - val_loss: 0.5362 - val_accuracy: 0.7298\n",
            "Epoch 8/100\n",
            "242/243 [============================>.] - ETA: 0s - loss: 2.0202 - accuracy: 0.6924\n",
            "Epoch 8: val_accuracy improved from 0.72980 to 0.73186, saving model to Best_model.hdf5\n",
            "243/243 [==============================] - 1s 5ms/step - loss: 2.0184 - accuracy: 0.6928 - val_loss: 0.5330 - val_accuracy: 0.7319\n",
            "Epoch 9/100\n",
            "234/243 [===========================>..] - ETA: 0s - loss: 2.0118 - accuracy: 0.6934\n",
            "Epoch 9: val_accuracy did not improve from 0.73186\n",
            "243/243 [==============================] - 1s 5ms/step - loss: 2.0075 - accuracy: 0.6937 - val_loss: 0.5329 - val_accuracy: 0.7313\n",
            "Epoch 10/100\n",
            "238/243 [============================>.] - ETA: 0s - loss: 1.8920 - accuracy: 0.6991\n",
            "Epoch 10: val_accuracy improved from 0.73186 to 0.73803, saving model to Best_model.hdf5\n",
            "243/243 [==============================] - 1s 5ms/step - loss: 1.8891 - accuracy: 0.7000 - val_loss: 0.5298 - val_accuracy: 0.7380\n",
            "Epoch 11/100\n",
            "243/243 [==============================] - ETA: 0s - loss: 1.8722 - accuracy: 0.7082\n",
            "Epoch 11: val_accuracy did not improve from 0.73803\n",
            "243/243 [==============================] - 1s 5ms/step - loss: 1.8722 - accuracy: 0.7082 - val_loss: 0.5396 - val_accuracy: 0.7339\n",
            "Epoch 12/100\n",
            "234/243 [===========================>..] - ETA: 0s - loss: 1.9787 - accuracy: 0.6947\n",
            "Epoch 12: val_accuracy did not improve from 0.73803\n",
            "243/243 [==============================] - 1s 5ms/step - loss: 1.9672 - accuracy: 0.6969 - val_loss: 0.5299 - val_accuracy: 0.7370\n",
            "Epoch 13/100\n",
            "236/243 [============================>.] - ETA: 0s - loss: 1.9699 - accuracy: 0.6941\n",
            "Epoch 13: val_accuracy improved from 0.73803 to 0.74678, saving model to Best_model.hdf5\n",
            "243/243 [==============================] - 1s 5ms/step - loss: 1.9697 - accuracy: 0.6942 - val_loss: 0.5145 - val_accuracy: 0.7468\n",
            "Epoch 14/100\n",
            "233/243 [===========================>..] - ETA: 0s - loss: 1.9883 - accuracy: 0.6921\n",
            "Epoch 14: val_accuracy did not improve from 0.74678\n",
            "243/243 [==============================] - 1s 5ms/step - loss: 2.0094 - accuracy: 0.6894 - val_loss: 0.5320 - val_accuracy: 0.7401\n",
            "Epoch 15/100\n",
            "235/243 [============================>.] - ETA: 0s - loss: 1.9362 - accuracy: 0.6995\n",
            "Epoch 15: val_accuracy did not improve from 0.74678\n",
            "243/243 [==============================] - 1s 5ms/step - loss: 1.9467 - accuracy: 0.6989 - val_loss: 0.5552 - val_accuracy: 0.7149\n",
            "Epoch 16/100\n",
            "241/243 [============================>.] - ETA: 0s - loss: 1.9524 - accuracy: 0.6949\n",
            "Epoch 16: val_accuracy did not improve from 0.74678\n",
            "243/243 [==============================] - 1s 5ms/step - loss: 1.9530 - accuracy: 0.6949 - val_loss: 0.5562 - val_accuracy: 0.7092\n",
            "Epoch 17/100\n",
            "235/243 [============================>.] - ETA: 0s - loss: 1.9981 - accuracy: 0.7036\n",
            "Epoch 17: val_accuracy did not improve from 0.74678\n",
            "243/243 [==============================] - 1s 5ms/step - loss: 1.9810 - accuracy: 0.7045 - val_loss: 0.5334 - val_accuracy: 0.7416\n",
            "Epoch 18/100\n",
            "235/243 [============================>.] - ETA: 0s - loss: 2.0090 - accuracy: 0.7076\n",
            "Epoch 18: val_accuracy did not improve from 0.74678\n",
            "243/243 [==============================] - 1s 5ms/step - loss: 2.0160 - accuracy: 0.7067 - val_loss: 0.5342 - val_accuracy: 0.7401\n",
            "Epoch 19/100\n",
            "236/243 [============================>.] - ETA: 0s - loss: 1.8873 - accuracy: 0.7051\n",
            "Epoch 19: val_accuracy did not improve from 0.74678\n",
            "243/243 [==============================] - 1s 5ms/step - loss: 1.9063 - accuracy: 0.7043 - val_loss: 0.5672 - val_accuracy: 0.7020\n",
            "Epoch 20/100\n",
            "239/243 [============================>.] - ETA: 0s - loss: 1.9217 - accuracy: 0.7087\n",
            "Epoch 20: val_accuracy did not improve from 0.74678\n",
            "243/243 [==============================] - 1s 5ms/step - loss: 1.9214 - accuracy: 0.7091 - val_loss: 0.5386 - val_accuracy: 0.7334\n",
            "Epoch 21/100\n",
            "233/243 [===========================>..] - ETA: 0s - loss: 1.8431 - accuracy: 0.7053\n",
            "Epoch 21: val_accuracy did not improve from 0.74678\n",
            "243/243 [==============================] - 1s 5ms/step - loss: 1.8532 - accuracy: 0.7059 - val_loss: 0.5412 - val_accuracy: 0.7128\n",
            "Epoch 22/100\n",
            "235/243 [============================>.] - ETA: 0s - loss: 1.9710 - accuracy: 0.7009\n",
            "Epoch 22: val_accuracy improved from 0.74678 to 0.75347, saving model to Best_model.hdf5\n",
            "243/243 [==============================] - 1s 5ms/step - loss: 1.9826 - accuracy: 0.7006 - val_loss: 0.5177 - val_accuracy: 0.7535\n",
            "Epoch 23/100\n",
            "234/243 [===========================>..] - ETA: 0s - loss: 1.9388 - accuracy: 0.7063\n",
            "Epoch 23: val_accuracy did not improve from 0.75347\n",
            "243/243 [==============================] - 1s 5ms/step - loss: 1.9357 - accuracy: 0.7059 - val_loss: 0.5584 - val_accuracy: 0.7092\n",
            "Epoch 24/100\n",
            "242/243 [============================>.] - ETA: 0s - loss: 1.9943 - accuracy: 0.7021\n",
            "Epoch 24: val_accuracy did not improve from 0.75347\n",
            "243/243 [==============================] - 1s 5ms/step - loss: 1.9987 - accuracy: 0.7020 - val_loss: 0.5138 - val_accuracy: 0.7463\n",
            "Epoch 25/100\n",
            "236/243 [============================>.] - ETA: 0s - loss: 1.9432 - accuracy: 0.7068\n",
            "Epoch 25: val_accuracy did not improve from 0.75347\n",
            "243/243 [==============================] - 1s 5ms/step - loss: 1.9402 - accuracy: 0.7067 - val_loss: 0.5480 - val_accuracy: 0.7210\n",
            "Epoch 26/100\n",
            "235/243 [============================>.] - ETA: 0s - loss: 1.9525 - accuracy: 0.7036\n",
            "Epoch 26: val_accuracy did not improve from 0.75347\n",
            "243/243 [==============================] - 1s 5ms/step - loss: 1.9622 - accuracy: 0.7033 - val_loss: 0.5322 - val_accuracy: 0.7411\n",
            "Epoch 27/100\n",
            "232/243 [===========================>..] - ETA: 0s - loss: 1.8662 - accuracy: 0.7062\n",
            "Epoch 27: val_accuracy did not improve from 0.75347\n",
            "243/243 [==============================] - 1s 5ms/step - loss: 1.8731 - accuracy: 0.7059 - val_loss: 0.5278 - val_accuracy: 0.7380\n",
            "Epoch 28/100\n",
            "241/243 [============================>.] - ETA: 0s - loss: 1.9354 - accuracy: 0.7058\n",
            "Epoch 28: val_accuracy did not improve from 0.75347\n",
            "243/243 [==============================] - 1s 5ms/step - loss: 1.9325 - accuracy: 0.7056 - val_loss: 0.5399 - val_accuracy: 0.7313\n",
            "Epoch 29/100\n",
            "239/243 [============================>.] - ETA: 0s - loss: 1.9908 - accuracy: 0.7049\n",
            "Epoch 29: val_accuracy did not improve from 0.75347\n",
            "243/243 [==============================] - 1s 5ms/step - loss: 1.9838 - accuracy: 0.7051 - val_loss: 0.5227 - val_accuracy: 0.7344\n",
            "Epoch 30/100\n",
            "240/243 [============================>.] - ETA: 0s - loss: 1.9273 - accuracy: 0.7048\n",
            "Epoch 30: val_accuracy did not improve from 0.75347\n",
            "243/243 [==============================] - 2s 8ms/step - loss: 1.9331 - accuracy: 0.7047 - val_loss: 0.5152 - val_accuracy: 0.7473\n",
            "Epoch 31/100\n",
            "243/243 [==============================] - ETA: 0s - loss: 1.8713 - accuracy: 0.7083\n",
            "Epoch 31: val_accuracy did not improve from 0.75347\n",
            "243/243 [==============================] - 2s 10ms/step - loss: 1.8713 - accuracy: 0.7083 - val_loss: 0.5149 - val_accuracy: 0.7463\n",
            "Epoch 32/100\n",
            "238/243 [============================>.] - ETA: 0s - loss: 1.9109 - accuracy: 0.7102\n",
            "Epoch 32: val_accuracy did not improve from 0.75347\n",
            "243/243 [==============================] - 2s 8ms/step - loss: 1.9099 - accuracy: 0.7108 - val_loss: 0.5222 - val_accuracy: 0.7422\n",
            "Epoch 33/100\n",
            "232/243 [===========================>..] - ETA: 0s - loss: 1.8481 - accuracy: 0.7117\n",
            "Epoch 33: val_accuracy did not improve from 0.75347\n",
            "243/243 [==============================] - 1s 5ms/step - loss: 1.8412 - accuracy: 0.7117 - val_loss: 0.5057 - val_accuracy: 0.7473\n",
            "Epoch 34/100\n",
            "241/243 [============================>.] - ETA: 0s - loss: 1.9910 - accuracy: 0.7024\n",
            "Epoch 34: val_accuracy did not improve from 0.75347\n",
            "243/243 [==============================] - 1s 5ms/step - loss: 1.9895 - accuracy: 0.7024 - val_loss: 0.5207 - val_accuracy: 0.7473\n",
            "Epoch 35/100\n",
            "232/243 [===========================>..] - ETA: 0s - loss: 1.9743 - accuracy: 0.7046\n",
            "Epoch 35: val_accuracy did not improve from 0.75347\n",
            "243/243 [==============================] - 1s 5ms/step - loss: 1.9738 - accuracy: 0.7054 - val_loss: 0.5351 - val_accuracy: 0.7303\n",
            "Epoch 36/100\n",
            "232/243 [===========================>..] - ETA: 0s - loss: 1.8714 - accuracy: 0.7047\n",
            "Epoch 36: val_accuracy did not improve from 0.75347\n",
            "243/243 [==============================] - 1s 5ms/step - loss: 1.8747 - accuracy: 0.7054 - val_loss: 0.5107 - val_accuracy: 0.7416\n",
            "Epoch 37/100\n",
            "243/243 [==============================] - ETA: 0s - loss: 1.9047 - accuracy: 0.7105\n",
            "Epoch 37: val_accuracy did not improve from 0.75347\n",
            "243/243 [==============================] - 1s 5ms/step - loss: 1.9047 - accuracy: 0.7105 - val_loss: 0.5182 - val_accuracy: 0.7494\n",
            "Epoch 38/100\n",
            "241/243 [============================>.] - ETA: 0s - loss: 1.9115 - accuracy: 0.7063\n",
            "Epoch 38: val_accuracy did not improve from 0.75347\n",
            "243/243 [==============================] - 1s 5ms/step - loss: 1.9088 - accuracy: 0.7064 - val_loss: 0.5191 - val_accuracy: 0.7432\n",
            "Epoch 39/100\n",
            "243/243 [==============================] - ETA: 0s - loss: 1.9557 - accuracy: 0.7110\n",
            "Epoch 39: val_accuracy improved from 0.75347 to 0.75450, saving model to Best_model.hdf5\n",
            "243/243 [==============================] - 1s 5ms/step - loss: 1.9557 - accuracy: 0.7110 - val_loss: 0.5138 - val_accuracy: 0.7545\n",
            "Epoch 40/100\n",
            "235/243 [============================>.] - ETA: 0s - loss: 1.9143 - accuracy: 0.7121\n",
            "Epoch 40: val_accuracy did not improve from 0.75450\n",
            "243/243 [==============================] - 1s 5ms/step - loss: 1.9197 - accuracy: 0.7119 - val_loss: 0.5171 - val_accuracy: 0.7422\n",
            "Epoch 41/100\n",
            "236/243 [============================>.] - ETA: 0s - loss: 1.9069 - accuracy: 0.7092\n",
            "Epoch 41: val_accuracy did not improve from 0.75450\n",
            "243/243 [==============================] - 1s 5ms/step - loss: 1.9019 - accuracy: 0.7097 - val_loss: 0.5139 - val_accuracy: 0.7488\n",
            "Epoch 42/100\n",
            "235/243 [============================>.] - ETA: 0s - loss: 1.8687 - accuracy: 0.7118\n",
            "Epoch 42: val_accuracy did not improve from 0.75450\n",
            "243/243 [==============================] - 1s 5ms/step - loss: 1.8661 - accuracy: 0.7128 - val_loss: 0.5148 - val_accuracy: 0.7447\n",
            "Epoch 43/100\n",
            "239/243 [============================>.] - ETA: 0s - loss: 1.9250 - accuracy: 0.7087\n",
            "Epoch 43: val_accuracy improved from 0.75450 to 0.75502, saving model to Best_model.hdf5\n",
            "243/243 [==============================] - 1s 5ms/step - loss: 1.9288 - accuracy: 0.7086 - val_loss: 0.5022 - val_accuracy: 0.7550\n",
            "Epoch 44/100\n",
            "239/243 [============================>.] - ETA: 0s - loss: 1.9709 - accuracy: 0.7058\n",
            "Epoch 44: val_accuracy did not improve from 0.75502\n",
            "243/243 [==============================] - 1s 5ms/step - loss: 1.9692 - accuracy: 0.7060 - val_loss: 0.5156 - val_accuracy: 0.7375\n",
            "Epoch 45/100\n",
            "242/243 [============================>.] - ETA: 0s - loss: 1.8997 - accuracy: 0.7126\n",
            "Epoch 45: val_accuracy did not improve from 0.75502\n",
            "243/243 [==============================] - 1s 5ms/step - loss: 1.9017 - accuracy: 0.7119 - val_loss: 0.5267 - val_accuracy: 0.7488\n",
            "Epoch 46/100\n",
            "234/243 [===========================>..] - ETA: 0s - loss: 2.0491 - accuracy: 0.7035\n",
            "Epoch 46: val_accuracy did not improve from 0.75502\n",
            "243/243 [==============================] - 1s 5ms/step - loss: 2.0327 - accuracy: 0.7054 - val_loss: 0.5346 - val_accuracy: 0.7324\n",
            "Epoch 47/100\n",
            "238/243 [============================>.] - ETA: 0s - loss: 1.9345 - accuracy: 0.7051\n",
            "Epoch 47: val_accuracy did not improve from 0.75502\n",
            "243/243 [==============================] - 1s 5ms/step - loss: 1.9377 - accuracy: 0.7045 - val_loss: 0.5155 - val_accuracy: 0.7406\n",
            "Epoch 48/100\n",
            "232/243 [===========================>..] - ETA: 0s - loss: 1.8940 - accuracy: 0.7112\n",
            "Epoch 48: val_accuracy did not improve from 0.75502\n",
            "243/243 [==============================] - 1s 5ms/step - loss: 1.8931 - accuracy: 0.7110 - val_loss: 0.5095 - val_accuracy: 0.7483\n",
            "Epoch 49/100\n",
            "234/243 [===========================>..] - ETA: 0s - loss: 1.9451 - accuracy: 0.7094\n",
            "Epoch 49: val_accuracy did not improve from 0.75502\n",
            "243/243 [==============================] - 1s 5ms/step - loss: 1.9505 - accuracy: 0.7083 - val_loss: 0.5243 - val_accuracy: 0.7396\n",
            "Epoch 50/100\n",
            "232/243 [===========================>..] - ETA: 0s - loss: 1.9964 - accuracy: 0.7007\n",
            "Epoch 50: val_accuracy did not improve from 0.75502\n",
            "243/243 [==============================] - 1s 5ms/step - loss: 1.9867 - accuracy: 0.7027 - val_loss: 0.5092 - val_accuracy: 0.7509\n",
            "Epoch 51/100\n",
            "243/243 [==============================] - ETA: 0s - loss: 2.0527 - accuracy: 0.7083\n",
            "Epoch 51: val_accuracy did not improve from 0.75502\n",
            "243/243 [==============================] - 1s 5ms/step - loss: 2.0527 - accuracy: 0.7083 - val_loss: 0.5168 - val_accuracy: 0.7422\n",
            "Epoch 52/100\n",
            "242/243 [============================>.] - ETA: 0s - loss: 1.9506 - accuracy: 0.7078\n",
            "Epoch 52: val_accuracy did not improve from 0.75502\n",
            "243/243 [==============================] - 1s 5ms/step - loss: 1.9512 - accuracy: 0.7079 - val_loss: 0.5054 - val_accuracy: 0.7524\n",
            "Epoch 53/100\n",
            "243/243 [==============================] - ETA: 0s - loss: 1.9191 - accuracy: 0.7085\n",
            "Epoch 53: val_accuracy did not improve from 0.75502\n",
            "243/243 [==============================] - 1s 5ms/step - loss: 1.9191 - accuracy: 0.7085 - val_loss: 0.5164 - val_accuracy: 0.7478\n",
            "Epoch 54/100\n",
            "239/243 [============================>.] - ETA: 0s - loss: 1.9176 - accuracy: 0.7131\n",
            "Epoch 54: val_accuracy did not improve from 0.75502\n",
            "243/243 [==============================] - 2s 9ms/step - loss: 1.9241 - accuracy: 0.7117 - val_loss: 0.5213 - val_accuracy: 0.7344\n",
            "Epoch 55/100\n",
            "235/243 [============================>.] - ETA: 0s - loss: 1.9385 - accuracy: 0.7113\n",
            "Epoch 55: val_accuracy did not improve from 0.75502\n",
            "243/243 [==============================] - 1s 5ms/step - loss: 1.9427 - accuracy: 0.7108 - val_loss: 0.5343 - val_accuracy: 0.7288\n",
            "Epoch 56/100\n",
            "233/243 [===========================>..] - ETA: 0s - loss: 1.9006 - accuracy: 0.7133\n",
            "Epoch 56: val_accuracy did not improve from 0.75502\n",
            "243/243 [==============================] - 1s 5ms/step - loss: 1.8986 - accuracy: 0.7130 - val_loss: 0.5120 - val_accuracy: 0.7468\n",
            "Epoch 57/100\n",
            "234/243 [===========================>..] - ETA: 0s - loss: 1.9315 - accuracy: 0.7143\n",
            "Epoch 57: val_accuracy did not improve from 0.75502\n",
            "243/243 [==============================] - 1s 6ms/step - loss: 1.9398 - accuracy: 0.7121 - val_loss: 0.5148 - val_accuracy: 0.7447\n",
            "Epoch 58/100\n",
            "242/243 [============================>.] - ETA: 0s - loss: 1.8315 - accuracy: 0.7162\n",
            "Epoch 58: val_accuracy did not improve from 0.75502\n",
            "243/243 [==============================] - 1s 5ms/step - loss: 1.8289 - accuracy: 0.7162 - val_loss: 0.5017 - val_accuracy: 0.7545\n",
            "Epoch 59/100\n",
            "236/243 [============================>.] - ETA: 0s - loss: 1.9683 - accuracy: 0.7064\n",
            "Epoch 59: val_accuracy improved from 0.75502 to 0.75553, saving model to Best_model.hdf5\n",
            "243/243 [==============================] - 1s 5ms/step - loss: 1.9738 - accuracy: 0.7064 - val_loss: 0.5010 - val_accuracy: 0.7555\n",
            "Epoch 60/100\n",
            "240/243 [============================>.] - ETA: 0s - loss: 1.8260 - accuracy: 0.7178\n",
            "Epoch 60: val_accuracy did not improve from 0.75553\n",
            "243/243 [==============================] - 1s 5ms/step - loss: 1.8232 - accuracy: 0.7180 - val_loss: 0.5328 - val_accuracy: 0.7401\n",
            "Epoch 61/100\n",
            "239/243 [============================>.] - ETA: 0s - loss: 1.9616 - accuracy: 0.7028\n",
            "Epoch 61: val_accuracy did not improve from 0.75553\n",
            "243/243 [==============================] - 1s 5ms/step - loss: 1.9523 - accuracy: 0.7038 - val_loss: 0.5247 - val_accuracy: 0.7355\n",
            "Epoch 62/100\n",
            "236/243 [============================>.] - ETA: 0s - loss: 1.9040 - accuracy: 0.7136\n",
            "Epoch 62: val_accuracy did not improve from 0.75553\n",
            "243/243 [==============================] - 1s 5ms/step - loss: 1.8989 - accuracy: 0.7119 - val_loss: 0.5200 - val_accuracy: 0.7452\n",
            "Epoch 63/100\n",
            "240/243 [============================>.] - ETA: 0s - loss: 1.8884 - accuracy: 0.7154\n",
            "Epoch 63: val_accuracy did not improve from 0.75553\n",
            "243/243 [==============================] - 1s 5ms/step - loss: 1.8826 - accuracy: 0.7159 - val_loss: 0.5044 - val_accuracy: 0.7468\n",
            "Epoch 64/100\n",
            "235/243 [============================>.] - ETA: 0s - loss: 1.9333 - accuracy: 0.7093\n",
            "Epoch 64: val_accuracy did not improve from 0.75553\n",
            "243/243 [==============================] - 1s 5ms/step - loss: 1.9374 - accuracy: 0.7085 - val_loss: 0.5208 - val_accuracy: 0.7365\n",
            "Epoch 65/100\n",
            "235/243 [============================>.] - ETA: 0s - loss: 1.8632 - accuracy: 0.7161\n",
            "Epoch 65: val_accuracy did not improve from 0.75553\n",
            "243/243 [==============================] - 1s 5ms/step - loss: 1.8609 - accuracy: 0.7168 - val_loss: 0.5029 - val_accuracy: 0.7550\n",
            "Epoch 66/100\n",
            "242/243 [============================>.] - ETA: 0s - loss: 1.9301 - accuracy: 0.7163\n",
            "Epoch 66: val_accuracy did not improve from 0.75553\n",
            "243/243 [==============================] - 1s 5ms/step - loss: 1.9290 - accuracy: 0.7163 - val_loss: 0.5233 - val_accuracy: 0.7360\n",
            "Epoch 67/100\n",
            "243/243 [==============================] - ETA: 0s - loss: 1.9244 - accuracy: 0.7150\n",
            "Epoch 67: val_accuracy did not improve from 0.75553\n",
            "243/243 [==============================] - 1s 5ms/step - loss: 1.9244 - accuracy: 0.7150 - val_loss: 0.5085 - val_accuracy: 0.7478\n",
            "Epoch 68/100\n",
            "238/243 [============================>.] - ETA: 0s - loss: 1.9247 - accuracy: 0.7113\n",
            "Epoch 68: val_accuracy did not improve from 0.75553\n",
            "243/243 [==============================] - 1s 5ms/step - loss: 1.9163 - accuracy: 0.7112 - val_loss: 0.5372 - val_accuracy: 0.7252\n",
            "Epoch 69/100\n",
            "242/243 [============================>.] - ETA: 0s - loss: 1.9003 - accuracy: 0.7070\n",
            "Epoch 69: val_accuracy did not improve from 0.75553\n",
            "243/243 [==============================] - 1s 5ms/step - loss: 1.9032 - accuracy: 0.7072 - val_loss: 0.5123 - val_accuracy: 0.7499\n",
            "Epoch 70/100\n",
            "236/243 [============================>.] - ETA: 0s - loss: 1.8579 - accuracy: 0.7137\n",
            "Epoch 70: val_accuracy did not improve from 0.75553\n",
            "243/243 [==============================] - 1s 5ms/step - loss: 1.8749 - accuracy: 0.7133 - val_loss: 0.5088 - val_accuracy: 0.7401\n",
            "Epoch 71/100\n",
            "241/243 [============================>.] - ETA: 0s - loss: 1.9641 - accuracy: 0.7136\n",
            "Epoch 71: val_accuracy did not improve from 0.75553\n",
            "243/243 [==============================] - 1s 5ms/step - loss: 1.9661 - accuracy: 0.7139 - val_loss: 0.5131 - val_accuracy: 0.7375\n",
            "Epoch 72/100\n",
            "242/243 [============================>.] - ETA: 0s - loss: 1.8624 - accuracy: 0.7177\n",
            "Epoch 72: val_accuracy did not improve from 0.75553\n",
            "243/243 [==============================] - 1s 5ms/step - loss: 1.8661 - accuracy: 0.7170 - val_loss: 0.5067 - val_accuracy: 0.7463\n",
            "Epoch 73/100\n",
            "235/243 [============================>.] - ETA: 0s - loss: 1.8612 - accuracy: 0.7144\n",
            "Epoch 73: val_accuracy did not improve from 0.75553\n",
            "243/243 [==============================] - 1s 5ms/step - loss: 1.8627 - accuracy: 0.7142 - val_loss: 0.5041 - val_accuracy: 0.7519\n",
            "Epoch 74/100\n",
            "237/243 [============================>.] - ETA: 0s - loss: 1.9320 - accuracy: 0.7123\n",
            "Epoch 74: val_accuracy did not improve from 0.75553\n",
            "243/243 [==============================] - 1s 5ms/step - loss: 1.9325 - accuracy: 0.7131 - val_loss: 0.5367 - val_accuracy: 0.7267\n",
            "Epoch 75/100\n",
            "240/243 [============================>.] - ETA: 0s - loss: 1.8503 - accuracy: 0.7199\n",
            "Epoch 75: val_accuracy did not improve from 0.75553\n",
            "243/243 [==============================] - 1s 5ms/step - loss: 1.8576 - accuracy: 0.7191 - val_loss: 0.5061 - val_accuracy: 0.7540\n",
            "Epoch 76/100\n",
            "234/243 [===========================>..] - ETA: 0s - loss: 1.9406 - accuracy: 0.7115\n",
            "Epoch 76: val_accuracy did not improve from 0.75553\n",
            "243/243 [==============================] - 1s 5ms/step - loss: 1.9511 - accuracy: 0.7112 - val_loss: 0.5076 - val_accuracy: 0.7473\n",
            "Epoch 77/100\n",
            "239/243 [============================>.] - ETA: 0s - loss: 1.9067 - accuracy: 0.7178\n",
            "Epoch 77: val_accuracy did not improve from 0.75553\n",
            "243/243 [==============================] - 1s 5ms/step - loss: 1.9022 - accuracy: 0.7188 - val_loss: 0.4979 - val_accuracy: 0.7540\n",
            "Epoch 78/100\n",
            "237/243 [============================>.] - ETA: 0s - loss: 1.9698 - accuracy: 0.7093\n",
            "Epoch 78: val_accuracy did not improve from 0.75553\n",
            "243/243 [==============================] - 1s 5ms/step - loss: 1.9847 - accuracy: 0.7088 - val_loss: 0.5111 - val_accuracy: 0.7452\n",
            "Epoch 79/100\n",
            "234/243 [===========================>..] - ETA: 0s - loss: 1.9673 - accuracy: 0.7087\n",
            "Epoch 79: val_accuracy did not improve from 0.75553\n",
            "243/243 [==============================] - 1s 5ms/step - loss: 1.9877 - accuracy: 0.7078 - val_loss: 0.4993 - val_accuracy: 0.7530\n",
            "Epoch 80/100\n",
            "239/243 [============================>.] - ETA: 0s - loss: 1.9031 - accuracy: 0.7108\n",
            "Epoch 80: val_accuracy did not improve from 0.75553\n",
            "243/243 [==============================] - 1s 5ms/step - loss: 1.8900 - accuracy: 0.7117 - val_loss: 0.5066 - val_accuracy: 0.7514\n",
            "Epoch 81/100\n",
            "241/243 [============================>.] - ETA: 0s - loss: 1.9507 - accuracy: 0.7130\n",
            "Epoch 81: val_accuracy did not improve from 0.75553\n",
            "243/243 [==============================] - 1s 5ms/step - loss: 1.9445 - accuracy: 0.7135 - val_loss: 0.5017 - val_accuracy: 0.7488\n",
            "Epoch 82/100\n",
            "232/243 [===========================>..] - ETA: 0s - loss: 1.9002 - accuracy: 0.7192\n",
            "Epoch 82: val_accuracy did not improve from 0.75553\n",
            "243/243 [==============================] - 1s 5ms/step - loss: 1.9083 - accuracy: 0.7175 - val_loss: 0.5114 - val_accuracy: 0.7452\n",
            "Epoch 83/100\n",
            "239/243 [============================>.] - ETA: 0s - loss: 1.9116 - accuracy: 0.7189\n",
            "Epoch 83: val_accuracy did not improve from 0.75553\n",
            "243/243 [==============================] - 1s 5ms/step - loss: 1.9055 - accuracy: 0.7188 - val_loss: 0.5420 - val_accuracy: 0.7303\n",
            "Epoch 84/100\n",
            "234/243 [===========================>..] - ETA: 0s - loss: 1.9010 - accuracy: 0.7127\n",
            "Epoch 84: val_accuracy did not improve from 0.75553\n",
            "243/243 [==============================] - 1s 5ms/step - loss: 1.8972 - accuracy: 0.7121 - val_loss: 0.5071 - val_accuracy: 0.7437\n",
            "Epoch 85/100\n",
            "233/243 [===========================>..] - ETA: 0s - loss: 1.9748 - accuracy: 0.7145\n",
            "Epoch 85: val_accuracy did not improve from 0.75553\n",
            "243/243 [==============================] - 1s 6ms/step - loss: 1.9780 - accuracy: 0.7137 - val_loss: 0.5097 - val_accuracy: 0.7499\n",
            "Epoch 86/100\n",
            "234/243 [===========================>..] - ETA: 0s - loss: 2.0188 - accuracy: 0.7111\n",
            "Epoch 86: val_accuracy did not improve from 0.75553\n",
            "243/243 [==============================] - 1s 5ms/step - loss: 2.0147 - accuracy: 0.7114 - val_loss: 0.5045 - val_accuracy: 0.7540\n",
            "Epoch 87/100\n",
            "241/243 [============================>.] - ETA: 0s - loss: 1.9025 - accuracy: 0.7138\n",
            "Epoch 87: val_accuracy did not improve from 0.75553\n",
            "243/243 [==============================] - 1s 5ms/step - loss: 1.9014 - accuracy: 0.7137 - val_loss: 0.5156 - val_accuracy: 0.7401\n",
            "Epoch 88/100\n",
            "233/243 [===========================>..] - ETA: 0s - loss: 1.8740 - accuracy: 0.7145\n",
            "Epoch 88: val_accuracy did not improve from 0.75553\n",
            "243/243 [==============================] - 1s 5ms/step - loss: 1.8821 - accuracy: 0.7139 - val_loss: 0.4982 - val_accuracy: 0.7545\n",
            "Epoch 89/100\n",
            "234/243 [===========================>..] - ETA: 0s - loss: 1.8229 - accuracy: 0.7246\n",
            "Epoch 89: val_accuracy did not improve from 0.75553\n",
            "243/243 [==============================] - 1s 6ms/step - loss: 1.8220 - accuracy: 0.7253 - val_loss: 0.5043 - val_accuracy: 0.7540\n",
            "Epoch 90/100\n",
            "235/243 [============================>.] - ETA: 0s - loss: 1.9282 - accuracy: 0.7201\n",
            "Epoch 90: val_accuracy did not improve from 0.75553\n",
            "243/243 [==============================] - 1s 5ms/step - loss: 1.9255 - accuracy: 0.7199 - val_loss: 0.5217 - val_accuracy: 0.7380\n",
            "Epoch 91/100\n",
            "239/243 [============================>.] - ETA: 0s - loss: 1.9111 - accuracy: 0.7204\n",
            "Epoch 91: val_accuracy did not improve from 0.75553\n",
            "243/243 [==============================] - 1s 5ms/step - loss: 1.9154 - accuracy: 0.7198 - val_loss: 0.5129 - val_accuracy: 0.7447\n",
            "Epoch 92/100\n",
            "243/243 [==============================] - ETA: 0s - loss: 1.9741 - accuracy: 0.7105\n",
            "Epoch 92: val_accuracy did not improve from 0.75553\n",
            "243/243 [==============================] - 1s 5ms/step - loss: 1.9741 - accuracy: 0.7105 - val_loss: 0.5067 - val_accuracy: 0.7540\n",
            "Epoch 93/100\n",
            "239/243 [============================>.] - ETA: 0s - loss: 1.9780 - accuracy: 0.7156\n",
            "Epoch 93: val_accuracy did not improve from 0.75553\n",
            "243/243 [==============================] - 1s 6ms/step - loss: 1.9776 - accuracy: 0.7153 - val_loss: 0.5006 - val_accuracy: 0.7555\n",
            "Epoch 94/100\n",
            "234/243 [===========================>..] - ETA: 0s - loss: 1.9646 - accuracy: 0.7186\n",
            "Epoch 94: val_accuracy did not improve from 0.75553\n",
            "243/243 [==============================] - 1s 5ms/step - loss: 1.9739 - accuracy: 0.7184 - val_loss: 0.4993 - val_accuracy: 0.7550\n",
            "Epoch 95/100\n",
            "237/243 [============================>.] - ETA: 0s - loss: 1.9158 - accuracy: 0.7160\n",
            "Epoch 95: val_accuracy did not improve from 0.75553\n",
            "243/243 [==============================] - 1s 5ms/step - loss: 1.9250 - accuracy: 0.7164 - val_loss: 0.4978 - val_accuracy: 0.7488\n",
            "Epoch 96/100\n",
            "236/243 [============================>.] - ETA: 0s - loss: 1.9485 - accuracy: 0.7173\n",
            "Epoch 96: val_accuracy did not improve from 0.75553\n",
            "243/243 [==============================] - 1s 5ms/step - loss: 1.9501 - accuracy: 0.7175 - val_loss: 0.5005 - val_accuracy: 0.7535\n",
            "Epoch 97/100\n",
            "236/243 [============================>.] - ETA: 0s - loss: 1.8731 - accuracy: 0.7198\n",
            "Epoch 97: val_accuracy did not improve from 0.75553\n",
            "243/243 [==============================] - 1s 5ms/step - loss: 1.8712 - accuracy: 0.7208 - val_loss: 0.5269 - val_accuracy: 0.7236\n",
            "Epoch 98/100\n",
            "234/243 [===========================>..] - ETA: 0s - loss: 1.9030 - accuracy: 0.7175\n",
            "Epoch 98: val_accuracy did not improve from 0.75553\n",
            "243/243 [==============================] - 1s 5ms/step - loss: 1.8846 - accuracy: 0.7179 - val_loss: 0.5125 - val_accuracy: 0.7483\n",
            "Epoch 99/100\n",
            "234/243 [===========================>..] - ETA: 0s - loss: 1.9793 - accuracy: 0.7133\n",
            "Epoch 99: val_accuracy did not improve from 0.75553\n",
            "243/243 [==============================] - 1s 5ms/step - loss: 1.9955 - accuracy: 0.7121 - val_loss: 0.5068 - val_accuracy: 0.7499\n",
            "Epoch 100/100\n",
            "233/243 [===========================>..] - ETA: 0s - loss: 1.9273 - accuracy: 0.7149\n",
            "Epoch 100: val_accuracy did not improve from 0.75553\n",
            "243/243 [==============================] - 1s 5ms/step - loss: 1.9144 - accuracy: 0.7157 - val_loss: 0.5033 - val_accuracy: 0.7494\n"
          ]
        }
      ]
    },
    {
      "cell_type": "code",
      "source": [
        "# Displaying the Accuracy of the model in each epoch \n",
        "import matplotlib.pyplot as plt\n",
        "plt.plot(history.history['accuracy'])\n",
        "plt.plot(history.history['val_accuracy'])\n",
        "plt.title('Model Accuracy')\n",
        "plt.xlabel('Epochs')\n",
        "plt.ylabel('Accuracy')\n",
        "plt.legend(['Train','Test'], loc = 'upper_left')\n",
        "plt.show()"
      ],
      "metadata": {
        "colab": {
          "base_uri": "https://localhost:8080/",
          "height": 553
        },
        "id": "69RiT6xJYor-",
        "outputId": "fdf2ec5a-9c9d-4e55-df77-eea5308bf4ea"
      },
      "execution_count": null,
      "outputs": [
        {
          "output_type": "stream",
          "name": "stderr",
          "text": [
            "/usr/local/lib/python3.7/dist-packages/ipykernel_launcher.py:7: MatplotlibDeprecationWarning: Unrecognized location 'upper_left'. Falling back on 'best'; valid locations are\n",
            "\tbest\n",
            "\tupper right\n",
            "\tupper left\n",
            "\tlower left\n",
            "\tlower right\n",
            "\tright\n",
            "\tcenter left\n",
            "\tcenter right\n",
            "\tlower center\n",
            "\tupper center\n",
            "\tcenter\n",
            "This will raise an exception in 3.3.\n",
            "  import sys\n"
          ]
        },
        {
          "output_type": "display_data",
          "data": {
            "text/plain": [
              "<Figure size 432x288 with 1 Axes>"
            ],
            "image/png": "[encoded data removed]"
          },
          "metadata": {
            "needs_background": "light"
          }
        }
      ]
    },
    {
      "cell_type": "code",
      "source": [
        "# Perform Prediction using x_text, saving the prediction value into y_pred\n",
        "classifier.load_weights('Best_model.hdf5')\n",
        "y_pred = classifier.predict(x_test)\n",
        "y_pred = (y_pred > 0.5)\n",
        "y_pred"
      ],
      "metadata": {
        "colab": {
          "base_uri": "https://localhost:8080/"
        },
        "id": "Wka_RX72Zh8i",
        "outputId": "18dbe03a-68d2-4d94-eabe-532290153940"
      },
      "execution_count": null,
      "outputs": [
        {
          "output_type": "execute_result",
          "data": {
            "text/plain": [
              "array([[ True],\n",
              "       [False],\n",
              "       [False],\n",
              "       ...,\n",
              "       [False],\n",
              "       [False],\n",
              "       [ True]])"
            ]
          },
          "metadata": {},
          "execution_count": 97
        }
      ]
    },
    {
      "cell_type": "code",
      "source": [
        "# STEP 11: (Evaluate Result)\n",
        "# Evaluate Model by Accuracy, Precision, Recall and F1 Score\n",
        "#\n",
        "# The accuracy of the model is 0.755 which is within the acceptable range\n",
        "# Same go towards the other score such as\n",
        "# precison -> 0.756\n",
        "# recall -> 0.744\n",
        "# F1 score -> 0.75\n",
        "from sklearn.metrics import accuracy_score, precision_score, recall_score, f1_score, classification_report\n",
        "print('Accuracy of MLP Classifier: ', accuracy_score(y_test, y_pred))\n",
        "print('Precision of MLP Classifier: ', precision_score(y_test, y_pred, average = 'binary'))\n",
        "print('Recall of MLP Classifier: ', recall_score(y_test, y_pred, average = 'binary'))\n",
        "print('F1 Score of MLP Classifier: ', f1_score(y_test, y_pred, average = 'binary'))"
      ],
      "metadata": {
        "colab": {
          "base_uri": "https://localhost:8080/"
        },
        "id": "iIfIr0v9iNcL",
        "outputId": "298bd172-777c-4980-94b1-bdff4fdfc5bf"
      },
      "execution_count": null,
      "outputs": [
        {
          "output_type": "stream",
          "name": "stdout",
          "text": [
            "Accuracy of MLP Classifier:  0.7555326814204838\n",
            "Precision of MLP Classifier:  0.7563559322033898\n",
            "Recall of MLP Classifier:  0.7445255474452555\n",
            "F1 Score of MLP Classifier:  0.7503941145559642\n"
          ]
        }
      ]
    },
    {
      "cell_type": "code",
      "source": [
        "# print out the similar result on accuracy, precision, recall and F1 score using the classification report\n",
        "print(classification_report(y_test, y_pred))"
      ],
      "metadata": {
        "colab": {
          "base_uri": "https://localhost:8080/"
        },
        "id": "5xmBeSziZn6f",
        "outputId": "4534f04e-dac9-4686-faa5-81a79d3cbc44"
      },
      "execution_count": null,
      "outputs": [
        {
          "output_type": "stream",
          "name": "stdout",
          "text": [
            "              precision    recall  f1-score   support\n",
            "\n",
            "           0       0.75      0.77      0.76       984\n",
            "           1       0.76      0.74      0.75       959\n",
            "\n",
            "    accuracy                           0.76      1943\n",
            "   macro avg       0.76      0.76      0.76      1943\n",
            "weighted avg       0.76      0.76      0.76      1943\n",
            "\n"
          ]
        }
      ]
    },
    {
      "cell_type": "code",
      "source": [
        "# Find out the value of TP, TF, FP, FF\n",
        "# where the value will then show in the heatmpa in the following code\n",
        "from sklearn.metrics import confusion_matrix, classification_report\n",
        "cmap = confusion_matrix (y_test, y_pred)\n",
        "cmap"
      ],
      "metadata": {
        "colab": {
          "base_uri": "https://localhost:8080/"
        },
        "id": "gAROgbRdZmVU",
        "outputId": "fe057424-e121-4b94-a17c-3e48e34458de"
      },
      "execution_count": null,
      "outputs": [
        {
          "output_type": "execute_result",
          "data": {
            "text/plain": [
              "array([[754, 230],\n",
              "       [245, 714]])"
            ]
          },
          "metadata": {},
          "execution_count": 108
        }
      ]
    },
    {
      "cell_type": "code",
      "source": [
        "# use to plot a heatmpa graph to show the value of TP, TF, FP, FF\n",
        "fig, ax = plt.subplots()\n",
        "\n",
        "sns.heatmap(pd.DataFrame(cmap), annot=True, cmap=\"YlGnBu\" ,fmt='g')\n",
        "ax.xaxis.set_label_position(\"top\")\n",
        "plt.tight_layout()\n",
        "plt.title('Confusion matrix', y=1.1)\n",
        "plt.ylabel('Actual label')\n",
        "plt.xlabel('Predicted label')"
      ],
      "metadata": {
        "colab": {
          "base_uri": "https://localhost:8080/",
          "height": 343
        },
        "id": "lUPwLamdybxk",
        "outputId": "78700361-29ac-4c69-86cd-660539d1f0e2"
      },
      "execution_count": null,
      "outputs": [
        {
          "output_type": "execute_result",
          "data": {
            "text/plain": [
              "Text(0.5, 257.44, 'Predicted label')"
            ]
          },
          "metadata": {},
          "execution_count": 109
        },
        {
          "output_type": "display_data",
          "data": {
            "text/plain": [
              "<Figure size 432x288 with 2 Axes>"
            ],
            "image/png": "[encoded data removed]"
          },
          "metadata": {
            "needs_background": "light"
          }
        }
      ]
    },
    {
      "cell_type": "code",
      "source": [
        "# use to create the ROC curve graph (Receiver Operating Characteristic Curve graph)\n",
        "# use to determine the AUC (Area Under the ROC Curve)\n",
        "# the higher the value for ROC, the more accurate the model is\n",
        "# the AUC value is 0.76 which within the acceptable range\n",
        "import sklearn.metrics as metrics\n",
        "FP, TP, threshold = metrics.roc_curve(y_test, y_pred)\n",
        "roc_auc = metrics.auc(FP, TP)\n",
        "\n",
        "import matplotlib.pyplot as plt\n",
        "plt.subplots(1, figsize = (7, 7))\n",
        "plt.title('ROC') # Receiver Operating Characteristic\n",
        "plt.plot(FP, TP, label = 'DNN_AUC = %0.2f' % roc_auc)\n",
        "plt.plot([0, 1], ls = '--')\n",
        "plt.xlabel(\"True Positive\")\n",
        "plt.ylabel(\"False Positive\")\n",
        "plt.legend()"
      ],
      "metadata": {
        "colab": {
          "base_uri": "https://localhost:8080/",
          "height": 476
        },
        "id": "0ZGlLQFmZwqA",
        "outputId": "0e549f6a-80da-40e3-b470-509f89bb76b3"
      },
      "execution_count": null,
      "outputs": [
        {
          "output_type": "execute_result",
          "data": {
            "text/plain": [
              "<matplotlib.legend.Legend at 0x7fb80357a150>"
            ]
          },
          "metadata": {},
          "execution_count": 100
        },
        {
          "output_type": "display_data",
          "data": {
            "text/plain": [
              "<Figure size 504x504 with 1 Axes>"
            ],
            "image/png": "[encoded data removed]"
          },
          "metadata": {
            "needs_background": "light"
          }
        }
      ]
    },
    {
      "cell_type": "code",
      "source": [
        "#pip install scikeras[tensorflow]\n",
        "# to install scikeras to perform gridsearchcv"
      ],
      "metadata": {
        "id": "HN4Q83vbbzaI",
        "colab": {
          "base_uri": "https://localhost:8080/"
        },
        "outputId": "040039c5-38f9-4730-e437-3abc062b136d"
      },
      "execution_count": null,
      "outputs": [
        {
          "output_type": "stream",
          "name": "stdout",
          "text": [
            "Looking in indexes: https://pypi.org/simple, https://us-python.pkg.dev/colab-wheels/public/simple/\n",
            "Requirement already satisfied: scikeras[tensorflow] in /usr/local/lib/python3.7/dist-packages (0.9.0)\n",
            "Requirement already satisfied: scikit-learn>=1.0.0 in /usr/local/lib/python3.7/dist-packages (from scikeras[tensorflow]) (1.0.2)\n",
            "Requirement already satisfied: importlib-metadata>=3 in /usr/local/lib/python3.7/dist-packages (from scikeras[tensorflow]) (4.12.0)\n",
            "Requirement already satisfied: packaging>=0.21 in /usr/local/lib/python3.7/dist-packages (from scikeras[tensorflow]) (21.3)\n",
            "Requirement already satisfied: tensorflow>=2.7.0 in /usr/local/lib/python3.7/dist-packages (from scikeras[tensorflow]) (2.8.2+zzzcolab20220719082949)\n",
            "Requirement already satisfied: typing-extensions>=3.6.4 in /usr/local/lib/python3.7/dist-packages (from importlib-metadata>=3->scikeras[tensorflow]) (4.1.1)\n",
            "Requirement already satisfied: zipp>=0.5 in /usr/local/lib/python3.7/dist-packages (from importlib-metadata>=3->scikeras[tensorflow]) (3.8.1)\n",
            "Requirement already satisfied: pyparsing!=3.0.5,>=2.0.2 in /usr/local/lib/python3.7/dist-packages (from packaging>=0.21->scikeras[tensorflow]) (3.0.9)\n",
            "Requirement already satisfied: numpy>=1.14.6 in /usr/local/lib/python3.7/dist-packages (from scikit-learn>=1.0.0->scikeras[tensorflow]) (1.21.6)\n",
            "Requirement already satisfied: threadpoolctl>=2.0.0 in /usr/local/lib/python3.7/dist-packages (from scikit-learn>=1.0.0->scikeras[tensorflow]) (3.1.0)\n",
            "Requirement already satisfied: scipy>=1.1.0 in /usr/local/lib/python3.7/dist-packages (from scikit-learn>=1.0.0->scikeras[tensorflow]) (1.7.3)\n",
            "Requirement already satisfied: joblib>=0.11 in /usr/local/lib/python3.7/dist-packages (from scikit-learn>=1.0.0->scikeras[tensorflow]) (1.1.0)\n",
            "Requirement already satisfied: termcolor>=1.1.0 in /usr/local/lib/python3.7/dist-packages (from tensorflow>=2.7.0->scikeras[tensorflow]) (1.1.0)\n",
            "Requirement already satisfied: six>=1.12.0 in /usr/local/lib/python3.7/dist-packages (from tensorflow>=2.7.0->scikeras[tensorflow]) (1.15.0)\n",
            "Requirement already satisfied: opt-einsum>=2.3.2 in /usr/local/lib/python3.7/dist-packages (from tensorflow>=2.7.0->scikeras[tensorflow]) (3.3.0)\n",
            "Requirement already satisfied: tensorflow-estimator<2.9,>=2.8 in /usr/local/lib/python3.7/dist-packages (from tensorflow>=2.7.0->scikeras[tensorflow]) (2.8.0)\n",
            "Requirement already satisfied: astunparse>=1.6.0 in /usr/local/lib/python3.7/dist-packages (from tensorflow>=2.7.0->scikeras[tensorflow]) (1.6.3)\n",
            "Requirement already satisfied: libclang>=9.0.1 in /usr/local/lib/python3.7/dist-packages (from tensorflow>=2.7.0->scikeras[tensorflow]) (14.0.6)\n",
            "Requirement already satisfied: tensorboard<2.9,>=2.8 in /usr/local/lib/python3.7/dist-packages (from tensorflow>=2.7.0->scikeras[tensorflow]) (2.8.0)\n",
            "Requirement already satisfied: tensorflow-io-gcs-filesystem>=0.23.1 in /usr/local/lib/python3.7/dist-packages (from tensorflow>=2.7.0->scikeras[tensorflow]) (0.26.0)\n",
            "Requirement already satisfied: h5py>=2.9.0 in /usr/local/lib/python3.7/dist-packages (from tensorflow>=2.7.0->scikeras[tensorflow]) (3.1.0)\n",
            "Requirement already satisfied: setuptools in /usr/local/lib/python3.7/dist-packages (from tensorflow>=2.7.0->scikeras[tensorflow]) (57.4.0)\n",
            "Requirement already satisfied: keras<2.9,>=2.8.0rc0 in /usr/local/lib/python3.7/dist-packages (from tensorflow>=2.7.0->scikeras[tensorflow]) (2.8.0)\n",
            "Requirement already satisfied: flatbuffers>=1.12 in /usr/local/lib/python3.7/dist-packages (from tensorflow>=2.7.0->scikeras[tensorflow]) (2.0)\n",
            "Requirement already satisfied: google-pasta>=0.1.1 in /usr/local/lib/python3.7/dist-packages (from tensorflow>=2.7.0->scikeras[tensorflow]) (0.2.0)\n",
            "Requirement already satisfied: keras-preprocessing>=1.1.1 in /usr/local/lib/python3.7/dist-packages (from tensorflow>=2.7.0->scikeras[tensorflow]) (1.1.2)\n",
            "Requirement already satisfied: wrapt>=1.11.0 in /usr/local/lib/python3.7/dist-packages (from tensorflow>=2.7.0->scikeras[tensorflow]) (1.14.1)\n",
            "Requirement already satisfied: protobuf<3.20,>=3.9.2 in /usr/local/lib/python3.7/dist-packages (from tensorflow>=2.7.0->scikeras[tensorflow]) (3.17.3)\n",
            "Requirement already satisfied: grpcio<2.0,>=1.24.3 in /usr/local/lib/python3.7/dist-packages (from tensorflow>=2.7.0->scikeras[tensorflow]) (1.47.0)\n",
            "Requirement already satisfied: gast>=0.2.1 in /usr/local/lib/python3.7/dist-packages (from tensorflow>=2.7.0->scikeras[tensorflow]) (0.5.3)\n",
            "Requirement already satisfied: absl-py>=0.4.0 in /usr/local/lib/python3.7/dist-packages (from tensorflow>=2.7.0->scikeras[tensorflow]) (1.2.0)\n",
            "Requirement already satisfied: wheel<1.0,>=0.23.0 in /usr/local/lib/python3.7/dist-packages (from astunparse>=1.6.0->tensorflow>=2.7.0->scikeras[tensorflow]) (0.37.1)\n",
            "Requirement already satisfied: cached-property in /usr/local/lib/python3.7/dist-packages (from h5py>=2.9.0->tensorflow>=2.7.0->scikeras[tensorflow]) (1.5.2)\n",
            "Requirement already satisfied: requests<3,>=2.21.0 in /usr/local/lib/python3.7/dist-packages (from tensorboard<2.9,>=2.8->tensorflow>=2.7.0->scikeras[tensorflow]) (2.23.0)\n",
            "Requirement already satisfied: google-auth-oauthlib<0.5,>=0.4.1 in /usr/local/lib/python3.7/dist-packages (from tensorboard<2.9,>=2.8->tensorflow>=2.7.0->scikeras[tensorflow]) (0.4.6)\n",
            "Requirement already satisfied: tensorboard-plugin-wit>=1.6.0 in /usr/local/lib/python3.7/dist-packages (from tensorboard<2.9,>=2.8->tensorflow>=2.7.0->scikeras[tensorflow]) (1.8.1)\n",
            "Requirement already satisfied: markdown>=2.6.8 in /usr/local/lib/python3.7/dist-packages (from tensorboard<2.9,>=2.8->tensorflow>=2.7.0->scikeras[tensorflow]) (3.4.1)\n",
            "Requirement already satisfied: werkzeug>=0.11.15 in /usr/local/lib/python3.7/dist-packages (from tensorboard<2.9,>=2.8->tensorflow>=2.7.0->scikeras[tensorflow]) (1.0.1)\n",
            "Requirement already satisfied: google-auth<3,>=1.6.3 in /usr/local/lib/python3.7/dist-packages (from tensorboard<2.9,>=2.8->tensorflow>=2.7.0->scikeras[tensorflow]) (1.35.0)\n",
            "Requirement already satisfied: tensorboard-data-server<0.7.0,>=0.6.0 in /usr/local/lib/python3.7/dist-packages (from tensorboard<2.9,>=2.8->tensorflow>=2.7.0->scikeras[tensorflow]) (0.6.1)\n",
            "Requirement already satisfied: cachetools<5.0,>=2.0.0 in /usr/local/lib/python3.7/dist-packages (from google-auth<3,>=1.6.3->tensorboard<2.9,>=2.8->tensorflow>=2.7.0->scikeras[tensorflow]) (4.2.4)\n",
            "Requirement already satisfied: pyasn1-modules>=0.2.1 in /usr/local/lib/python3.7/dist-packages (from google-auth<3,>=1.6.3->tensorboard<2.9,>=2.8->tensorflow>=2.7.0->scikeras[tensorflow]) (0.2.8)\n",
            "Requirement already satisfied: rsa<5,>=3.1.4 in /usr/local/lib/python3.7/dist-packages (from google-auth<3,>=1.6.3->tensorboard<2.9,>=2.8->tensorflow>=2.7.0->scikeras[tensorflow]) (4.9)\n",
            "Requirement already satisfied: requests-oauthlib>=0.7.0 in /usr/local/lib/python3.7/dist-packages (from google-auth-oauthlib<0.5,>=0.4.1->tensorboard<2.9,>=2.8->tensorflow>=2.7.0->scikeras[tensorflow]) (1.3.1)\n",
            "Requirement already satisfied: pyasn1<0.5.0,>=0.4.6 in /usr/local/lib/python3.7/dist-packages (from pyasn1-modules>=0.2.1->google-auth<3,>=1.6.3->tensorboard<2.9,>=2.8->tensorflow>=2.7.0->scikeras[tensorflow]) (0.4.8)\n",
            "Requirement already satisfied: chardet<4,>=3.0.2 in /usr/local/lib/python3.7/dist-packages (from requests<3,>=2.21.0->tensorboard<2.9,>=2.8->tensorflow>=2.7.0->scikeras[tensorflow]) (3.0.4)\n",
            "Requirement already satisfied: certifi>=2017.4.17 in /usr/local/lib/python3.7/dist-packages (from requests<3,>=2.21.0->tensorboard<2.9,>=2.8->tensorflow>=2.7.0->scikeras[tensorflow]) (2022.6.15)\n",
            "Requirement already satisfied: idna<3,>=2.5 in /usr/local/lib/python3.7/dist-packages (from requests<3,>=2.21.0->tensorboard<2.9,>=2.8->tensorflow>=2.7.0->scikeras[tensorflow]) (2.10)\n",
            "Requirement already satisfied: urllib3!=1.25.0,!=1.25.1,<1.26,>=1.21.1 in /usr/local/lib/python3.7/dist-packages (from requests<3,>=2.21.0->tensorboard<2.9,>=2.8->tensorflow>=2.7.0->scikeras[tensorflow]) (1.24.3)\n",
            "Requirement already satisfied: oauthlib>=3.0.0 in /usr/local/lib/python3.7/dist-packages (from requests-oauthlib>=0.7.0->google-auth-oauthlib<0.5,>=0.4.1->tensorboard<2.9,>=2.8->tensorflow>=2.7.0->scikeras[tensorflow]) (3.2.0)\n"
          ]
        }
      ]
    },
    {
      "cell_type": "code",
      "source": [
        "# to perform gridCVSearch for Hyperparameter tuning\n",
        "# in order to be able run, the model buidling is created using a function\n",
        "def build_model():\n",
        "\n",
        "  classifier = Sequential()\n",
        "\n",
        "  # define the IL and first HL\n",
        "  classifier.add(Dense(units = 350, kernel_initializer = \"random_normal\", activation = 'relu', input_dim = 6)) #number of neurons for the hidden layer\n",
        "  classifier.add(Dropout(0.2)) # preventing overfitting\n",
        "\n",
        "  # define another HL with 250 unit and Dropout of 0.2\n",
        "  classifier.add(Dense(units = 250,  kernel_initializer = \"random_normal\", activation = 'relu'))\n",
        "  classifier.add(Dropout(0.2)) # preventing overfitting\n",
        "\n",
        "  # OL\n",
        "  classifier.add(Dense(units = 1,  kernel_initializer = \"random_normal\", activation = 'sigmoid')) # TV is binary\n",
        "  classifier.add(Dropout(0.2)) # preventing overfitting\n",
        "\n",
        "  # compile\n",
        "  classifier.compile(optimizer= \"adam\", loss = \"binary_crossentropy\", metrics = [\"accuracy\"])\n",
        "\n",
        "  return classifier\n",
        "\n",
        "# importing the libraries that is needed\n",
        "from scikeras.wrappers import KerasClassifier\n",
        "from sklearn.model_selection import GridSearchCV\n",
        "\n",
        "# saved the prebuild DNN into model variable\n",
        "model = KerasClassifier(model = build_model, verbose = 2)\n",
        "\n",
        "# the parameter that is going to be tuning include batch_size, epochs, and shuffle\n",
        "batch_size = [16, 32, 64, 128]\n",
        "epochs = [50, 100, 150]\n",
        "shuffle = [True, False]\n",
        "\n",
        "# add all the value into the dictionary\n",
        "param_grid = dict()\n",
        "param_grid['batch_size'] = batch_size\n",
        "param_grid['epochs'] = epochs\n",
        "param_grid['shuffle'] = shuffle\n",
        "\n",
        "# perform GridSearch adn build the model accordingly to the best parameter\n",
        "DNN_grid = GridSearchCV(model, param_grid, cv = 5, n_jobs = -1, verbose = 1)\n",
        "\n",
        "# perform data fitting where the model will be trained using the train data under the best hyperparameter\n",
        "DNN_grid = DNN_grid.fit(x_train, y_train)\n",
        "\n",
        "print(DNN_grid.best_params_)\n",
        "print(DNN_grid.best_score_)"
      ],
      "metadata": {
        "id": "AbXi4ABxbnXu"
      },
      "execution_count": null,
      "outputs": []
    },
    {
      "cell_type": "code",
      "source": [
        "# Perform Prediction using x_text for the new tuned model, saving the prediction value into y_pred_best\n",
        "y_pred_best = DNN_grid.best_estimator_.predict(x_test)\n",
        "y_pred_best = (y_pred_best > 0.5)\n",
        "y_pred_best"
      ],
      "metadata": {
        "colab": {
          "base_uri": "https://localhost:8080/"
        },
        "id": "BGzzhjEOd02g",
        "outputId": "082fec70-3313-4f6f-8adb-121952cbbd1c"
      },
      "execution_count": null,
      "outputs": [
        {
          "output_type": "execute_result",
          "data": {
            "text/plain": [
              "array([ True, False, False, ..., False,  True, False])"
            ]
          },
          "metadata": {},
          "execution_count": 115
        }
      ]
    },
    {
      "cell_type": "code",
      "source": [
        "# Evaluate the Tuned Model by Accuracy, Precision, Recall and F1 Score\n",
        "#\n",
        "# The accuracy of the model is 0.748 which is within the acceptable range but it has dropped compared to the original model\n",
        "# Same go towards the other score such as\n",
        "# precison -> 0.783 (increase)\n",
        "# recall -> 0.678 (decrease)\n",
        "# F1 score -> 0.72 (decrease)\n",
        "from sklearn.metrics import accuracy_score, precision_score, recall_score, f1_score, classification_report\n",
        "print('Accuracy of MLP Classifier: ', accuracy_score(y_test, y_pred_best))\n",
        "print('Precision of MLP Classifier: ', precision_score(y_test, y_pred_best, average = 'binary'))\n",
        "print('Recall of MLP Classifier: ', recall_score(y_test, y_pred_best, average = 'binary'))\n",
        "print('F1 Score of MLP Classifier: ', f1_score(y_test, y_pred_best, average = 'binary'))"
      ],
      "metadata": {
        "colab": {
          "base_uri": "https://localhost:8080/"
        },
        "id": "dK6y1ZvqiZ09",
        "outputId": "cb69c603-3772-401a-f734-0883f331282e"
      },
      "execution_count": null,
      "outputs": [
        {
          "output_type": "stream",
          "name": "stdout",
          "text": [
            "Accuracy of MLP Classifier:  0.7488419969119917\n",
            "Precision of MLP Classifier:  0.7833935018050542\n",
            "Recall of MLP Classifier:  0.6788321167883211\n",
            "F1 Score of MLP Classifier:  0.7273743016759776\n"
          ]
        }
      ]
    },
    {
      "cell_type": "code",
      "source": [
        "# print out the similar result on accuracy, precision, recall and F1 score using the classification report for tuned model\n",
        "print(classification_report(y_test, y_pred_best))"
      ],
      "metadata": {
        "id": "7XGVV5Wo3skX",
        "outputId": "d980e984-cba9-4f78-aa46-7e9dc4e8e088",
        "colab": {
          "base_uri": "https://localhost:8080/"
        }
      },
      "execution_count": null,
      "outputs": [
        {
          "output_type": "stream",
          "name": "stdout",
          "text": [
            "              precision    recall  f1-score   support\n",
            "\n",
            "           0       0.72      0.82      0.77       984\n",
            "           1       0.78      0.68      0.73       959\n",
            "\n",
            "    accuracy                           0.75      1943\n",
            "   macro avg       0.75      0.75      0.75      1943\n",
            "weighted avg       0.75      0.75      0.75      1943\n",
            "\n"
          ]
        }
      ]
    },
    {
      "cell_type": "code",
      "source": [
        "# Find out the value of TP, TF, FP, FF\n",
        "# where the value will then show in the heatmap in the following code\n",
        "newcmap = confusion_matrix (y_test, y_pred_best)\n",
        "newcmap"
      ],
      "metadata": {
        "colab": {
          "base_uri": "https://localhost:8080/"
        },
        "id": "M9-ah7M0ypUB",
        "outputId": "aeebc30c-f155-406e-eaa0-024632303d24"
      },
      "execution_count": null,
      "outputs": [
        {
          "output_type": "execute_result",
          "data": {
            "text/plain": [
              "array([[804, 180],\n",
              "       [308, 651]])"
            ]
          },
          "metadata": {},
          "execution_count": 110
        }
      ]
    },
    {
      "cell_type": "code",
      "source": [
        "# use to plot a heatmpa graph to show the value of TP, TF, FP, FF\n",
        "fig, ax = plt.subplots()\n",
        "\n",
        "sns.heatmap(pd.DataFrame(newcmap), annot=True, cmap=\"YlGnBu\" ,fmt='g')\n",
        "ax.xaxis.set_label_position(\"top\")\n",
        "plt.tight_layout()\n",
        "plt.title('Confusion matrix', y=1.1)\n",
        "plt.ylabel('Actual label')\n",
        "plt.xlabel('Predicted label')"
      ],
      "metadata": {
        "colab": {
          "base_uri": "https://localhost:8080/",
          "height": 341
        },
        "id": "DrUCTFktymVa",
        "outputId": "087e2422-3094-4f96-8f2f-908e0a66744c"
      },
      "execution_count": null,
      "outputs": [
        {
          "output_type": "execute_result",
          "data": {
            "text/plain": [
              "Text(0.5, 257.44, 'Predicted label')"
            ]
          },
          "metadata": {},
          "execution_count": 111
        },
        {
          "output_type": "display_data",
          "data": {
            "text/plain": [
              "<Figure size 432x288 with 2 Axes>"
            ],
            "image/png": "[encoded data removed]"
          },
          "metadata": {
            "needs_background": "light"
          }
        }
      ]
    },
    {
      "cell_type": "code",
      "source": [
        "# use to create the ROC curve graph (Receiver Operating Characteristic Curve graph)\n",
        "# use to determine the AUC (Area Under the ROC Curve)\n",
        "# the higher the value for ROC, the more accurate the model is\n",
        "# the AUC value is 0.75 which has been dropped compare to the initial model (0.76)\n",
        "# but it is still acceptable as it is within the acceptable range.\n",
        "import sklearn.metrics as metrics\n",
        "FP, TP, threshold = metrics.roc_curve(y_test, y_pred_best)\n",
        "roc_auc = metrics.auc(FP, TP)\n",
        "\n",
        "import matplotlib.pyplot as plt\n",
        "plt.subplots(1, figsize = (7, 7))\n",
        "plt.title('ROC') # Receiver Operating Characteristic\n",
        "plt.plot(FP, TP, label = 'DNN_AUC = %0.2f' % roc_auc)\n",
        "plt.plot([0, 1], ls = '--')\n",
        "plt.xlabel(\"True Positive\")\n",
        "plt.ylabel(\"False Positive\")\n",
        "plt.legend()"
      ],
      "metadata": {
        "colab": {
          "base_uri": "https://localhost:8080/",
          "height": 476
        },
        "id": "lpy2WXLep6P3",
        "outputId": "d857cfac-0663-454c-9596-06c9cf747032"
      },
      "execution_count": null,
      "outputs": [
        {
          "output_type": "execute_result",
          "data": {
            "text/plain": [
              "<matplotlib.legend.Legend at 0x7fb86502b9d0>"
            ]
          },
          "metadata": {},
          "execution_count": 105
        },
        {
          "output_type": "display_data",
          "data": {
            "text/plain": [
              "<Figure size 504x504 with 1 Axes>"
            ],
            "image/png": "[encoded data removed]"
          },
          "metadata": {
            "needs_background": "light"
          }
        }
      ]
    },
    {
      "cell_type": "markdown",
      "source": [
        "**Third Model**\n",
        "\n",
        "\n",
        "RNN"
      ],
      "metadata": {
        "id": "kRqgEOcJBrIa"
      }
    },
    {
      "cell_type": "markdown",
      "source": [
        "**Second Model** \n",
        "\n",
        "Deep Neuron Network Model"
      ],
      "metadata": {
        "id": "YRpfRO7_BwoZ"
      }
    },
    {
      "cell_type": "code",
      "source": [
        "# STEP 11 DNN Model\n",
        "# Buiding the basic layout of the DNN model\n",
        "#\n",
        "from keras.models import Sequential\n",
        "from keras.layers import Dense, Activation, Dropout\n",
        "from keras.callbacks import ModelCheckpoint\n",
        "\n",
        "classifier = Sequential()\n",
        "\n",
        "# define the IL and first HL\n",
        "classifier.add(Dense(units = 350, kernel_initializer = \"random_normal\", activation = 'relu', input_dim = 6)) #number of neurons for the hidden layer\n",
        "classifier.add(Dropout(0.2)) # preventing overfitting\n",
        "\n",
        "# define another HL with 250 unit and Dropout of 0.2\n",
        "classifier.add(Dense(units = 250,  kernel_initializer = \"random_normal\", activation = 'relu'))\n",
        "classifier.add(Dropout(0.2)) # preventing overfitting\n",
        "\n",
        "# OL\n",
        "classifier.add(Dense(units = 1,  kernel_initializer = \"random_normal\", activation = 'sigmoid')) # TV is binary\n",
        "classifier.add(Dropout(0.2)) # preventing overfitting\n",
        "\n",
        "# compile\n",
        "classifier.compile(optimizer= \"adam\", loss = \"binary_crossentropy\", metrics = [\"accuracy\"])\n",
        "classifier.summary()\n",
        "\n",
        "# model checkpoint\n",
        "file = \"Best_model.hdf5\"\n",
        "checkpoint = ModelCheckpoint(file, monitor = \"val_accuracy\", verbose = 1, save_best_only = True, mode = \"max\")\n",
        "callbacks_list = [checkpoint]"
      ],
      "metadata": {
        "colab": {
          "base_uri": "https://localhost:8080/"
        },
        "outputId": "26bbe629-634e-4518-9a39-13b69a5b6392",
        "id": "OAoAKru5BwoZ"
      },
      "execution_count": null,
      "outputs": [
        {
          "output_type": "stream",
          "name": "stdout",
          "text": [
            "Model: \"sequential_2\"\n",
            "_________________________________________________________________\n",
            " Layer (type)                Output Shape              Param #   \n",
            "=================================================================\n",
            " dense_6 (Dense)             (None, 350)               2450      \n",
            "                                                                 \n",
            " dropout_6 (Dropout)         (None, 350)               0         \n",
            "                                                                 \n",
            " dense_7 (Dense)             (None, 250)               87750     \n",
            "                                                                 \n",
            " dropout_7 (Dropout)         (None, 250)               0         \n",
            "                                                                 \n",
            " dense_8 (Dense)             (None, 1)                 251       \n",
            "                                                                 \n",
            " dropout_8 (Dropout)         (None, 1)                 0         \n",
            "                                                                 \n",
            "=================================================================\n",
            "Total params: 90,451\n",
            "Trainable params: 90,451\n",
            "Non-trainable params: 0\n",
            "_________________________________________________________________\n"
          ]
        }
      ]
    },
    {
      "cell_type": "code",
      "source": [
        "# Fitting the data into the DNN model\n",
        "history = classifier.fit(x_train,\n",
        "                         y_train, \n",
        "                         validation_data = (x_test, y_test), \n",
        "                         batch_size = 32, \n",
        "                         epochs = 100, \n",
        "                         shuffle = True, \n",
        "                         verbose = 1, \n",
        "                         callbacks = callbacks_list)"
      ],
      "metadata": {
        "colab": {
          "base_uri": "https://localhost:8080/"
        },
        "outputId": "7bcb5c08-27f0-40a2-db04-094afb4b10a1",
        "id": "RpUcORlYBwoZ"
      },
      "execution_count": null,
      "outputs": [
        {
          "output_type": "stream",
          "name": "stdout",
          "text": [
            "Epoch 1/100\n",
            "236/243 [============================>.] - ETA: 0s - loss: 2.0200 - accuracy: 0.6311\n",
            "Epoch 1: val_accuracy improved from -inf to 0.71436, saving model to Best_model.hdf5\n",
            "243/243 [==============================] - 2s 6ms/step - loss: 2.0205 - accuracy: 0.6329 - val_loss: 0.5562 - val_accuracy: 0.7144\n",
            "Epoch 2/100\n",
            "234/243 [===========================>..] - ETA: 0s - loss: 2.0295 - accuracy: 0.6863\n",
            "Epoch 2: val_accuracy did not improve from 0.71436\n",
            "243/243 [==============================] - 1s 5ms/step - loss: 2.0454 - accuracy: 0.6855 - val_loss: 0.5582 - val_accuracy: 0.7128\n",
            "Epoch 3/100\n",
            "242/243 [============================>.] - ETA: 0s - loss: 1.9459 - accuracy: 0.6946\n",
            "Epoch 3: val_accuracy did not improve from 0.71436\n",
            "243/243 [==============================] - 1s 5ms/step - loss: 1.9470 - accuracy: 0.6940 - val_loss: 0.5808 - val_accuracy: 0.6799\n",
            "Epoch 4/100\n",
            "239/243 [============================>.] - ETA: 0s - loss: 2.0015 - accuracy: 0.6918\n",
            "Epoch 4: val_accuracy improved from 0.71436 to 0.72362, saving model to Best_model.hdf5\n",
            "243/243 [==============================] - 1s 5ms/step - loss: 2.0041 - accuracy: 0.6922 - val_loss: 0.5542 - val_accuracy: 0.7236\n",
            "Epoch 5/100\n",
            "241/243 [============================>.] - ETA: 0s - loss: 1.9905 - accuracy: 0.6909\n",
            "Epoch 5: val_accuracy did not improve from 0.72362\n",
            "243/243 [==============================] - 1s 5ms/step - loss: 1.9943 - accuracy: 0.6910 - val_loss: 0.5467 - val_accuracy: 0.7210\n",
            "Epoch 6/100\n",
            "234/243 [===========================>..] - ETA: 0s - loss: 1.8402 - accuracy: 0.7027\n",
            "Epoch 6: val_accuracy did not improve from 0.72362\n",
            "243/243 [==============================] - 1s 5ms/step - loss: 1.8576 - accuracy: 0.7010 - val_loss: 0.5749 - val_accuracy: 0.7072\n",
            "Epoch 7/100\n",
            "237/243 [============================>.] - ETA: 0s - loss: 1.8927 - accuracy: 0.6975\n",
            "Epoch 7: val_accuracy improved from 0.72362 to 0.72980, saving model to Best_model.hdf5\n",
            "243/243 [==============================] - 1s 5ms/step - loss: 1.8956 - accuracy: 0.6970 - val_loss: 0.5362 - val_accuracy: 0.7298\n",
            "Epoch 8/100\n",
            "242/243 [============================>.] - ETA: 0s - loss: 2.0202 - accuracy: 0.6924\n",
            "Epoch 8: val_accuracy improved from 0.72980 to 0.73186, saving model to Best_model.hdf5\n",
            "243/243 [==============================] - 1s 5ms/step - loss: 2.0184 - accuracy: 0.6928 - val_loss: 0.5330 - val_accuracy: 0.7319\n",
            "Epoch 9/100\n",
            "234/243 [===========================>..] - ETA: 0s - loss: 2.0118 - accuracy: 0.6934\n",
            "Epoch 9: val_accuracy did not improve from 0.73186\n",
            "243/243 [==============================] - 1s 5ms/step - loss: 2.0075 - accuracy: 0.6937 - val_loss: 0.5329 - val_accuracy: 0.7313\n",
            "Epoch 10/100\n",
            "238/243 [============================>.] - ETA: 0s - loss: 1.8920 - accuracy: 0.6991\n",
            "Epoch 10: val_accuracy improved from 0.73186 to 0.73803, saving model to Best_model.hdf5\n",
            "243/243 [==============================] - 1s 5ms/step - loss: 1.8891 - accuracy: 0.7000 - val_loss: 0.5298 - val_accuracy: 0.7380\n",
            "Epoch 11/100\n",
            "243/243 [==============================] - ETA: 0s - loss: 1.8722 - accuracy: 0.7082\n",
            "Epoch 11: val_accuracy did not improve from 0.73803\n",
            "243/243 [==============================] - 1s 5ms/step - loss: 1.8722 - accuracy: 0.7082 - val_loss: 0.5396 - val_accuracy: 0.7339\n",
            "Epoch 12/100\n",
            "234/243 [===========================>..] - ETA: 0s - loss: 1.9787 - accuracy: 0.6947\n",
            "Epoch 12: val_accuracy did not improve from 0.73803\n",
            "243/243 [==============================] - 1s 5ms/step - loss: 1.9672 - accuracy: 0.6969 - val_loss: 0.5299 - val_accuracy: 0.7370\n",
            "Epoch 13/100\n",
            "236/243 [============================>.] - ETA: 0s - loss: 1.9699 - accuracy: 0.6941\n",
            "Epoch 13: val_accuracy improved from 0.73803 to 0.74678, saving model to Best_model.hdf5\n",
            "243/243 [==============================] - 1s 5ms/step - loss: 1.9697 - accuracy: 0.6942 - val_loss: 0.5145 - val_accuracy: 0.7468\n",
            "Epoch 14/100\n",
            "233/243 [===========================>..] - ETA: 0s - loss: 1.9883 - accuracy: 0.6921\n",
            "Epoch 14: val_accuracy did not improve from 0.74678\n",
            "243/243 [==============================] - 1s 5ms/step - loss: 2.0094 - accuracy: 0.6894 - val_loss: 0.5320 - val_accuracy: 0.7401\n",
            "Epoch 15/100\n",
            "235/243 [============================>.] - ETA: 0s - loss: 1.9362 - accuracy: 0.6995\n",
            "Epoch 15: val_accuracy did not improve from 0.74678\n",
            "243/243 [==============================] - 1s 5ms/step - loss: 1.9467 - accuracy: 0.6989 - val_loss: 0.5552 - val_accuracy: 0.7149\n",
            "Epoch 16/100\n",
            "241/243 [============================>.] - ETA: 0s - loss: 1.9524 - accuracy: 0.6949\n",
            "Epoch 16: val_accuracy did not improve from 0.74678\n",
            "243/243 [==============================] - 1s 5ms/step - loss: 1.9530 - accuracy: 0.6949 - val_loss: 0.5562 - val_accuracy: 0.7092\n",
            "Epoch 17/100\n",
            "235/243 [============================>.] - ETA: 0s - loss: 1.9981 - accuracy: 0.7036\n",
            "Epoch 17: val_accuracy did not improve from 0.74678\n",
            "243/243 [==============================] - 1s 5ms/step - loss: 1.9810 - accuracy: 0.7045 - val_loss: 0.5334 - val_accuracy: 0.7416\n",
            "Epoch 18/100\n",
            "235/243 [============================>.] - ETA: 0s - loss: 2.0090 - accuracy: 0.7076\n",
            "Epoch 18: val_accuracy did not improve from 0.74678\n",
            "243/243 [==============================] - 1s 5ms/step - loss: 2.0160 - accuracy: 0.7067 - val_loss: 0.5342 - val_accuracy: 0.7401\n",
            "Epoch 19/100\n",
            "236/243 [============================>.] - ETA: 0s - loss: 1.8873 - accuracy: 0.7051\n",
            "Epoch 19: val_accuracy did not improve from 0.74678\n",
            "243/243 [==============================] - 1s 5ms/step - loss: 1.9063 - accuracy: 0.7043 - val_loss: 0.5672 - val_accuracy: 0.7020\n",
            "Epoch 20/100\n",
            "239/243 [============================>.] - ETA: 0s - loss: 1.9217 - accuracy: 0.7087\n",
            "Epoch 20: val_accuracy did not improve from 0.74678\n",
            "243/243 [==============================] - 1s 5ms/step - loss: 1.9214 - accuracy: 0.7091 - val_loss: 0.5386 - val_accuracy: 0.7334\n",
            "Epoch 21/100\n",
            "233/243 [===========================>..] - ETA: 0s - loss: 1.8431 - accuracy: 0.7053\n",
            "Epoch 21: val_accuracy did not improve from 0.74678\n",
            "243/243 [==============================] - 1s 5ms/step - loss: 1.8532 - accuracy: 0.7059 - val_loss: 0.5412 - val_accuracy: 0.7128\n",
            "Epoch 22/100\n",
            "235/243 [============================>.] - ETA: 0s - loss: 1.9710 - accuracy: 0.7009\n",
            "Epoch 22: val_accuracy improved from 0.74678 to 0.75347, saving model to Best_model.hdf5\n",
            "243/243 [==============================] - 1s 5ms/step - loss: 1.9826 - accuracy: 0.7006 - val_loss: 0.5177 - val_accuracy: 0.7535\n",
            "Epoch 23/100\n",
            "234/243 [===========================>..] - ETA: 0s - loss: 1.9388 - accuracy: 0.7063\n",
            "Epoch 23: val_accuracy did not improve from 0.75347\n",
            "243/243 [==============================] - 1s 5ms/step - loss: 1.9357 - accuracy: 0.7059 - val_loss: 0.5584 - val_accuracy: 0.7092\n",
            "Epoch 24/100\n",
            "242/243 [============================>.] - ETA: 0s - loss: 1.9943 - accuracy: 0.7021\n",
            "Epoch 24: val_accuracy did not improve from 0.75347\n",
            "243/243 [==============================] - 1s 5ms/step - loss: 1.9987 - accuracy: 0.7020 - val_loss: 0.5138 - val_accuracy: 0.7463\n",
            "Epoch 25/100\n",
            "236/243 [============================>.] - ETA: 0s - loss: 1.9432 - accuracy: 0.7068\n",
            "Epoch 25: val_accuracy did not improve from 0.75347\n",
            "243/243 [==============================] - 1s 5ms/step - loss: 1.9402 - accuracy: 0.7067 - val_loss: 0.5480 - val_accuracy: 0.7210\n",
            "Epoch 26/100\n",
            "235/243 [============================>.] - ETA: 0s - loss: 1.9525 - accuracy: 0.7036\n",
            "Epoch 26: val_accuracy did not improve from 0.75347\n",
            "243/243 [==============================] - 1s 5ms/step - loss: 1.9622 - accuracy: 0.7033 - val_loss: 0.5322 - val_accuracy: 0.7411\n",
            "Epoch 27/100\n",
            "232/243 [===========================>..] - ETA: 0s - loss: 1.8662 - accuracy: 0.7062\n",
            "Epoch 27: val_accuracy did not improve from 0.75347\n",
            "243/243 [==============================] - 1s 5ms/step - loss: 1.8731 - accuracy: 0.7059 - val_loss: 0.5278 - val_accuracy: 0.7380\n",
            "Epoch 28/100\n",
            "241/243 [============================>.] - ETA: 0s - loss: 1.9354 - accuracy: 0.7058\n",
            "Epoch 28: val_accuracy did not improve from 0.75347\n",
            "243/243 [==============================] - 1s 5ms/step - loss: 1.9325 - accuracy: 0.7056 - val_loss: 0.5399 - val_accuracy: 0.7313\n",
            "Epoch 29/100\n",
            "239/243 [============================>.] - ETA: 0s - loss: 1.9908 - accuracy: 0.7049\n",
            "Epoch 29: val_accuracy did not improve from 0.75347\n",
            "243/243 [==============================] - 1s 5ms/step - loss: 1.9838 - accuracy: 0.7051 - val_loss: 0.5227 - val_accuracy: 0.7344\n",
            "Epoch 30/100\n",
            "240/243 [============================>.] - ETA: 0s - loss: 1.9273 - accuracy: 0.7048\n",
            "Epoch 30: val_accuracy did not improve from 0.75347\n",
            "243/243 [==============================] - 2s 8ms/step - loss: 1.9331 - accuracy: 0.7047 - val_loss: 0.5152 - val_accuracy: 0.7473\n",
            "Epoch 31/100\n",
            "243/243 [==============================] - ETA: 0s - loss: 1.8713 - accuracy: 0.7083\n",
            "Epoch 31: val_accuracy did not improve from 0.75347\n",
            "243/243 [==============================] - 2s 10ms/step - loss: 1.8713 - accuracy: 0.7083 - val_loss: 0.5149 - val_accuracy: 0.7463\n",
            "Epoch 32/100\n",
            "238/243 [============================>.] - ETA: 0s - loss: 1.9109 - accuracy: 0.7102\n",
            "Epoch 32: val_accuracy did not improve from 0.75347\n",
            "243/243 [==============================] - 2s 8ms/step - loss: 1.9099 - accuracy: 0.7108 - val_loss: 0.5222 - val_accuracy: 0.7422\n",
            "Epoch 33/100\n",
            "232/243 [===========================>..] - ETA: 0s - loss: 1.8481 - accuracy: 0.7117\n",
            "Epoch 33: val_accuracy did not improve from 0.75347\n",
            "243/243 [==============================] - 1s 5ms/step - loss: 1.8412 - accuracy: 0.7117 - val_loss: 0.5057 - val_accuracy: 0.7473\n",
            "Epoch 34/100\n",
            "241/243 [============================>.] - ETA: 0s - loss: 1.9910 - accuracy: 0.7024\n",
            "Epoch 34: val_accuracy did not improve from 0.75347\n",
            "243/243 [==============================] - 1s 5ms/step - loss: 1.9895 - accuracy: 0.7024 - val_loss: 0.5207 - val_accuracy: 0.7473\n",
            "Epoch 35/100\n",
            "232/243 [===========================>..] - ETA: 0s - loss: 1.9743 - accuracy: 0.7046\n",
            "Epoch 35: val_accuracy did not improve from 0.75347\n",
            "243/243 [==============================] - 1s 5ms/step - loss: 1.9738 - accuracy: 0.7054 - val_loss: 0.5351 - val_accuracy: 0.7303\n",
            "Epoch 36/100\n",
            "232/243 [===========================>..] - ETA: 0s - loss: 1.8714 - accuracy: 0.7047\n",
            "Epoch 36: val_accuracy did not improve from 0.75347\n",
            "243/243 [==============================] - 1s 5ms/step - loss: 1.8747 - accuracy: 0.7054 - val_loss: 0.5107 - val_accuracy: 0.7416\n",
            "Epoch 37/100\n",
            "243/243 [==============================] - ETA: 0s - loss: 1.9047 - accuracy: 0.7105\n",
            "Epoch 37: val_accuracy did not improve from 0.75347\n",
            "243/243 [==============================] - 1s 5ms/step - loss: 1.9047 - accuracy: 0.7105 - val_loss: 0.5182 - val_accuracy: 0.7494\n",
            "Epoch 38/100\n",
            "241/243 [============================>.] - ETA: 0s - loss: 1.9115 - accuracy: 0.7063\n",
            "Epoch 38: val_accuracy did not improve from 0.75347\n",
            "243/243 [==============================] - 1s 5ms/step - loss: 1.9088 - accuracy: 0.7064 - val_loss: 0.5191 - val_accuracy: 0.7432\n",
            "Epoch 39/100\n",
            "243/243 [==============================] - ETA: 0s - loss: 1.9557 - accuracy: 0.7110\n",
            "Epoch 39: val_accuracy improved from 0.75347 to 0.75450, saving model to Best_model.hdf5\n",
            "243/243 [==============================] - 1s 5ms/step - loss: 1.9557 - accuracy: 0.7110 - val_loss: 0.5138 - val_accuracy: 0.7545\n",
            "Epoch 40/100\n",
            "235/243 [============================>.] - ETA: 0s - loss: 1.9143 - accuracy: 0.7121\n",
            "Epoch 40: val_accuracy did not improve from 0.75450\n",
            "243/243 [==============================] - 1s 5ms/step - loss: 1.9197 - accuracy: 0.7119 - val_loss: 0.5171 - val_accuracy: 0.7422\n",
            "Epoch 41/100\n",
            "236/243 [============================>.] - ETA: 0s - loss: 1.9069 - accuracy: 0.7092\n",
            "Epoch 41: val_accuracy did not improve from 0.75450\n",
            "243/243 [==============================] - 1s 5ms/step - loss: 1.9019 - accuracy: 0.7097 - val_loss: 0.5139 - val_accuracy: 0.7488\n",
            "Epoch 42/100\n",
            "235/243 [============================>.] - ETA: 0s - loss: 1.8687 - accuracy: 0.7118\n",
            "Epoch 42: val_accuracy did not improve from 0.75450\n",
            "243/243 [==============================] - 1s 5ms/step - loss: 1.8661 - accuracy: 0.7128 - val_loss: 0.5148 - val_accuracy: 0.7447\n",
            "Epoch 43/100\n",
            "239/243 [============================>.] - ETA: 0s - loss: 1.9250 - accuracy: 0.7087\n",
            "Epoch 43: val_accuracy improved from 0.75450 to 0.75502, saving model to Best_model.hdf5\n",
            "243/243 [==============================] - 1s 5ms/step - loss: 1.9288 - accuracy: 0.7086 - val_loss: 0.5022 - val_accuracy: 0.7550\n",
            "Epoch 44/100\n",
            "239/243 [============================>.] - ETA: 0s - loss: 1.9709 - accuracy: 0.7058\n",
            "Epoch 44: val_accuracy did not improve from 0.75502\n",
            "243/243 [==============================] - 1s 5ms/step - loss: 1.9692 - accuracy: 0.7060 - val_loss: 0.5156 - val_accuracy: 0.7375\n",
            "Epoch 45/100\n",
            "242/243 [============================>.] - ETA: 0s - loss: 1.8997 - accuracy: 0.7126\n",
            "Epoch 45: val_accuracy did not improve from 0.75502\n",
            "243/243 [==============================] - 1s 5ms/step - loss: 1.9017 - accuracy: 0.7119 - val_loss: 0.5267 - val_accuracy: 0.7488\n",
            "Epoch 46/100\n",
            "234/243 [===========================>..] - ETA: 0s - loss: 2.0491 - accuracy: 0.7035\n",
            "Epoch 46: val_accuracy did not improve from 0.75502\n",
            "243/243 [==============================] - 1s 5ms/step - loss: 2.0327 - accuracy: 0.7054 - val_loss: 0.5346 - val_accuracy: 0.7324\n",
            "Epoch 47/100\n",
            "238/243 [============================>.] - ETA: 0s - loss: 1.9345 - accuracy: 0.7051\n",
            "Epoch 47: val_accuracy did not improve from 0.75502\n",
            "243/243 [==============================] - 1s 5ms/step - loss: 1.9377 - accuracy: 0.7045 - val_loss: 0.5155 - val_accuracy: 0.7406\n",
            "Epoch 48/100\n",
            "232/243 [===========================>..] - ETA: 0s - loss: 1.8940 - accuracy: 0.7112\n",
            "Epoch 48: val_accuracy did not improve from 0.75502\n",
            "243/243 [==============================] - 1s 5ms/step - loss: 1.8931 - accuracy: 0.7110 - val_loss: 0.5095 - val_accuracy: 0.7483\n",
            "Epoch 49/100\n",
            "234/243 [===========================>..] - ETA: 0s - loss: 1.9451 - accuracy: 0.7094\n",
            "Epoch 49: val_accuracy did not improve from 0.75502\n",
            "243/243 [==============================] - 1s 5ms/step - loss: 1.9505 - accuracy: 0.7083 - val_loss: 0.5243 - val_accuracy: 0.7396\n",
            "Epoch 50/100\n",
            "232/243 [===========================>..] - ETA: 0s - loss: 1.9964 - accuracy: 0.7007\n",
            "Epoch 50: val_accuracy did not improve from 0.75502\n",
            "243/243 [==============================] - 1s 5ms/step - loss: 1.9867 - accuracy: 0.7027 - val_loss: 0.5092 - val_accuracy: 0.7509\n",
            "Epoch 51/100\n",
            "243/243 [==============================] - ETA: 0s - loss: 2.0527 - accuracy: 0.7083\n",
            "Epoch 51: val_accuracy did not improve from 0.75502\n",
            "243/243 [==============================] - 1s 5ms/step - loss: 2.0527 - accuracy: 0.7083 - val_loss: 0.5168 - val_accuracy: 0.7422\n",
            "Epoch 52/100\n",
            "242/243 [============================>.] - ETA: 0s - loss: 1.9506 - accuracy: 0.7078\n",
            "Epoch 52: val_accuracy did not improve from 0.75502\n",
            "243/243 [==============================] - 1s 5ms/step - loss: 1.9512 - accuracy: 0.7079 - val_loss: 0.5054 - val_accuracy: 0.7524\n",
            "Epoch 53/100\n",
            "243/243 [==============================] - ETA: 0s - loss: 1.9191 - accuracy: 0.7085\n",
            "Epoch 53: val_accuracy did not improve from 0.75502\n",
            "243/243 [==============================] - 1s 5ms/step - loss: 1.9191 - accuracy: 0.7085 - val_loss: 0.5164 - val_accuracy: 0.7478\n",
            "Epoch 54/100\n",
            "239/243 [============================>.] - ETA: 0s - loss: 1.9176 - accuracy: 0.7131\n",
            "Epoch 54: val_accuracy did not improve from 0.75502\n",
            "243/243 [==============================] - 2s 9ms/step - loss: 1.9241 - accuracy: 0.7117 - val_loss: 0.5213 - val_accuracy: 0.7344\n",
            "Epoch 55/100\n",
            "235/243 [============================>.] - ETA: 0s - loss: 1.9385 - accuracy: 0.7113\n",
            "Epoch 55: val_accuracy did not improve from 0.75502\n",
            "243/243 [==============================] - 1s 5ms/step - loss: 1.9427 - accuracy: 0.7108 - val_loss: 0.5343 - val_accuracy: 0.7288\n",
            "Epoch 56/100\n",
            "233/243 [===========================>..] - ETA: 0s - loss: 1.9006 - accuracy: 0.7133\n",
            "Epoch 56: val_accuracy did not improve from 0.75502\n",
            "243/243 [==============================] - 1s 5ms/step - loss: 1.8986 - accuracy: 0.7130 - val_loss: 0.5120 - val_accuracy: 0.7468\n",
            "Epoch 57/100\n",
            "234/243 [===========================>..] - ETA: 0s - loss: 1.9315 - accuracy: 0.7143\n",
            "Epoch 57: val_accuracy did not improve from 0.75502\n",
            "243/243 [==============================] - 1s 6ms/step - loss: 1.9398 - accuracy: 0.7121 - val_loss: 0.5148 - val_accuracy: 0.7447\n",
            "Epoch 58/100\n",
            "242/243 [============================>.] - ETA: 0s - loss: 1.8315 - accuracy: 0.7162\n",
            "Epoch 58: val_accuracy did not improve from 0.75502\n",
            "243/243 [==============================] - 1s 5ms/step - loss: 1.8289 - accuracy: 0.7162 - val_loss: 0.5017 - val_accuracy: 0.7545\n",
            "Epoch 59/100\n",
            "236/243 [============================>.] - ETA: 0s - loss: 1.9683 - accuracy: 0.7064\n",
            "Epoch 59: val_accuracy improved from 0.75502 to 0.75553, saving model to Best_model.hdf5\n",
            "243/243 [==============================] - 1s 5ms/step - loss: 1.9738 - accuracy: 0.7064 - val_loss: 0.5010 - val_accuracy: 0.7555\n",
            "Epoch 60/100\n",
            "240/243 [============================>.] - ETA: 0s - loss: 1.8260 - accuracy: 0.7178\n",
            "Epoch 60: val_accuracy did not improve from 0.75553\n",
            "243/243 [==============================] - 1s 5ms/step - loss: 1.8232 - accuracy: 0.7180 - val_loss: 0.5328 - val_accuracy: 0.7401\n",
            "Epoch 61/100\n",
            "239/243 [============================>.] - ETA: 0s - loss: 1.9616 - accuracy: 0.7028\n",
            "Epoch 61: val_accuracy did not improve from 0.75553\n",
            "243/243 [==============================] - 1s 5ms/step - loss: 1.9523 - accuracy: 0.7038 - val_loss: 0.5247 - val_accuracy: 0.7355\n",
            "Epoch 62/100\n",
            "236/243 [============================>.] - ETA: 0s - loss: 1.9040 - accuracy: 0.7136\n",
            "Epoch 62: val_accuracy did not improve from 0.75553\n",
            "243/243 [==============================] - 1s 5ms/step - loss: 1.8989 - accuracy: 0.7119 - val_loss: 0.5200 - val_accuracy: 0.7452\n",
            "Epoch 63/100\n",
            "240/243 [============================>.] - ETA: 0s - loss: 1.8884 - accuracy: 0.7154\n",
            "Epoch 63: val_accuracy did not improve from 0.75553\n",
            "243/243 [==============================] - 1s 5ms/step - loss: 1.8826 - accuracy: 0.7159 - val_loss: 0.5044 - val_accuracy: 0.7468\n",
            "Epoch 64/100\n",
            "235/243 [============================>.] - ETA: 0s - loss: 1.9333 - accuracy: 0.7093\n",
            "Epoch 64: val_accuracy did not improve from 0.75553\n",
            "243/243 [==============================] - 1s 5ms/step - loss: 1.9374 - accuracy: 0.7085 - val_loss: 0.5208 - val_accuracy: 0.7365\n",
            "Epoch 65/100\n",
            "235/243 [============================>.] - ETA: 0s - loss: 1.8632 - accuracy: 0.7161\n",
            "Epoch 65: val_accuracy did not improve from 0.75553\n",
            "243/243 [==============================] - 1s 5ms/step - loss: 1.8609 - accuracy: 0.7168 - val_loss: 0.5029 - val_accuracy: 0.7550\n",
            "Epoch 66/100\n",
            "242/243 [============================>.] - ETA: 0s - loss: 1.9301 - accuracy: 0.7163\n",
            "Epoch 66: val_accuracy did not improve from 0.75553\n",
            "243/243 [==============================] - 1s 5ms/step - loss: 1.9290 - accuracy: 0.7163 - val_loss: 0.5233 - val_accuracy: 0.7360\n",
            "Epoch 67/100\n",
            "243/243 [==============================] - ETA: 0s - loss: 1.9244 - accuracy: 0.7150\n",
            "Epoch 67: val_accuracy did not improve from 0.75553\n",
            "243/243 [==============================] - 1s 5ms/step - loss: 1.9244 - accuracy: 0.7150 - val_loss: 0.5085 - val_accuracy: 0.7478\n",
            "Epoch 68/100\n",
            "238/243 [============================>.] - ETA: 0s - loss: 1.9247 - accuracy: 0.7113\n",
            "Epoch 68: val_accuracy did not improve from 0.75553\n",
            "243/243 [==============================] - 1s 5ms/step - loss: 1.9163 - accuracy: 0.7112 - val_loss: 0.5372 - val_accuracy: 0.7252\n",
            "Epoch 69/100\n",
            "242/243 [============================>.] - ETA: 0s - loss: 1.9003 - accuracy: 0.7070\n",
            "Epoch 69: val_accuracy did not improve from 0.75553\n",
            "243/243 [==============================] - 1s 5ms/step - loss: 1.9032 - accuracy: 0.7072 - val_loss: 0.5123 - val_accuracy: 0.7499\n",
            "Epoch 70/100\n",
            "236/243 [============================>.] - ETA: 0s - loss: 1.8579 - accuracy: 0.7137\n",
            "Epoch 70: val_accuracy did not improve from 0.75553\n",
            "243/243 [==============================] - 1s 5ms/step - loss: 1.8749 - accuracy: 0.7133 - val_loss: 0.5088 - val_accuracy: 0.7401\n",
            "Epoch 71/100\n",
            "241/243 [============================>.] - ETA: 0s - loss: 1.9641 - accuracy: 0.7136\n",
            "Epoch 71: val_accuracy did not improve from 0.75553\n",
            "243/243 [==============================] - 1s 5ms/step - loss: 1.9661 - accuracy: 0.7139 - val_loss: 0.5131 - val_accuracy: 0.7375\n",
            "Epoch 72/100\n",
            "242/243 [============================>.] - ETA: 0s - loss: 1.8624 - accuracy: 0.7177\n",
            "Epoch 72: val_accuracy did not improve from 0.75553\n",
            "243/243 [==============================] - 1s 5ms/step - loss: 1.8661 - accuracy: 0.7170 - val_loss: 0.5067 - val_accuracy: 0.7463\n",
            "Epoch 73/100\n",
            "235/243 [============================>.] - ETA: 0s - loss: 1.8612 - accuracy: 0.7144\n",
            "Epoch 73: val_accuracy did not improve from 0.75553\n",
            "243/243 [==============================] - 1s 5ms/step - loss: 1.8627 - accuracy: 0.7142 - val_loss: 0.5041 - val_accuracy: 0.7519\n",
            "Epoch 74/100\n",
            "237/243 [============================>.] - ETA: 0s - loss: 1.9320 - accuracy: 0.7123\n",
            "Epoch 74: val_accuracy did not improve from 0.75553\n",
            "243/243 [==============================] - 1s 5ms/step - loss: 1.9325 - accuracy: 0.7131 - val_loss: 0.5367 - val_accuracy: 0.7267\n",
            "Epoch 75/100\n",
            "240/243 [============================>.] - ETA: 0s - loss: 1.8503 - accuracy: 0.7199\n",
            "Epoch 75: val_accuracy did not improve from 0.75553\n",
            "243/243 [==============================] - 1s 5ms/step - loss: 1.8576 - accuracy: 0.7191 - val_loss: 0.5061 - val_accuracy: 0.7540\n",
            "Epoch 76/100\n",
            "234/243 [===========================>..] - ETA: 0s - loss: 1.9406 - accuracy: 0.7115\n",
            "Epoch 76: val_accuracy did not improve from 0.75553\n",
            "243/243 [==============================] - 1s 5ms/step - loss: 1.9511 - accuracy: 0.7112 - val_loss: 0.5076 - val_accuracy: 0.7473\n",
            "Epoch 77/100\n",
            "239/243 [============================>.] - ETA: 0s - loss: 1.9067 - accuracy: 0.7178\n",
            "Epoch 77: val_accuracy did not improve from 0.75553\n",
            "243/243 [==============================] - 1s 5ms/step - loss: 1.9022 - accuracy: 0.7188 - val_loss: 0.4979 - val_accuracy: 0.7540\n",
            "Epoch 78/100\n",
            "237/243 [============================>.] - ETA: 0s - loss: 1.9698 - accuracy: 0.7093\n",
            "Epoch 78: val_accuracy did not improve from 0.75553\n",
            "243/243 [==============================] - 1s 5ms/step - loss: 1.9847 - accuracy: 0.7088 - val_loss: 0.5111 - val_accuracy: 0.7452\n",
            "Epoch 79/100\n",
            "234/243 [===========================>..] - ETA: 0s - loss: 1.9673 - accuracy: 0.7087\n",
            "Epoch 79: val_accuracy did not improve from 0.75553\n",
            "243/243 [==============================] - 1s 5ms/step - loss: 1.9877 - accuracy: 0.7078 - val_loss: 0.4993 - val_accuracy: 0.7530\n",
            "Epoch 80/100\n",
            "239/243 [============================>.] - ETA: 0s - loss: 1.9031 - accuracy: 0.7108\n",
            "Epoch 80: val_accuracy did not improve from 0.75553\n",
            "243/243 [==============================] - 1s 5ms/step - loss: 1.8900 - accuracy: 0.7117 - val_loss: 0.5066 - val_accuracy: 0.7514\n",
            "Epoch 81/100\n",
            "241/243 [============================>.] - ETA: 0s - loss: 1.9507 - accuracy: 0.7130\n",
            "Epoch 81: val_accuracy did not improve from 0.75553\n",
            "243/243 [==============================] - 1s 5ms/step - loss: 1.9445 - accuracy: 0.7135 - val_loss: 0.5017 - val_accuracy: 0.7488\n",
            "Epoch 82/100\n",
            "232/243 [===========================>..] - ETA: 0s - loss: 1.9002 - accuracy: 0.7192\n",
            "Epoch 82: val_accuracy did not improve from 0.75553\n",
            "243/243 [==============================] - 1s 5ms/step - loss: 1.9083 - accuracy: 0.7175 - val_loss: 0.5114 - val_accuracy: 0.7452\n",
            "Epoch 83/100\n",
            "239/243 [============================>.] - ETA: 0s - loss: 1.9116 - accuracy: 0.7189\n",
            "Epoch 83: val_accuracy did not improve from 0.75553\n",
            "243/243 [==============================] - 1s 5ms/step - loss: 1.9055 - accuracy: 0.7188 - val_loss: 0.5420 - val_accuracy: 0.7303\n",
            "Epoch 84/100\n",
            "234/243 [===========================>..] - ETA: 0s - loss: 1.9010 - accuracy: 0.7127\n",
            "Epoch 84: val_accuracy did not improve from 0.75553\n",
            "243/243 [==============================] - 1s 5ms/step - loss: 1.8972 - accuracy: 0.7121 - val_loss: 0.5071 - val_accuracy: 0.7437\n",
            "Epoch 85/100\n",
            "233/243 [===========================>..] - ETA: 0s - loss: 1.9748 - accuracy: 0.7145\n",
            "Epoch 85: val_accuracy did not improve from 0.75553\n",
            "243/243 [==============================] - 1s 6ms/step - loss: 1.9780 - accuracy: 0.7137 - val_loss: 0.5097 - val_accuracy: 0.7499\n",
            "Epoch 86/100\n",
            "234/243 [===========================>..] - ETA: 0s - loss: 2.0188 - accuracy: 0.7111\n",
            "Epoch 86: val_accuracy did not improve from 0.75553\n",
            "243/243 [==============================] - 1s 5ms/step - loss: 2.0147 - accuracy: 0.7114 - val_loss: 0.5045 - val_accuracy: 0.7540\n",
            "Epoch 87/100\n",
            "241/243 [============================>.] - ETA: 0s - loss: 1.9025 - accuracy: 0.7138\n",
            "Epoch 87: val_accuracy did not improve from 0.75553\n",
            "243/243 [==============================] - 1s 5ms/step - loss: 1.9014 - accuracy: 0.7137 - val_loss: 0.5156 - val_accuracy: 0.7401\n",
            "Epoch 88/100\n",
            "233/243 [===========================>..] - ETA: 0s - loss: 1.8740 - accuracy: 0.7145\n",
            "Epoch 88: val_accuracy did not improve from 0.75553\n",
            "243/243 [==============================] - 1s 5ms/step - loss: 1.8821 - accuracy: 0.7139 - val_loss: 0.4982 - val_accuracy: 0.7545\n",
            "Epoch 89/100\n",
            "234/243 [===========================>..] - ETA: 0s - loss: 1.8229 - accuracy: 0.7246\n",
            "Epoch 89: val_accuracy did not improve from 0.75553\n",
            "243/243 [==============================] - 1s 6ms/step - loss: 1.8220 - accuracy: 0.7253 - val_loss: 0.5043 - val_accuracy: 0.7540\n",
            "Epoch 90/100\n",
            "235/243 [============================>.] - ETA: 0s - loss: 1.9282 - accuracy: 0.7201\n",
            "Epoch 90: val_accuracy did not improve from 0.75553\n",
            "243/243 [==============================] - 1s 5ms/step - loss: 1.9255 - accuracy: 0.7199 - val_loss: 0.5217 - val_accuracy: 0.7380\n",
            "Epoch 91/100\n",
            "239/243 [============================>.] - ETA: 0s - loss: 1.9111 - accuracy: 0.7204\n",
            "Epoch 91: val_accuracy did not improve from 0.75553\n",
            "243/243 [==============================] - 1s 5ms/step - loss: 1.9154 - accuracy: 0.7198 - val_loss: 0.5129 - val_accuracy: 0.7447\n",
            "Epoch 92/100\n",
            "243/243 [==============================] - ETA: 0s - loss: 1.9741 - accuracy: 0.7105\n",
            "Epoch 92: val_accuracy did not improve from 0.75553\n",
            "243/243 [==============================] - 1s 5ms/step - loss: 1.9741 - accuracy: 0.7105 - val_loss: 0.5067 - val_accuracy: 0.7540\n",
            "Epoch 93/100\n",
            "239/243 [============================>.] - ETA: 0s - loss: 1.9780 - accuracy: 0.7156\n",
            "Epoch 93: val_accuracy did not improve from 0.75553\n",
            "243/243 [==============================] - 1s 6ms/step - loss: 1.9776 - accuracy: 0.7153 - val_loss: 0.5006 - val_accuracy: 0.7555\n",
            "Epoch 94/100\n",
            "234/243 [===========================>..] - ETA: 0s - loss: 1.9646 - accuracy: 0.7186\n",
            "Epoch 94: val_accuracy did not improve from 0.75553\n",
            "243/243 [==============================] - 1s 5ms/step - loss: 1.9739 - accuracy: 0.7184 - val_loss: 0.4993 - val_accuracy: 0.7550\n",
            "Epoch 95/100\n",
            "237/243 [============================>.] - ETA: 0s - loss: 1.9158 - accuracy: 0.7160\n",
            "Epoch 95: val_accuracy did not improve from 0.75553\n",
            "243/243 [==============================] - 1s 5ms/step - loss: 1.9250 - accuracy: 0.7164 - val_loss: 0.4978 - val_accuracy: 0.7488\n",
            "Epoch 96/100\n",
            "236/243 [============================>.] - ETA: 0s - loss: 1.9485 - accuracy: 0.7173\n",
            "Epoch 96: val_accuracy did not improve from 0.75553\n",
            "243/243 [==============================] - 1s 5ms/step - loss: 1.9501 - accuracy: 0.7175 - val_loss: 0.5005 - val_accuracy: 0.7535\n",
            "Epoch 97/100\n",
            "236/243 [============================>.] - ETA: 0s - loss: 1.8731 - accuracy: 0.7198\n",
            "Epoch 97: val_accuracy did not improve from 0.75553\n",
            "243/243 [==============================] - 1s 5ms/step - loss: 1.8712 - accuracy: 0.7208 - val_loss: 0.5269 - val_accuracy: 0.7236\n",
            "Epoch 98/100\n",
            "234/243 [===========================>..] - ETA: 0s - loss: 1.9030 - accuracy: 0.7175\n",
            "Epoch 98: val_accuracy did not improve from 0.75553\n",
            "243/243 [==============================] - 1s 5ms/step - loss: 1.8846 - accuracy: 0.7179 - val_loss: 0.5125 - val_accuracy: 0.7483\n",
            "Epoch 99/100\n",
            "234/243 [===========================>..] - ETA: 0s - loss: 1.9793 - accuracy: 0.7133\n",
            "Epoch 99: val_accuracy did not improve from 0.75553\n",
            "243/243 [==============================] - 1s 5ms/step - loss: 1.9955 - accuracy: 0.7121 - val_loss: 0.5068 - val_accuracy: 0.7499\n",
            "Epoch 100/100\n",
            "233/243 [===========================>..] - ETA: 0s - loss: 1.9273 - accuracy: 0.7149\n",
            "Epoch 100: val_accuracy did not improve from 0.75553\n",
            "243/243 [==============================] - 1s 5ms/step - loss: 1.9144 - accuracy: 0.7157 - val_loss: 0.5033 - val_accuracy: 0.7494\n"
          ]
        }
      ]
    },
    {
      "cell_type": "code",
      "source": [
        "# Displaying the Accuracy of the model in each epoch \n",
        "import matplotlib.pyplot as plt\n",
        "plt.plot(history.history['accuracy'])\n",
        "plt.plot(history.history['val_accuracy'])\n",
        "plt.title('Model Accuracy')\n",
        "plt.xlabel('Epochs')\n",
        "plt.ylabel('Accuracy')\n",
        "plt.legend(['Train','Test'], loc = 'upper_left')\n",
        "plt.show()"
      ],
      "metadata": {
        "colab": {
          "base_uri": "https://localhost:8080/",
          "height": 553
        },
        "outputId": "fdf2ec5a-9c9d-4e55-df77-eea5308bf4ea",
        "id": "TfwSuBa5BwoZ"
      },
      "execution_count": null,
      "outputs": [
        {
          "output_type": "stream",
          "name": "stderr",
          "text": [
            "/usr/local/lib/python3.7/dist-packages/ipykernel_launcher.py:7: MatplotlibDeprecationWarning: Unrecognized location 'upper_left'. Falling back on 'best'; valid locations are\n",
            "\tbest\n",
            "\tupper right\n",
            "\tupper left\n",
            "\tlower left\n",
            "\tlower right\n",
            "\tright\n",
            "\tcenter left\n",
            "\tcenter right\n",
            "\tlower center\n",
            "\tupper center\n",
            "\tcenter\n",
            "This will raise an exception in 3.3.\n",
            "  import sys\n"
          ]
        },
        {
          "output_type": "display_data",
          "data": {
            "text/plain": [
              "<Figure size 432x288 with 1 Axes>"
            ],
            "image/png": "[encoded data removed]"
          },
          "metadata": {
            "needs_background": "light"
          }
        }
      ]
    },
    {
      "cell_type": "code",
      "source": [
        "# Perform Prediction using x_text, saving the prediction value into y_pred\n",
        "classifier.load_weights('Best_model.hdf5')\n",
        "y_pred = classifier.predict(x_test)\n",
        "y_pred = (y_pred > 0.5)\n",
        "y_pred"
      ],
      "metadata": {
        "colab": {
          "base_uri": "https://localhost:8080/"
        },
        "outputId": "18dbe03a-68d2-4d94-eabe-532290153940",
        "id": "QHqcMwkXBwoZ"
      },
      "execution_count": null,
      "outputs": [
        {
          "output_type": "execute_result",
          "data": {
            "text/plain": [
              "array([[ True],\n",
              "       [False],\n",
              "       [False],\n",
              "       ...,\n",
              "       [False],\n",
              "       [False],\n",
              "       [ True]])"
            ]
          },
          "metadata": {},
          "execution_count": 97
        }
      ]
    },
    {
      "cell_type": "code",
      "source": [
        "# STEP 11: (Evaluate Result)\n",
        "# Evaluate Model by Accuracy, Precision, Recall and F1 Score\n",
        "#\n",
        "# The accuracy of the model is 0.755 which is within the acceptable range\n",
        "# Same go towards the other score such as\n",
        "# precison -> 0.756\n",
        "# recall -> 0.744\n",
        "# F1 score -> 0.75\n",
        "from sklearn.metrics import accuracy_score, precision_score, recall_score, f1_score, classification_report\n",
        "print('Accuracy of MLP Classifier: ', accuracy_score(y_test, y_pred))\n",
        "print('Precision of MLP Classifier: ', precision_score(y_test, y_pred, average = 'binary'))\n",
        "print('Recall of MLP Classifier: ', recall_score(y_test, y_pred, average = 'binary'))\n",
        "print('F1 Score of MLP Classifier: ', f1_score(y_test, y_pred, average = 'binary'))"
      ],
      "metadata": {
        "colab": {
          "base_uri": "https://localhost:8080/"
        },
        "outputId": "298bd172-777c-4980-94b1-bdff4fdfc5bf",
        "id": "xSYI_ZGOBwoa"
      },
      "execution_count": null,
      "outputs": [
        {
          "output_type": "stream",
          "name": "stdout",
          "text": [
            "Accuracy of MLP Classifier:  0.7555326814204838\n",
            "Precision of MLP Classifier:  0.7563559322033898\n",
            "Recall of MLP Classifier:  0.7445255474452555\n",
            "F1 Score of MLP Classifier:  0.7503941145559642\n"
          ]
        }
      ]
    },
    {
      "cell_type": "code",
      "source": [
        "# print out the similar result on accuracy, precision, recall and F1 score using the classification report\n",
        "print(classification_report(y_test, y_pred))"
      ],
      "metadata": {
        "colab": {
          "base_uri": "https://localhost:8080/"
        },
        "outputId": "4534f04e-dac9-4686-faa5-81a79d3cbc44",
        "id": "29YclHA9Bwoa"
      },
      "execution_count": null,
      "outputs": [
        {
          "output_type": "stream",
          "name": "stdout",
          "text": [
            "              precision    recall  f1-score   support\n",
            "\n",
            "           0       0.75      0.77      0.76       984\n",
            "           1       0.76      0.74      0.75       959\n",
            "\n",
            "    accuracy                           0.76      1943\n",
            "   macro avg       0.76      0.76      0.76      1943\n",
            "weighted avg       0.76      0.76      0.76      1943\n",
            "\n"
          ]
        }
      ]
    },
    {
      "cell_type": "code",
      "source": [
        "# Find out the value of TP, TF, FP, FF\n",
        "# where the value will then show in the heatmpa in the following code\n",
        "from sklearn.metrics import confusion_matrix, classification_report\n",
        "cmap = confusion_matrix (y_test, y_pred)\n",
        "cmap"
      ],
      "metadata": {
        "colab": {
          "base_uri": "https://localhost:8080/"
        },
        "outputId": "fe057424-e121-4b94-a17c-3e48e34458de",
        "id": "7uPzMPMfBwoa"
      },
      "execution_count": null,
      "outputs": [
        {
          "output_type": "execute_result",
          "data": {
            "text/plain": [
              "array([[754, 230],\n",
              "       [245, 714]])"
            ]
          },
          "metadata": {},
          "execution_count": 108
        }
      ]
    },
    {
      "cell_type": "code",
      "source": [
        "# use to plot a heatmpa graph to show the value of TP, TF, FP, FF\n",
        "fig, ax = plt.subplots()\n",
        "\n",
        "sns.heatmap(pd.DataFrame(cmap), annot=True, cmap=\"YlGnBu\" ,fmt='g')\n",
        "ax.xaxis.set_label_position(\"top\")\n",
        "plt.tight_layout()\n",
        "plt.title('Confusion matrix', y=1.1)\n",
        "plt.ylabel('Actual label')\n",
        "plt.xlabel('Predicted label')"
      ],
      "metadata": {
        "colab": {
          "base_uri": "https://localhost:8080/",
          "height": 343
        },
        "outputId": "78700361-29ac-4c69-86cd-660539d1f0e2",
        "id": "BjkouDCVBwoa"
      },
      "execution_count": null,
      "outputs": [
        {
          "output_type": "execute_result",
          "data": {
            "text/plain": [
              "Text(0.5, 257.44, 'Predicted label')"
            ]
          },
          "metadata": {},
          "execution_count": 109
        },
        {
          "output_type": "display_data",
          "data": {
            "text/plain": [
              "<Figure size 432x288 with 2 Axes>"
            ],
            "image/png": "[encoded data removed]"
          },
          "metadata": {
            "needs_background": "light"
          }
        }
      ]
    },
    {
      "cell_type": "code",
      "source": [
        "# use to create the ROC curve graph (Receiver Operating Characteristic Curve graph)\n",
        "# use to determine the AUC (Area Under the ROC Curve)\n",
        "# the higher the value for ROC, the more accurate the model is\n",
        "# the AUC value is 0.76 which within the acceptable range\n",
        "import sklearn.metrics as metrics\n",
        "FP, TP, threshold = metrics.roc_curve(y_test, y_pred)\n",
        "roc_auc = metrics.auc(FP, TP)\n",
        "\n",
        "import matplotlib.pyplot as plt\n",
        "plt.subplots(1, figsize = (7, 7))\n",
        "plt.title('ROC') # Receiver Operating Characteristic\n",
        "plt.plot(FP, TP, label = 'DNN_AUC = %0.2f' % roc_auc)\n",
        "plt.plot([0, 1], ls = '--')\n",
        "plt.xlabel(\"True Positive\")\n",
        "plt.ylabel(\"False Positive\")\n",
        "plt.legend()"
      ],
      "metadata": {
        "colab": {
          "base_uri": "https://localhost:8080/",
          "height": 476
        },
        "outputId": "0e549f6a-80da-40e3-b470-509f89bb76b3",
        "id": "il89JrGVBwoa"
      },
      "execution_count": null,
      "outputs": [
        {
          "output_type": "execute_result",
          "data": {
            "text/plain": [
              "<matplotlib.legend.Legend at 0x7fb80357a150>"
            ]
          },
          "metadata": {},
          "execution_count": 100
        },
        {
          "output_type": "display_data",
          "data": {
            "text/plain": [
              "<Figure size 504x504 with 1 Axes>"
            ],
            "image/png": "[encoded data removed]"
          },
          "metadata": {
            "needs_background": "light"
          }
        }
      ]
    },
    {
      "cell_type": "code",
      "source": [
        "#pip install scikeras[tensorflow]\n",
        "# to install scikeras to perform gridsearchcv"
      ],
      "metadata": {
        "colab": {
          "base_uri": "https://localhost:8080/"
        },
        "outputId": "040039c5-38f9-4730-e437-3abc062b136d",
        "id": "qvg0BixtBwoa"
      },
      "execution_count": null,
      "outputs": [
        {
          "output_type": "stream",
          "name": "stdout",
          "text": [
            "Looking in indexes: https://pypi.org/simple, https://us-python.pkg.dev/colab-wheels/public/simple/\n",
            "Requirement already satisfied: scikeras[tensorflow] in /usr/local/lib/python3.7/dist-packages (0.9.0)\n",
            "Requirement already satisfied: scikit-learn>=1.0.0 in /usr/local/lib/python3.7/dist-packages (from scikeras[tensorflow]) (1.0.2)\n",
            "Requirement already satisfied: importlib-metadata>=3 in /usr/local/lib/python3.7/dist-packages (from scikeras[tensorflow]) (4.12.0)\n",
            "Requirement already satisfied: packaging>=0.21 in /usr/local/lib/python3.7/dist-packages (from scikeras[tensorflow]) (21.3)\n",
            "Requirement already satisfied: tensorflow>=2.7.0 in /usr/local/lib/python3.7/dist-packages (from scikeras[tensorflow]) (2.8.2+zzzcolab20220719082949)\n",
            "Requirement already satisfied: typing-extensions>=3.6.4 in /usr/local/lib/python3.7/dist-packages (from importlib-metadata>=3->scikeras[tensorflow]) (4.1.1)\n",
            "Requirement already satisfied: zipp>=0.5 in /usr/local/lib/python3.7/dist-packages (from importlib-metadata>=3->scikeras[tensorflow]) (3.8.1)\n",
            "Requirement already satisfied: pyparsing!=3.0.5,>=2.0.2 in /usr/local/lib/python3.7/dist-packages (from packaging>=0.21->scikeras[tensorflow]) (3.0.9)\n",
            "Requirement already satisfied: numpy>=1.14.6 in /usr/local/lib/python3.7/dist-packages (from scikit-learn>=1.0.0->scikeras[tensorflow]) (1.21.6)\n",
            "Requirement already satisfied: threadpoolctl>=2.0.0 in /usr/local/lib/python3.7/dist-packages (from scikit-learn>=1.0.0->scikeras[tensorflow]) (3.1.0)\n",
            "Requirement already satisfied: scipy>=1.1.0 in /usr/local/lib/python3.7/dist-packages (from scikit-learn>=1.0.0->scikeras[tensorflow]) (1.7.3)\n",
            "Requirement already satisfied: joblib>=0.11 in /usr/local/lib/python3.7/dist-packages (from scikit-learn>=1.0.0->scikeras[tensorflow]) (1.1.0)\n",
            "Requirement already satisfied: termcolor>=1.1.0 in /usr/local/lib/python3.7/dist-packages (from tensorflow>=2.7.0->scikeras[tensorflow]) (1.1.0)\n",
            "Requirement already satisfied: six>=1.12.0 in /usr/local/lib/python3.7/dist-packages (from tensorflow>=2.7.0->scikeras[tensorflow]) (1.15.0)\n",
            "Requirement already satisfied: opt-einsum>=2.3.2 in /usr/local/lib/python3.7/dist-packages (from tensorflow>=2.7.0->scikeras[tensorflow]) (3.3.0)\n",
            "Requirement already satisfied: tensorflow-estimator<2.9,>=2.8 in /usr/local/lib/python3.7/dist-packages (from tensorflow>=2.7.0->scikeras[tensorflow]) (2.8.0)\n",
            "Requirement already satisfied: astunparse>=1.6.0 in /usr/local/lib/python3.7/dist-packages (from tensorflow>=2.7.0->scikeras[tensorflow]) (1.6.3)\n",
            "Requirement already satisfied: libclang>=9.0.1 in /usr/local/lib/python3.7/dist-packages (from tensorflow>=2.7.0->scikeras[tensorflow]) (14.0.6)\n",
            "Requirement already satisfied: tensorboard<2.9,>=2.8 in /usr/local/lib/python3.7/dist-packages (from tensorflow>=2.7.0->scikeras[tensorflow]) (2.8.0)\n",
            "Requirement already satisfied: tensorflow-io-gcs-filesystem>=0.23.1 in /usr/local/lib/python3.7/dist-packages (from tensorflow>=2.7.0->scikeras[tensorflow]) (0.26.0)\n",
            "Requirement already satisfied: h5py>=2.9.0 in /usr/local/lib/python3.7/dist-packages (from tensorflow>=2.7.0->scikeras[tensorflow]) (3.1.0)\n",
            "Requirement already satisfied: setuptools in /usr/local/lib/python3.7/dist-packages (from tensorflow>=2.7.0->scikeras[tensorflow]) (57.4.0)\n",
            "Requirement already satisfied: keras<2.9,>=2.8.0rc0 in /usr/local/lib/python3.7/dist-packages (from tensorflow>=2.7.0->scikeras[tensorflow]) (2.8.0)\n",
            "Requirement already satisfied: flatbuffers>=1.12 in /usr/local/lib/python3.7/dist-packages (from tensorflow>=2.7.0->scikeras[tensorflow]) (2.0)\n",
            "Requirement already satisfied: google-pasta>=0.1.1 in /usr/local/lib/python3.7/dist-packages (from tensorflow>=2.7.0->scikeras[tensorflow]) (0.2.0)\n",
            "Requirement already satisfied: keras-preprocessing>=1.1.1 in /usr/local/lib/python3.7/dist-packages (from tensorflow>=2.7.0->scikeras[tensorflow]) (1.1.2)\n",
            "Requirement already satisfied: wrapt>=1.11.0 in /usr/local/lib/python3.7/dist-packages (from tensorflow>=2.7.0->scikeras[tensorflow]) (1.14.1)\n",
            "Requirement already satisfied: protobuf<3.20,>=3.9.2 in /usr/local/lib/python3.7/dist-packages (from tensorflow>=2.7.0->scikeras[tensorflow]) (3.17.3)\n",
            "Requirement already satisfied: grpcio<2.0,>=1.24.3 in /usr/local/lib/python3.7/dist-packages (from tensorflow>=2.7.0->scikeras[tensorflow]) (1.47.0)\n",
            "Requirement already satisfied: gast>=0.2.1 in /usr/local/lib/python3.7/dist-packages (from tensorflow>=2.7.0->scikeras[tensorflow]) (0.5.3)\n",
            "Requirement already satisfied: absl-py>=0.4.0 in /usr/local/lib/python3.7/dist-packages (from tensorflow>=2.7.0->scikeras[tensorflow]) (1.2.0)\n",
            "Requirement already satisfied: wheel<1.0,>=0.23.0 in /usr/local/lib/python3.7/dist-packages (from astunparse>=1.6.0->tensorflow>=2.7.0->scikeras[tensorflow]) (0.37.1)\n",
            "Requirement already satisfied: cached-property in /usr/local/lib/python3.7/dist-packages (from h5py>=2.9.0->tensorflow>=2.7.0->scikeras[tensorflow]) (1.5.2)\n",
            "Requirement already satisfied: requests<3,>=2.21.0 in /usr/local/lib/python3.7/dist-packages (from tensorboard<2.9,>=2.8->tensorflow>=2.7.0->scikeras[tensorflow]) (2.23.0)\n",
            "Requirement already satisfied: google-auth-oauthlib<0.5,>=0.4.1 in /usr/local/lib/python3.7/dist-packages (from tensorboard<2.9,>=2.8->tensorflow>=2.7.0->scikeras[tensorflow]) (0.4.6)\n",
            "Requirement already satisfied: tensorboard-plugin-wit>=1.6.0 in /usr/local/lib/python3.7/dist-packages (from tensorboard<2.9,>=2.8->tensorflow>=2.7.0->scikeras[tensorflow]) (1.8.1)\n",
            "Requirement already satisfied: markdown>=2.6.8 in /usr/local/lib/python3.7/dist-packages (from tensorboard<2.9,>=2.8->tensorflow>=2.7.0->scikeras[tensorflow]) (3.4.1)\n",
            "Requirement already satisfied: werkzeug>=0.11.15 in /usr/local/lib/python3.7/dist-packages (from tensorboard<2.9,>=2.8->tensorflow>=2.7.0->scikeras[tensorflow]) (1.0.1)\n",
            "Requirement already satisfied: google-auth<3,>=1.6.3 in /usr/local/lib/python3.7/dist-packages (from tensorboard<2.9,>=2.8->tensorflow>=2.7.0->scikeras[tensorflow]) (1.35.0)\n",
            "Requirement already satisfied: tensorboard-data-server<0.7.0,>=0.6.0 in /usr/local/lib/python3.7/dist-packages (from tensorboard<2.9,>=2.8->tensorflow>=2.7.0->scikeras[tensorflow]) (0.6.1)\n",
            "Requirement already satisfied: cachetools<5.0,>=2.0.0 in /usr/local/lib/python3.7/dist-packages (from google-auth<3,>=1.6.3->tensorboard<2.9,>=2.8->tensorflow>=2.7.0->scikeras[tensorflow]) (4.2.4)\n",
            "Requirement already satisfied: pyasn1-modules>=0.2.1 in /usr/local/lib/python3.7/dist-packages (from google-auth<3,>=1.6.3->tensorboard<2.9,>=2.8->tensorflow>=2.7.0->scikeras[tensorflow]) (0.2.8)\n",
            "Requirement already satisfied: rsa<5,>=3.1.4 in /usr/local/lib/python3.7/dist-packages (from google-auth<3,>=1.6.3->tensorboard<2.9,>=2.8->tensorflow>=2.7.0->scikeras[tensorflow]) (4.9)\n",
            "Requirement already satisfied: requests-oauthlib>=0.7.0 in /usr/local/lib/python3.7/dist-packages (from google-auth-oauthlib<0.5,>=0.4.1->tensorboard<2.9,>=2.8->tensorflow>=2.7.0->scikeras[tensorflow]) (1.3.1)\n",
            "Requirement already satisfied: pyasn1<0.5.0,>=0.4.6 in /usr/local/lib/python3.7/dist-packages (from pyasn1-modules>=0.2.1->google-auth<3,>=1.6.3->tensorboard<2.9,>=2.8->tensorflow>=2.7.0->scikeras[tensorflow]) (0.4.8)\n",
            "Requirement already satisfied: chardet<4,>=3.0.2 in /usr/local/lib/python3.7/dist-packages (from requests<3,>=2.21.0->tensorboard<2.9,>=2.8->tensorflow>=2.7.0->scikeras[tensorflow]) (3.0.4)\n",
            "Requirement already satisfied: certifi>=2017.4.17 in /usr/local/lib/python3.7/dist-packages (from requests<3,>=2.21.0->tensorboard<2.9,>=2.8->tensorflow>=2.7.0->scikeras[tensorflow]) (2022.6.15)\n",
            "Requirement already satisfied: idna<3,>=2.5 in /usr/local/lib/python3.7/dist-packages (from requests<3,>=2.21.0->tensorboard<2.9,>=2.8->tensorflow>=2.7.0->scikeras[tensorflow]) (2.10)\n",
            "Requirement already satisfied: urllib3!=1.25.0,!=1.25.1,<1.26,>=1.21.1 in /usr/local/lib/python3.7/dist-packages (from requests<3,>=2.21.0->tensorboard<2.9,>=2.8->tensorflow>=2.7.0->scikeras[tensorflow]) (1.24.3)\n",
            "Requirement already satisfied: oauthlib>=3.0.0 in /usr/local/lib/python3.7/dist-packages (from requests-oauthlib>=0.7.0->google-auth-oauthlib<0.5,>=0.4.1->tensorboard<2.9,>=2.8->tensorflow>=2.7.0->scikeras[tensorflow]) (3.2.0)\n"
          ]
        }
      ]
    },
    {
      "cell_type": "code",
      "source": [
        "# to perform gridCVSearch for Hyperparameter tuning\n",
        "# in order to be able run, the model buidling is created using a function\n",
        "def build_model():\n",
        "\n",
        "  classifier = Sequential()\n",
        "\n",
        "  # define the IL and first HL\n",
        "  classifier.add(Dense(units = 350, kernel_initializer = \"random_normal\", activation = 'relu', input_dim = 6)) #number of neurons for the hidden layer\n",
        "  classifier.add(Dropout(0.2)) # preventing overfitting\n",
        "\n",
        "  # define another HL with 250 unit and Dropout of 0.2\n",
        "  classifier.add(Dense(units = 250,  kernel_initializer = \"random_normal\", activation = 'relu'))\n",
        "  classifier.add(Dropout(0.2)) # preventing overfitting\n",
        "\n",
        "  # OL\n",
        "  classifier.add(Dense(units = 1,  kernel_initializer = \"random_normal\", activation = 'sigmoid')) # TV is binary\n",
        "  classifier.add(Dropout(0.2)) # preventing overfitting\n",
        "\n",
        "  # compile\n",
        "  classifier.compile(optimizer= \"adam\", loss = \"binary_crossentropy\", metrics = [\"accuracy\"])\n",
        "\n",
        "  return classifier\n",
        "\n",
        "# importing the libraries that is needed\n",
        "from scikeras.wrappers import KerasClassifier\n",
        "from sklearn.model_selection import GridSearchCV\n",
        "\n",
        "# saved the prebuild DNN into model variable\n",
        "model = KerasClassifier(model = build_model, verbose = 2)\n",
        "\n",
        "# the parameter that is going to be tuning include batch_size, epochs, and shuffle\n",
        "batch_size = [16, 32, 64, 128]\n",
        "epochs = [50, 100, 150]\n",
        "shuffle = [True, False]\n",
        "\n",
        "# add all the value into the dictionary\n",
        "param_grid = dict()\n",
        "param_grid['batch_size'] = batch_size\n",
        "param_grid['epochs'] = epochs\n",
        "param_grid['shuffle'] = shuffle\n",
        "\n",
        "# perform GridSearch adn build the model accordingly to the best parameter\n",
        "DNN_grid = GridSearchCV(model, param_grid, cv = 5, n_jobs = -1, verbose = 1)\n",
        "\n",
        "# perform data fitting where the model will be trained using the train data under the best hyperparameter\n",
        "DNN_grid = DNN_grid.fit(x_train, y_train)\n",
        "\n",
        "print(DNN_grid.best_params_)\n",
        "print(DNN_grid.best_score_)"
      ],
      "metadata": {
        "colab": {
          "base_uri": "https://localhost:8080/",
          "height": 417
        },
        "outputId": "93bf0861-3912-452d-a4dc-e2561c1dd3bf",
        "id": "KLv9VeCKBwoa"
      },
      "execution_count": null,
      "outputs": [
        {
          "metadata": {
            "tags": null
          },
          "name": "stdout",
          "output_type": "stream",
          "text": [
            "Fitting 5 folds for each of 24 candidates, totalling 120 fits\n"
          ]
        },
        {
          "output_type": "error",
          "ename": "KeyboardInterrupt",
          "evalue": "ignored",
          "traceback": [
            "\u001b[0;31m---------------------------------------------------------------------------\u001b[0m",
            "\u001b[0;31mKeyboardInterrupt\u001b[0m                         Traceback (most recent call last)",
            "\u001b[0;32m<ipython-input-112-6d564c11a4c9>\u001b[0m in \u001b[0;36m<module>\u001b[0;34m()\u001b[0m\n\u001b[1;32m     36\u001b[0m \u001b[0mDNN_grid\u001b[0m \u001b[0;34m=\u001b[0m \u001b[0mGridSearchCV\u001b[0m\u001b[0;34m(\u001b[0m\u001b[0mmodel\u001b[0m\u001b[0;34m,\u001b[0m \u001b[0mparam_grid\u001b[0m\u001b[0;34m,\u001b[0m \u001b[0mcv\u001b[0m \u001b[0;34m=\u001b[0m \u001b[0;36m5\u001b[0m\u001b[0;34m,\u001b[0m \u001b[0mn_jobs\u001b[0m \u001b[0;34m=\u001b[0m \u001b[0;34m-\u001b[0m\u001b[0;36m1\u001b[0m\u001b[0;34m,\u001b[0m \u001b[0mverbose\u001b[0m \u001b[0;34m=\u001b[0m \u001b[0;36m1\u001b[0m\u001b[0;34m)\u001b[0m\u001b[0;34m\u001b[0m\u001b[0;34m\u001b[0m\u001b[0m\n\u001b[1;32m     37\u001b[0m \u001b[0;34m\u001b[0m\u001b[0m\n\u001b[0;32m---> 38\u001b[0;31m \u001b[0mDNN_grid\u001b[0m \u001b[0;34m=\u001b[0m \u001b[0mDNN_grid\u001b[0m\u001b[0;34m.\u001b[0m\u001b[0mfit\u001b[0m\u001b[0;34m(\u001b[0m\u001b[0mx_train\u001b[0m\u001b[0;34m,\u001b[0m \u001b[0my_train\u001b[0m\u001b[0;34m)\u001b[0m\u001b[0;34m\u001b[0m\u001b[0;34m\u001b[0m\u001b[0m\n\u001b[0m\u001b[1;32m     39\u001b[0m \u001b[0;34m\u001b[0m\u001b[0m\n\u001b[1;32m     40\u001b[0m \u001b[0mprint\u001b[0m\u001b[0;34m(\u001b[0m\u001b[0mDNN_grid\u001b[0m\u001b[0;34m.\u001b[0m\u001b[0mbest_params_\u001b[0m\u001b[0;34m)\u001b[0m\u001b[0;34m\u001b[0m\u001b[0;34m\u001b[0m\u001b[0m\n",
            "\u001b[0;32m/usr/local/lib/python3.7/dist-packages/sklearn/model_selection/_search.py\u001b[0m in \u001b[0;36mfit\u001b[0;34m(self, X, y, groups, **fit_params)\u001b[0m\n\u001b[1;32m    889\u001b[0m                 \u001b[0;32mreturn\u001b[0m \u001b[0mresults\u001b[0m\u001b[0;34m\u001b[0m\u001b[0;34m\u001b[0m\u001b[0m\n\u001b[1;32m    890\u001b[0m \u001b[0;34m\u001b[0m\u001b[0m\n\u001b[0;32m--> 891\u001b[0;31m             \u001b[0mself\u001b[0m\u001b[0;34m.\u001b[0m\u001b[0m_run_search\u001b[0m\u001b[0;34m(\u001b[0m\u001b[0mevaluate_candidates\u001b[0m\u001b[0;34m)\u001b[0m\u001b[0;34m\u001b[0m\u001b[0;34m\u001b[0m\u001b[0m\n\u001b[0m\u001b[1;32m    892\u001b[0m \u001b[0;34m\u001b[0m\u001b[0m\n\u001b[1;32m    893\u001b[0m             \u001b[0;31m# multimetric is determined here because in the case of a callable\u001b[0m\u001b[0;34m\u001b[0m\u001b[0;34m\u001b[0m\u001b[0;34m\u001b[0m\u001b[0m\n",
            "\u001b[0;32m/usr/local/lib/python3.7/dist-packages/sklearn/model_selection/_search.py\u001b[0m in \u001b[0;36m_run_search\u001b[0;34m(self, evaluate_candidates)\u001b[0m\n\u001b[1;32m   1390\u001b[0m     \u001b[0;32mdef\u001b[0m \u001b[0m_run_search\u001b[0m\u001b[0;34m(\u001b[0m\u001b[0mself\u001b[0m\u001b[0;34m,\u001b[0m \u001b[0mevaluate_candidates\u001b[0m\u001b[0;34m)\u001b[0m\u001b[0;34m:\u001b[0m\u001b[0;34m\u001b[0m\u001b[0;34m\u001b[0m\u001b[0m\n\u001b[1;32m   1391\u001b[0m         \u001b[0;34m\"\"\"Search all candidates in param_grid\"\"\"\u001b[0m\u001b[0;34m\u001b[0m\u001b[0;34m\u001b[0m\u001b[0m\n\u001b[0;32m-> 1392\u001b[0;31m         \u001b[0mevaluate_candidates\u001b[0m\u001b[0;34m(\u001b[0m\u001b[0mParameterGrid\u001b[0m\u001b[0;34m(\u001b[0m\u001b[0mself\u001b[0m\u001b[0;34m.\u001b[0m\u001b[0mparam_grid\u001b[0m\u001b[0;34m)\u001b[0m\u001b[0;34m)\u001b[0m\u001b[0;34m\u001b[0m\u001b[0;34m\u001b[0m\u001b[0m\n\u001b[0m\u001b[1;32m   1393\u001b[0m \u001b[0;34m\u001b[0m\u001b[0m\n\u001b[1;32m   1394\u001b[0m \u001b[0;34m\u001b[0m\u001b[0m\n",
            "\u001b[0;32m/usr/local/lib/python3.7/dist-packages/sklearn/model_selection/_search.py\u001b[0m in \u001b[0;36mevaluate_candidates\u001b[0;34m(candidate_params, cv, more_results)\u001b[0m\n\u001b[1;32m    849\u001b[0m                     )\n\u001b[1;32m    850\u001b[0m                     for (cand_idx, parameters), (split_idx, (train, test)) in product(\n\u001b[0;32m--> 851\u001b[0;31m                         \u001b[0menumerate\u001b[0m\u001b[0;34m(\u001b[0m\u001b[0mcandidate_params\u001b[0m\u001b[0;34m)\u001b[0m\u001b[0;34m,\u001b[0m \u001b[0menumerate\u001b[0m\u001b[0;34m(\u001b[0m\u001b[0mcv\u001b[0m\u001b[0;34m.\u001b[0m\u001b[0msplit\u001b[0m\u001b[0;34m(\u001b[0m\u001b[0mX\u001b[0m\u001b[0;34m,\u001b[0m \u001b[0my\u001b[0m\u001b[0;34m,\u001b[0m \u001b[0mgroups\u001b[0m\u001b[0;34m)\u001b[0m\u001b[0;34m)\u001b[0m\u001b[0;34m\u001b[0m\u001b[0;34m\u001b[0m\u001b[0m\n\u001b[0m\u001b[1;32m    852\u001b[0m                     )\n\u001b[1;32m    853\u001b[0m                 )\n",
            "\u001b[0;32m/usr/local/lib/python3.7/dist-packages/joblib/parallel.py\u001b[0m in \u001b[0;36m__call__\u001b[0;34m(self, iterable)\u001b[0m\n\u001b[1;32m   1054\u001b[0m \u001b[0;34m\u001b[0m\u001b[0m\n\u001b[1;32m   1055\u001b[0m             \u001b[0;32mwith\u001b[0m \u001b[0mself\u001b[0m\u001b[0;34m.\u001b[0m\u001b[0m_backend\u001b[0m\u001b[0;34m.\u001b[0m\u001b[0mretrieval_context\u001b[0m\u001b[0;34m(\u001b[0m\u001b[0;34m)\u001b[0m\u001b[0;34m:\u001b[0m\u001b[0;34m\u001b[0m\u001b[0;34m\u001b[0m\u001b[0m\n\u001b[0;32m-> 1056\u001b[0;31m                 \u001b[0mself\u001b[0m\u001b[0;34m.\u001b[0m\u001b[0mretrieve\u001b[0m\u001b[0;34m(\u001b[0m\u001b[0;34m)\u001b[0m\u001b[0;34m\u001b[0m\u001b[0;34m\u001b[0m\u001b[0m\n\u001b[0m\u001b[1;32m   1057\u001b[0m             \u001b[0;31m# Make sure that we get a last message telling us we are done\u001b[0m\u001b[0;34m\u001b[0m\u001b[0;34m\u001b[0m\u001b[0;34m\u001b[0m\u001b[0m\n\u001b[1;32m   1058\u001b[0m             \u001b[0melapsed_time\u001b[0m \u001b[0;34m=\u001b[0m \u001b[0mtime\u001b[0m\u001b[0;34m.\u001b[0m\u001b[0mtime\u001b[0m\u001b[0;34m(\u001b[0m\u001b[0;34m)\u001b[0m \u001b[0;34m-\u001b[0m \u001b[0mself\u001b[0m\u001b[0;34m.\u001b[0m\u001b[0m_start_time\u001b[0m\u001b[0;34m\u001b[0m\u001b[0;34m\u001b[0m\u001b[0m\n",
            "\u001b[0;32m/usr/local/lib/python3.7/dist-packages/joblib/parallel.py\u001b[0m in \u001b[0;36mretrieve\u001b[0;34m(self)\u001b[0m\n\u001b[1;32m    933\u001b[0m             \u001b[0;32mtry\u001b[0m\u001b[0;34m:\u001b[0m\u001b[0;34m\u001b[0m\u001b[0;34m\u001b[0m\u001b[0m\n\u001b[1;32m    934\u001b[0m                 \u001b[0;32mif\u001b[0m \u001b[0mgetattr\u001b[0m\u001b[0;34m(\u001b[0m\u001b[0mself\u001b[0m\u001b[0;34m.\u001b[0m\u001b[0m_backend\u001b[0m\u001b[0;34m,\u001b[0m \u001b[0;34m'supports_timeout'\u001b[0m\u001b[0;34m,\u001b[0m \u001b[0;32mFalse\u001b[0m\u001b[0;34m)\u001b[0m\u001b[0;34m:\u001b[0m\u001b[0;34m\u001b[0m\u001b[0;34m\u001b[0m\u001b[0m\n\u001b[0;32m--> 935\u001b[0;31m                     \u001b[0mself\u001b[0m\u001b[0;34m.\u001b[0m\u001b[0m_output\u001b[0m\u001b[0;34m.\u001b[0m\u001b[0mextend\u001b[0m\u001b[0;34m(\u001b[0m\u001b[0mjob\u001b[0m\u001b[0;34m.\u001b[0m\u001b[0mget\u001b[0m\u001b[0;34m(\u001b[0m\u001b[0mtimeout\u001b[0m\u001b[0;34m=\u001b[0m\u001b[0mself\u001b[0m\u001b[0;34m.\u001b[0m\u001b[0mtimeout\u001b[0m\u001b[0;34m)\u001b[0m\u001b[0;34m)\u001b[0m\u001b[0;34m\u001b[0m\u001b[0;34m\u001b[0m\u001b[0m\n\u001b[0m\u001b[1;32m    936\u001b[0m                 \u001b[0;32melse\u001b[0m\u001b[0;34m:\u001b[0m\u001b[0;34m\u001b[0m\u001b[0;34m\u001b[0m\u001b[0m\n\u001b[1;32m    937\u001b[0m                     \u001b[0mself\u001b[0m\u001b[0;34m.\u001b[0m\u001b[0m_output\u001b[0m\u001b[0;34m.\u001b[0m\u001b[0mextend\u001b[0m\u001b[0;34m(\u001b[0m\u001b[0mjob\u001b[0m\u001b[0;34m.\u001b[0m\u001b[0mget\u001b[0m\u001b[0;34m(\u001b[0m\u001b[0;34m)\u001b[0m\u001b[0;34m)\u001b[0m\u001b[0;34m\u001b[0m\u001b[0;34m\u001b[0m\u001b[0m\n",
            "\u001b[0;32m/usr/local/lib/python3.7/dist-packages/joblib/_parallel_backends.py\u001b[0m in \u001b[0;36mwrap_future_result\u001b[0;34m(future, timeout)\u001b[0m\n\u001b[1;32m    540\u001b[0m         AsyncResults.get from multiprocessing.\"\"\"\n\u001b[1;32m    541\u001b[0m         \u001b[0;32mtry\u001b[0m\u001b[0;34m:\u001b[0m\u001b[0;34m\u001b[0m\u001b[0;34m\u001b[0m\u001b[0m\n\u001b[0;32m--> 542\u001b[0;31m             \u001b[0;32mreturn\u001b[0m \u001b[0mfuture\u001b[0m\u001b[0;34m.\u001b[0m\u001b[0mresult\u001b[0m\u001b[0;34m(\u001b[0m\u001b[0mtimeout\u001b[0m\u001b[0;34m=\u001b[0m\u001b[0mtimeout\u001b[0m\u001b[0;34m)\u001b[0m\u001b[0;34m\u001b[0m\u001b[0;34m\u001b[0m\u001b[0m\n\u001b[0m\u001b[1;32m    543\u001b[0m         \u001b[0;32mexcept\u001b[0m \u001b[0mCfTimeoutError\u001b[0m \u001b[0;32mas\u001b[0m \u001b[0me\u001b[0m\u001b[0;34m:\u001b[0m\u001b[0;34m\u001b[0m\u001b[0;34m\u001b[0m\u001b[0m\n\u001b[1;32m    544\u001b[0m             \u001b[0;32mraise\u001b[0m \u001b[0mTimeoutError\u001b[0m \u001b[0;32mfrom\u001b[0m \u001b[0me\u001b[0m\u001b[0;34m\u001b[0m\u001b[0;34m\u001b[0m\u001b[0m\n",
            "\u001b[0;32m/usr/lib/python3.7/concurrent/futures/_base.py\u001b[0m in \u001b[0;36mresult\u001b[0;34m(self, timeout)\u001b[0m\n\u001b[1;32m    428\u001b[0m                 \u001b[0;32mreturn\u001b[0m \u001b[0mself\u001b[0m\u001b[0;34m.\u001b[0m\u001b[0m__get_result\u001b[0m\u001b[0;34m(\u001b[0m\u001b[0;34m)\u001b[0m\u001b[0;34m\u001b[0m\u001b[0;34m\u001b[0m\u001b[0m\n\u001b[1;32m    429\u001b[0m \u001b[0;34m\u001b[0m\u001b[0m\n\u001b[0;32m--> 430\u001b[0;31m             \u001b[0mself\u001b[0m\u001b[0;34m.\u001b[0m\u001b[0m_condition\u001b[0m\u001b[0;34m.\u001b[0m\u001b[0mwait\u001b[0m\u001b[0;34m(\u001b[0m\u001b[0mtimeout\u001b[0m\u001b[0;34m)\u001b[0m\u001b[0;34m\u001b[0m\u001b[0;34m\u001b[0m\u001b[0m\n\u001b[0m\u001b[1;32m    431\u001b[0m \u001b[0;34m\u001b[0m\u001b[0m\n\u001b[1;32m    432\u001b[0m             \u001b[0;32mif\u001b[0m \u001b[0mself\u001b[0m\u001b[0;34m.\u001b[0m\u001b[0m_state\u001b[0m \u001b[0;32min\u001b[0m \u001b[0;34m[\u001b[0m\u001b[0mCANCELLED\u001b[0m\u001b[0;34m,\u001b[0m \u001b[0mCANCELLED_AND_NOTIFIED\u001b[0m\u001b[0;34m]\u001b[0m\u001b[0;34m:\u001b[0m\u001b[0;34m\u001b[0m\u001b[0;34m\u001b[0m\u001b[0m\n",
            "\u001b[0;32m/usr/lib/python3.7/threading.py\u001b[0m in \u001b[0;36mwait\u001b[0;34m(self, timeout)\u001b[0m\n\u001b[1;32m    294\u001b[0m         \u001b[0;32mtry\u001b[0m\u001b[0;34m:\u001b[0m    \u001b[0;31m# restore state no matter what (e.g., KeyboardInterrupt)\u001b[0m\u001b[0;34m\u001b[0m\u001b[0;34m\u001b[0m\u001b[0m\n\u001b[1;32m    295\u001b[0m             \u001b[0;32mif\u001b[0m \u001b[0mtimeout\u001b[0m \u001b[0;32mis\u001b[0m \u001b[0;32mNone\u001b[0m\u001b[0;34m:\u001b[0m\u001b[0;34m\u001b[0m\u001b[0;34m\u001b[0m\u001b[0m\n\u001b[0;32m--> 296\u001b[0;31m                 \u001b[0mwaiter\u001b[0m\u001b[0;34m.\u001b[0m\u001b[0macquire\u001b[0m\u001b[0;34m(\u001b[0m\u001b[0;34m)\u001b[0m\u001b[0;34m\u001b[0m\u001b[0;34m\u001b[0m\u001b[0m\n\u001b[0m\u001b[1;32m    297\u001b[0m                 \u001b[0mgotit\u001b[0m \u001b[0;34m=\u001b[0m \u001b[0;32mTrue\u001b[0m\u001b[0;34m\u001b[0m\u001b[0;34m\u001b[0m\u001b[0m\n\u001b[1;32m    298\u001b[0m             \u001b[0;32melse\u001b[0m\u001b[0;34m:\u001b[0m\u001b[0;34m\u001b[0m\u001b[0;34m\u001b[0m\u001b[0m\n",
            "\u001b[0;31mKeyboardInterrupt\u001b[0m: "
          ]
        }
      ]
    },
    {
      "cell_type": "code",
      "source": [
        "# Perform Prediction using x_text for the new tuned model, saving the prediction value into y_pred_best\n",
        "y_pred_best = DNN_grid.best_estimator_.predict(x_test)\n",
        "y_pred_best = (y_pred_best > 0.5)\n",
        "y_pred_best"
      ],
      "metadata": {
        "colab": {
          "base_uri": "https://localhost:8080/"
        },
        "outputId": "082fec70-3313-4f6f-8adb-121952cbbd1c",
        "id": "d_WQ4KxsBwob"
      },
      "execution_count": null,
      "outputs": [
        {
          "output_type": "execute_result",
          "data": {
            "text/plain": [
              "array([ True, False, False, ..., False,  True, False])"
            ]
          },
          "metadata": {},
          "execution_count": 115
        }
      ]
    },
    {
      "cell_type": "code",
      "source": [
        "# Evaluate the Tuned Model by Accuracy, Precision, Recall and F1 Score\n",
        "#\n",
        "# The accuracy of the model is 0.748 which is within the acceptable range but it has dropped compared to the original model\n",
        "# Same go towards the other score such as\n",
        "# precison -> 0.783 (increase)\n",
        "# recall -> 0.678 (decrease)\n",
        "# F1 score -> 0.72 (decrease)\n",
        "from sklearn.metrics import accuracy_score, precision_score, recall_score, f1_score, classification_report\n",
        "print('Accuracy of MLP Classifier: ', accuracy_score(y_test, y_pred_best))\n",
        "print('Precision of MLP Classifier: ', precision_score(y_test, y_pred_best, average = 'binary'))\n",
        "print('Recall of MLP Classifier: ', recall_score(y_test, y_pred_best, average = 'binary'))\n",
        "print('F1 Score of MLP Classifier: ', f1_score(y_test, y_pred_best, average = 'binary'))"
      ],
      "metadata": {
        "colab": {
          "base_uri": "https://localhost:8080/"
        },
        "outputId": "cb69c603-3772-401a-f734-0883f331282e",
        "id": "0TGfECOxBwob"
      },
      "execution_count": null,
      "outputs": [
        {
          "output_type": "stream",
          "name": "stdout",
          "text": [
            "Accuracy of MLP Classifier:  0.7488419969119917\n",
            "Precision of MLP Classifier:  0.7833935018050542\n",
            "Recall of MLP Classifier:  0.6788321167883211\n",
            "F1 Score of MLP Classifier:  0.7273743016759776\n"
          ]
        }
      ]
    },
    {
      "cell_type": "code",
      "source": [
        "# print out the similar result on accuracy, precision, recall and F1 score using the classification report for tuned model\n",
        "print(classification_report(y_test, y_pred_best))"
      ],
      "metadata": {
        "outputId": "d980e984-cba9-4f78-aa46-7e9dc4e8e088",
        "colab": {
          "base_uri": "https://localhost:8080/"
        },
        "id": "opBnlWIZBwob"
      },
      "execution_count": null,
      "outputs": [
        {
          "output_type": "stream",
          "name": "stdout",
          "text": [
            "              precision    recall  f1-score   support\n",
            "\n",
            "           0       0.72      0.82      0.77       984\n",
            "           1       0.78      0.68      0.73       959\n",
            "\n",
            "    accuracy                           0.75      1943\n",
            "   macro avg       0.75      0.75      0.75      1943\n",
            "weighted avg       0.75      0.75      0.75      1943\n",
            "\n"
          ]
        }
      ]
    },
    {
      "cell_type": "code",
      "source": [
        "# Find out the value of TP, TF, FP, FF\n",
        "# where the value will then show in the heatmap in the following code\n",
        "newcmap = confusion_matrix (y_test, y_pred_best)\n",
        "newcmap"
      ],
      "metadata": {
        "colab": {
          "base_uri": "https://localhost:8080/"
        },
        "outputId": "aeebc30c-f155-406e-eaa0-024632303d24",
        "id": "G99MSZfsBwob"
      },
      "execution_count": null,
      "outputs": [
        {
          "output_type": "execute_result",
          "data": {
            "text/plain": [
              "array([[804, 180],\n",
              "       [308, 651]])"
            ]
          },
          "metadata": {},
          "execution_count": 110
        }
      ]
    },
    {
      "cell_type": "code",
      "source": [
        "# use to plot a heatmpa graph to show the value of TP, TF, FP, FF\n",
        "fig, ax = plt.subplots()\n",
        "\n",
        "sns.heatmap(pd.DataFrame(newcmap), annot=True, cmap=\"YlGnBu\" ,fmt='g')\n",
        "ax.xaxis.set_label_position(\"top\")\n",
        "plt.tight_layout()\n",
        "plt.title('Confusion matrix', y=1.1)\n",
        "plt.ylabel('Actual label')\n",
        "plt.xlabel('Predicted label')"
      ],
      "metadata": {
        "colab": {
          "base_uri": "https://localhost:8080/",
          "height": 341
        },
        "outputId": "087e2422-3094-4f96-8f2f-908e0a66744c",
        "id": "fjzh7HwEBwob"
      },
      "execution_count": null,
      "outputs": [
        {
          "output_type": "execute_result",
          "data": {
            "text/plain": [
              "Text(0.5, 257.44, 'Predicted label')"
            ]
          },
          "metadata": {},
          "execution_count": 111
        },
        {
          "output_type": "display_data",
          "data": {
            "text/plain": [
              "<Figure size 432x288 with 2 Axes>"
            ],
            "image/png": "[encoded data removed]"
          },
          "metadata": {
            "needs_background": "light"
          }
        }
      ]
    },
    {
      "cell_type": "code",
      "source": [
        "# use to create the ROC curve graph (Receiver Operating Characteristic Curve graph)\n",
        "# use to determine the AUC (Area Under the ROC Curve)\n",
        "# the higher the value for ROC, the more accurate the model is\n",
        "# the AUC value is 0.75 which has been dropped compare to the initial model (0.76)\n",
        "# but it is still acceptable as it is within the acceptable range.\n",
        "import sklearn.metrics as metrics\n",
        "FP, TP, threshold = metrics.roc_curve(y_test, y_pred_best)\n",
        "roc_auc = metrics.auc(FP, TP)\n",
        "\n",
        "import matplotlib.pyplot as plt\n",
        "plt.subplots(1, figsize = (7, 7))\n",
        "plt.title('ROC') # Receiver Operating Characteristic\n",
        "plt.plot(FP, TP, label = 'DNN_AUC = %0.2f' % roc_auc)\n",
        "plt.plot([0, 1], ls = '--')\n",
        "plt.xlabel(\"True Positive\")\n",
        "plt.ylabel(\"False Positive\")\n",
        "plt.legend()"
      ],
      "metadata": {
        "colab": {
          "base_uri": "https://localhost:8080/",
          "height": 476
        },
        "outputId": "d857cfac-0663-454c-9596-06c9cf747032",
        "id": "vfIGTCxxBwob"
      },
      "execution_count": null,
      "outputs": [
        {
          "output_type": "execute_result",
          "data": {
            "text/plain": [
              "<matplotlib.legend.Legend at 0x7fb86502b9d0>"
            ]
          },
          "metadata": {},
          "execution_count": 105
        },
        {
          "output_type": "display_data",
          "data": {
            "text/plain": [
              "<Figure size 504x504 with 1 Axes>"
            ],
            "image/png": "[encoded data removed]"
          },
          "metadata": {
            "needs_background": "light"
          }
        }
      ]
    }
  ]
}